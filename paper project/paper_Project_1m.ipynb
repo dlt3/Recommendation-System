{
 "cells": [
  {
   "cell_type": "code",
   "execution_count": 1,
   "id": "composed-perspective",
   "metadata": {},
   "outputs": [],
   "source": [
    "import math \n",
    "import numpy as np\n",
    "import pandas as pd\n",
    "from tqdm.notebook import tqdm\n",
    "from collections import defaultdict\n",
    "import torch.optim as optim\n",
    "import os\n",
    "\n",
    "\n",
    "import torch \n",
    "import torch.nn as nn\n",
    "import torch.nn.functional as F\n",
    "from torch.utils.data import Dataset, DataLoader\n",
    "\n",
    "from time import time\n",
    "\n",
    "import warnings\n",
    "\n",
    "import random\n",
    "\n",
    "from tqdm import tqdm\n",
    "import seaborn as sns\n",
    "import matplotlib.pyplot as plt\n",
    "warnings.filterwarnings(action = 'ignore')"
   ]
  },
  {
   "cell_type": "code",
   "execution_count": 2,
   "id": "guilty-housing",
   "metadata": {},
   "outputs": [],
   "source": [
    "SEED = 123\n",
    "def seed_everything(seed=123):\n",
    "    random.seed(seed)\n",
    "    os.environ['PYTHONHASHSEED'] = str(seed)\n",
    "    np.random.seed(seed)\n",
    "    torch.manual_seed(seed)\n",
    "    torch.cuda.manual_seed(seed)\n",
    "seed_everything(SEED)"
   ]
  },
  {
   "cell_type": "code",
   "execution_count": 3,
   "id": "electrical-wednesday",
   "metadata": {},
   "outputs": [],
   "source": [
    "device = 'cuda'"
   ]
  },
  {
   "cell_type": "code",
   "execution_count": 4,
   "id": "blond-butterfly",
   "metadata": {},
   "outputs": [],
   "source": [
    "def load_data_1m(path='./', delimiter='::', frac=0.1, seed=1234):\n",
    "\n",
    "    tic = time()\n",
    "    print('reading data...')\n",
    "    data = np.loadtxt(path+'ratings.dat', skiprows=0, delimiter=delimiter, encoding='latin-1').astype('int32')\n",
    "    print(data)\n",
    "#     print(data[data[:,2] == 0])\n",
    "    print('taken', time() - tic, 'seconds')\n",
    "\n",
    "    n_u = np.unique(data[:,0]).size  # num of users\n",
    "    n_m = np.unique(data[:,1]).size  # num of movies\n",
    "    n_r = data.shape[0]  # num of ratings\n",
    "\n",
    "    udict = {}\n",
    "    for i, u in enumerate(np.unique(data[:,0]).tolist()):\n",
    "        udict[u] = i\n",
    "    mdict = {}\n",
    "    for i, m in enumerate(np.unique(data[:,1]).tolist()):\n",
    "        mdict[m] = i\n",
    "\n",
    "    np.random.seed(seed)\n",
    "    idx = np.arange(n_r)\n",
    "    np.random.shuffle(idx)\n",
    "\n",
    "    train_r = np.zeros((n_m, n_u), dtype='float32')\n",
    "    test_r = np.zeros((n_m, n_u), dtype='float32')\n",
    "    train_user = []\n",
    "    train_item = []\n",
    "    train_rating = []\n",
    "    test_user = []\n",
    "    test_item = []\n",
    "    test_rating = []\n",
    "    \n",
    "    for i in range(n_r):\n",
    "        u_id = data[idx[i], 0]\n",
    "        m_id = data[idx[i], 1]\n",
    "        r = data[idx[i], 2]\n",
    "\n",
    "        if i < int(frac * n_r):\n",
    "            test_r[mdict[m_id], udict[u_id]] = r\n",
    "            test_user.append(udict[u_id])\n",
    "            test_item.append(mdict[m_id])\n",
    "            test_rating.append(r)\n",
    "            \n",
    "        else:\n",
    "            train_r[mdict[m_id], udict[u_id]] = r\n",
    "            train_user.append(udict[u_id])\n",
    "            train_item.append(mdict[m_id])\n",
    "            train_rating.append(r)\n",
    "\n",
    "    train_m = np.greater(train_r, 1e-12).astype('float32')  # masks indicating non-zero entries\n",
    "    test_m = np.greater(test_r, 1e-12).astype('float32')\n",
    "    train_user = np.array(train_user).astype('float32') \n",
    "    train_item = np.array(train_item).astype('float32')\n",
    "    train_rating = np.array(train_rating).astype('float32')\n",
    "    test_user = np.array(test_user).astype('float32') \n",
    "    test_item = np.array(test_item).astype('float32') \n",
    "    test_rating = np.array(test_rating).astype('float32')\n",
    "    \n",
    "    \n",
    "    \n",
    "    print('data matrix loaded')\n",
    "    print('num of users: {}'.format(n_u))\n",
    "    print('num of movies: {}'.format(n_m))\n",
    "    print('num of training ratings: {}'.format(n_r - int(frac * n_r)))\n",
    "    print('num of test ratings: {}'.format(int(frac * n_r)))\n",
    "\n",
    "    return n_m, n_u, train_r, train_m, test_r, test_m, train_user, train_item, train_rating, test_user, test_item, test_rating"
   ]
  },
  {
   "cell_type": "code",
   "execution_count": 5,
   "id": "worst-accused",
   "metadata": {},
   "outputs": [
    {
     "name": "stdout",
     "output_type": "stream",
     "text": [
      "reading data...\n",
      "[[        1      1193         5 978300760]\n",
      " [        1       661         3 978302109]\n",
      " [        1       914         3 978301968]\n",
      " ...\n",
      " [     6040       562         5 956704746]\n",
      " [     6040      1096         4 956715648]\n",
      " [     6040      1097         4 956715569]]\n",
      "taken 5.376123428344727 seconds\n",
      "data matrix loaded\n",
      "num of users: 6040\n",
      "num of movies: 3706\n",
      "num of training ratings: 900189\n",
      "num of test ratings: 100020\n"
     ]
    }
   ],
   "source": [
    "path = '/Linux/Data/recommendation/ml-1m/'\n",
    "n_m, n_u, train_r, train_m, test_r, test_m, train_user, train_item, train_rating, test_user, test_item, test_rating = load_data_1m(path=path, delimiter='::', frac=0.1, seed=1234)\n"
   ]
  },
  {
   "cell_type": "code",
   "execution_count": 6,
   "id": "conscious-distribution",
   "metadata": {},
   "outputs": [],
   "source": [
    "items = torch.LongTensor(train_item)\n",
    "users = torch.LongTensor(train_user)\n",
    "ratings = torch.FloatTensor(train_rating)\n",
    "items_test = torch.LongTensor(test_item)\n",
    "users_test = torch.LongTensor(test_user)\n",
    "ratings_test = torch.FloatTensor(test_rating)"
   ]
  },
  {
   "cell_type": "code",
   "execution_count": 7,
   "id": "temporal-asset",
   "metadata": {},
   "outputs": [],
   "source": [
    "train_1 = pd.read_csv('../ml-100k/ua.base',sep='\\t', header=None, names=['userId', 'itemId', 'rating','timestamp'])\n",
    "test_1 = pd.read_csv('../ml-100k/ua.test',sep='\\t', header=None, names=['userId', 'itemId', 'rating','timestamp'])\n",
    "train_2 = pd.read_csv('../ml-100k/ub.base',sep='\\t', header=None, names=['userId', 'itemId', 'rating','timestamp'])\n",
    "test_2 = pd.read_csv('../ml-100k/ub.test',sep='\\t', header=None, names=['userId', 'itemId', 'rating','timestamp'])"
   ]
  },
  {
   "cell_type": "code",
   "execution_count": 8,
   "id": "vulnerable-monroe",
   "metadata": {},
   "outputs": [
    {
     "data": {
      "text/plain": [
       "(900189, 900189, 900189)"
      ]
     },
     "execution_count": 8,
     "metadata": {},
     "output_type": "execute_result"
    }
   ],
   "source": [
    "len(items), len(users), len(ratings)"
   ]
  },
  {
   "cell_type": "code",
   "execution_count": 9,
   "id": "positive-agreement",
   "metadata": {},
   "outputs": [],
   "source": [
    "# rank = 10\n",
    "\n",
    "numItems = 3706\n",
    "numUsers = 6040\n",
    "\n",
    "# P = torch.randn(numItems, rank, requires_grad=True)\n",
    "# Q = torch.randn(numUsers, rank, requires_grad=True)"
   ]
  },
  {
   "cell_type": "code",
   "execution_count": 10,
   "id": "narrative-broadcast",
   "metadata": {},
   "outputs": [],
   "source": [
    "n_gaussians = 1\n",
    "# n_hidden = 128\n",
    "rank = 20\n",
    "# reg_p = [1/n_gaussians] * n_gaussians\n",
    "# reg_p = [0.8, 0.2]"
   ]
  },
  {
   "cell_type": "code",
   "execution_count": 11,
   "id": "little-blair",
   "metadata": {},
   "outputs": [],
   "source": [
    "oneDivSqrtTwoPI = 1.0 / np.sqrt(2.0*np.pi)\n",
    "def gaussian_distribution(y, mu, sigma):\n",
    "    result = (y.expand_as(mu) - mu) * torch.reciprocal(sigma)\n",
    "    result = -0.5 * (result * result)\n",
    "    return (torch.exp(result) * torch.reciprocal(sigma)) * oneDivSqrtTwoPI"
   ]
  },
  {
   "cell_type": "code",
   "execution_count": 12,
   "id": "liked-improvement",
   "metadata": {},
   "outputs": [],
   "source": [
    "def mdn_loss_fn(pi, sigma, mu, y):\n",
    "    result = gaussian_distribution(y, mu, sigma) * F.softmax(pi)\n",
    "    result = torch.sum(result, dim=1)\n",
    "    result = -torch.log(result+ 1e-6)\n",
    "    return torch.mean(result)"
   ]
  },
  {
   "cell_type": "code",
   "execution_count": 13,
   "id": "distinct-projection",
   "metadata": {},
   "outputs": [],
   "source": [
    "# def regularization(p, k):\n",
    "#     minus = torch.zeros(1,k)\n",
    "#     result = []\n",
    "#     for i in range(k):\n",
    "#         minus[:,i] = 1\n",
    "#         result.append(torch.mean(F.softmax(p), axis = 0) - minus)\n",
    "#         minus = torch.zeros(1,k)\n",
    "#     result = torch.sum(torch.square(torch.cat(result)))\n",
    "#     return result"
   ]
  },
  {
   "cell_type": "code",
   "execution_count": 14,
   "id": "decent-immigration",
   "metadata": {},
   "outputs": [],
   "source": [
    "def regularization(p, k):\n",
    "    result = torch.mean(F.softmax(p), axis = 0) - torch.Tensor(k).to(device)\n",
    "    result = torch.sum(torch.square(result))\n",
    "    return result"
   ]
  },
  {
   "cell_type": "code",
   "execution_count": 15,
   "id": "introductory-eagle",
   "metadata": {},
   "outputs": [],
   "source": [
    "import torch\n",
    "import torch.nn as nn\n",
    "\n",
    "class PosLinear(nn.Module):\n",
    "    def __init__(self, in_dim, out_dim):\n",
    "        super(PosLinear, self).__init__()\n",
    "        self.weight = nn.Parameter(torch.randn((in_dim, out_dim)))\n",
    "        self.bias = nn.Parameter(torch.zeros((out_dim,)))\n",
    "        \n",
    "    def forward(self, x):\n",
    "        return torch.matmul(x, torch.abs(self.weight)) + torch.abs(self.bias)"
   ]
  },
  {
   "cell_type": "code",
   "execution_count": 16,
   "id": "patient-nightmare",
   "metadata": {},
   "outputs": [],
   "source": [
    "layers_mean = PosLinear(rank, n_gaussians).to(device)\n",
    "# layers_mean = nn.Sequential(\n",
    "#             nn.Linear(rank, 128),\n",
    "#             nn.Tanh(),\n",
    "#             nn.Linear(128, n_gaussians)\n",
    "# ).to(device)\n",
    "# layers_mean = nn.Sequential(\n",
    "#             PosLinear(rank, 128),\n",
    "#             PosLinear(128, n_gaussians)\n",
    "# ).to(device)\n",
    "numItems = items.max() + 1\n",
    "numUsers = users.max() + 1\n",
    "P = torch.nn.Parameter(torch.nn.init.orthogonal_(torch.empty(numItems, rank)).to(device), requires_grad=True)\n",
    "Q = torch.nn.Parameter(torch.nn.init.orthogonal_(torch.empty(numUsers, rank)).to(device), requires_grad=True)\n"
   ]
  },
  {
   "cell_type": "code",
   "execution_count": 17,
   "id": "sonic-money",
   "metadata": {},
   "outputs": [],
   "source": [
    "Y = torch.nn.Parameter(torch.nn.init.orthogonal_(torch.empty(numUsers, rank)).to(device), requires_grad=True)"
   ]
  },
  {
   "cell_type": "code",
   "execution_count": 18,
   "id": "second-sandwich",
   "metadata": {},
   "outputs": [
    {
     "data": {
      "text/plain": [
       "(torch.Size([3706, 20]), torch.Size([6040, 20]))"
      ]
     },
     "execution_count": 18,
     "metadata": {},
     "output_type": "execute_result"
    }
   ],
   "source": [
    "P.shape, Q.shape"
   ]
  },
  {
   "cell_type": "code",
   "execution_count": 19,
   "id": "reasonable-static",
   "metadata": {},
   "outputs": [],
   "source": [
    "# lambda1 = 0.0001\n",
    "# lambda2 = 0.0001\n",
    "# lambda3 = 0.1\n",
    "# optimizer_P = torch.optim.Adam([P] + list(layers_mean.parameters()), lr= 1e-3)\n",
    "# optimizer_Q = torch.optim.Adam([Q] + list(layers_mean.parameters()), lr= 1e-3)"
   ]
  },
  {
   "cell_type": "code",
   "execution_count": 20,
   "id": "emotional-placement",
   "metadata": {},
   "outputs": [],
   "source": [
    "# bias_item = torch.randn(numItems, requires_grad = True)\n",
    "# bias_user = torch.randn(numUsers, requires_grad = True)"
   ]
  },
  {
   "cell_type": "code",
   "execution_count": 21,
   "id": "dynamic-simple",
   "metadata": {},
   "outputs": [],
   "source": [
    "# mean = (ratings.sum()/len(ratings)).item()"
   ]
  },
  {
   "cell_type": "code",
   "execution_count": 22,
   "id": "revised-parks",
   "metadata": {},
   "outputs": [],
   "source": [
    "bi = torch.nn.Parameter(torch.randn(numItems, requires_grad = True))\n",
    "bu = torch.nn.Parameter(torch.randn(numUsers, requires_grad = True))"
   ]
  },
  {
   "cell_type": "code",
   "execution_count": 23,
   "id": "flush-staff",
   "metadata": {},
   "outputs": [],
   "source": [
    "train_r1 = np.where(train_r == 0, 0, 1)\n",
    "train_r2 = torch.from_numpy(train_r1)"
   ]
  },
  {
   "cell_type": "code",
   "execution_count": 24,
   "id": "signal-suspension",
   "metadata": {},
   "outputs": [],
   "source": [
    "mean = (ratings.sum()/len(ratings)).item()"
   ]
  },
  {
   "cell_type": "code",
   "execution_count": 25,
   "id": "oriented-majority",
   "metadata": {},
   "outputs": [],
   "source": [
    "y_norm = torch.pow(torch.sum(train_r2, axis=0), -1/2).to(device)"
   ]
  },
  {
   "cell_type": "code",
   "execution_count": 26,
   "id": "innovative-strain",
   "metadata": {},
   "outputs": [],
   "source": [
    "nu_y = torch.matmul(y_norm.unsqueeze(1).T, Y)"
   ]
  },
  {
   "cell_type": "code",
   "execution_count": 27,
   "id": "moving-worth",
   "metadata": {},
   "outputs": [],
   "source": [
    "pnu = (P[items] + nu_y).sum(axis = 1)"
   ]
  },
  {
   "cell_type": "code",
   "execution_count": 28,
   "id": "velvet-interface",
   "metadata": {},
   "outputs": [],
   "source": [
    "pnu_test = (P[items_test] + nu_y).sum(axis = 1)"
   ]
  },
  {
   "cell_type": "code",
   "execution_count": 29,
   "id": "polar-conviction",
   "metadata": {},
   "outputs": [
    {
     "name": "stdout",
     "output_type": "stream",
     "text": [
      "epoch: 0, train cost_P 4.504591, train cost: 2.122402, test cost: 2.114930, minimum test cost: 2.114930\n",
      "=================================================================================\n",
      "means of test groups: tensor([[5.4080],\n",
      "        [3.7999],\n",
      "        [5.2008],\n",
      "        [5.8029],\n",
      "        [4.5002]], device='cuda:0')\n",
      "ratings of test groups: tensor([4., 5., 4., 3., 3.])\n",
      "=================================================================================\n"
     ]
    },
    {
     "data": {
      "image/png": "[encoded data removed]",
      "text/plain": [
       "<Figure size 432x288 with 1 Axes>"
      ]
     },
     "metadata": {
      "needs_background": "light"
     },
     "output_type": "display_data"
    },
    {
     "name": "stdout",
     "output_type": "stream",
     "text": [
      "epoch: 100, train cost_P 3.830265, train cost: 1.957106, test cost: 1.950362, minimum test cost: 1.950362\n",
      "=================================================================================\n",
      "means of test groups: tensor([[5.3808],\n",
      "        [5.6749],\n",
      "        [5.1824],\n",
      "        [4.9275],\n",
      "        [4.7284]], device='cuda:0')\n",
      "ratings of test groups: tensor([2., 5., 3., 3., 1.])\n",
      "=================================================================================\n"
     ]
    },
    {
     "data": {
      "image/png": "[encoded data removed]",
      "text/plain": [
       "<Figure size 432x288 with 1 Axes>"
      ]
     },
     "metadata": {
      "needs_background": "light"
     },
     "output_type": "display_data"
    },
    {
     "name": "stdout",
     "output_type": "stream",
     "text": [
      "epoch: 200, train cost_P 3.307095, train cost: 1.818542, test cost: 1.812805, minimum test cost: 1.812805\n",
      "=================================================================================\n",
      "means of test groups: tensor([[6.0728],\n",
      "        [4.4289],\n",
      "        [3.4340],\n",
      "        [3.7013],\n",
      "        [5.7913]], device='cuda:0')\n",
      "ratings of test groups: tensor([3., 3., 3., 3., 4.])\n",
      "=================================================================================\n"
     ]
    },
    {
     "data": {
      "image/png": "[encoded data removed]",
      "text/plain": [
       "<Figure size 432x288 with 1 Axes>"
      ]
     },
     "metadata": {
      "needs_background": "light"
     },
     "output_type": "display_data"
    },
    {
     "name": "stdout",
     "output_type": "stream",
     "text": [
      "epoch: 300, train cost_P 2.900240, train cost: 1.703009, test cost: 1.698524, minimum test cost: 1.698524\n",
      "=================================================================================\n",
      "means of test groups: tensor([[3.5879],\n",
      "        [3.3561],\n",
      "        [3.7708],\n",
      "        [5.4820],\n",
      "        [4.2820]], device='cuda:0')\n",
      "ratings of test groups: tensor([2., 3., 3., 4., 3.])\n",
      "=================================================================================\n"
     ]
    },
    {
     "data": {
      "image/png": "[encoded data removed]",
      "text/plain": [
       "<Figure size 432x288 with 1 Axes>"
      ]
     },
     "metadata": {
      "needs_background": "light"
     },
     "output_type": "display_data"
    },
    {
     "name": "stdout",
     "output_type": "stream",
     "text": [
      "epoch: 400, train cost_P 2.581166, train cost: 1.606601, test cost: 1.603514, minimum test cost: 1.603514\n",
      "=================================================================================\n",
      "means of test groups: tensor([[3.8358],\n",
      "        [4.4483],\n",
      "        [5.0485],\n",
      "        [4.1502],\n",
      "        [5.0854]], device='cuda:0')\n",
      "ratings of test groups: tensor([5., 4., 4., 4., 5.])\n",
      "=================================================================================\n"
     ]
    },
    {
     "data": {
      "image/png": "[encoded data removed]",
      "text/plain": [
       "<Figure size 432x288 with 1 Axes>"
      ]
     },
     "metadata": {
      "needs_background": "light"
     },
     "output_type": "display_data"
    },
    {
     "name": "stdout",
     "output_type": "stream",
     "text": [
      "epoch: 500, train cost_P 2.328152, train cost: 1.525828, test cost: 1.524164, minimum test cost: 1.524164\n",
      "=================================================================================\n",
      "means of test groups: tensor([[4.1772],\n",
      "        [5.1526],\n",
      "        [3.2302],\n",
      "        [3.5476],\n",
      "        [3.6854]], device='cuda:0')\n",
      "ratings of test groups: tensor([2., 3., 5., 4., 3.])\n",
      "=================================================================================\n"
     ]
    },
    {
     "data": {
      "image/png": "[encoded data removed]",
      "text/plain": [
       "<Figure size 432x288 with 1 Axes>"
      ]
     },
     "metadata": {
      "needs_background": "light"
     },
     "output_type": "display_data"
    },
    {
     "name": "stdout",
     "output_type": "stream",
     "text": [
      "epoch: 600, train cost_P 2.125579, train cost: 1.457937, test cost: 1.457642, minimum test cost: 1.457642\n",
      "=================================================================================\n",
      "means of test groups: tensor([[3.8454],\n",
      "        [3.3868],\n",
      "        [4.4254],\n",
      "        [3.3713],\n",
      "        [4.0897]], device='cuda:0')\n",
      "ratings of test groups: tensor([4., 3., 4., 3., 4.])\n",
      "=================================================================================\n"
     ]
    },
    {
     "data": {
      "image/png": "[encoded data removed]",
      "text/plain": [
       "<Figure size 432x288 with 1 Axes>"
      ]
     },
     "metadata": {
      "needs_background": "light"
     },
     "output_type": "display_data"
    },
    {
     "name": "stdout",
     "output_type": "stream",
     "text": [
      "epoch: 700, train cost_P 1.961522, train cost: 1.400544, test cost: 1.401515, minimum test cost: 1.401515\n",
      "=================================================================================\n",
      "means of test groups: tensor([[4.2334],\n",
      "        [4.7929],\n",
      "        [4.2036],\n",
      "        [4.3764],\n",
      "        [3.8588]], device='cuda:0')\n",
      "ratings of test groups: tensor([3., 4., 4., 5., 4.])\n",
      "=================================================================================\n"
     ]
    },
    {
     "data": {
      "image/png": "[encoded data removed]",
      "text/plain": [
       "<Figure size 432x288 with 1 Axes>"
      ]
     },
     "metadata": {
      "needs_background": "light"
     },
     "output_type": "display_data"
    },
    {
     "name": "stdout",
     "output_type": "stream",
     "text": [
      "epoch: 800, train cost_P 1.826957, train cost: 1.351650, test cost: 1.353780, minimum test cost: 1.353780\n",
      "=================================================================================\n",
      "means of test groups: tensor([[2.8106],\n",
      "        [3.0771],\n",
      "        [4.8778],\n",
      "        [6.7816],\n",
      "        [4.0547]], device='cuda:0')\n",
      "ratings of test groups: tensor([2., 3., 2., 5., 3.])\n",
      "=================================================================================\n"
     ]
    },
    {
     "data": {
      "image/png": "[encoded data removed]",
      "text/plain": [
       "<Figure size 432x288 with 1 Axes>"
      ]
     },
     "metadata": {
      "needs_background": "light"
     },
     "output_type": "display_data"
    },
    {
     "name": "stdout",
     "output_type": "stream",
     "text": [
      "epoch: 900, train cost_P 1.715140, train cost: 1.309633, test cost: 1.312820, minimum test cost: 1.312820\n",
      "=================================================================================\n",
      "means of test groups: tensor([[3.3497],\n",
      "        [3.7156],\n",
      "        [3.6906],\n",
      "        [3.4263],\n",
      "        [3.4652]], device='cuda:0')\n",
      "ratings of test groups: tensor([1., 5., 4., 4., 4.])\n",
      "=================================================================================\n"
     ]
    },
    {
     "data": {
      "image/png": "[encoded data removed]",
      "text/plain": [
       "<Figure size 432x288 with 1 Axes>"
      ]
     },
     "metadata": {
      "needs_background": "light"
     },
     "output_type": "display_data"
    },
    {
     "name": "stdout",
     "output_type": "stream",
     "text": [
      "epoch: 1000, train cost_P 1.621306, train cost: 1.273305, test cost: 1.277441, minimum test cost: 1.277441\n",
      "=================================================================================\n",
      "means of test groups: tensor([[3.8960],\n",
      "        [2.6377],\n",
      "        [4.1620],\n",
      "        [2.8873],\n",
      "        [6.5823]], device='cuda:0')\n",
      "ratings of test groups: tensor([4., 5., 3., 3., 4.])\n",
      "=================================================================================\n"
     ]
    },
    {
     "data": {
      "image/png": "[encoded data removed]",
      "text/plain": [
       "<Figure size 432x288 with 1 Axes>"
      ]
     },
     "metadata": {
      "needs_background": "light"
     },
     "output_type": "display_data"
    },
    {
     "name": "stdout",
     "output_type": "stream",
     "text": [
      "epoch: 1100, train cost_P 1.541780, train cost: 1.241684, test cost: 1.246661, minimum test cost: 1.246661\n",
      "=================================================================================\n",
      "means of test groups: tensor([[3.7360],\n",
      "        [4.6370],\n",
      "        [3.8565],\n",
      "        [3.4979],\n",
      "        [4.0009]], device='cuda:0')\n",
      "ratings of test groups: tensor([5., 3., 5., 2., 3.])\n",
      "=================================================================================\n"
     ]
    },
    {
     "data": {
      "image/png": "[encoded data removed]",
      "text/plain": [
       "<Figure size 432x288 with 1 Axes>"
      ]
     },
     "metadata": {
      "needs_background": "light"
     },
     "output_type": "display_data"
    },
    {
     "name": "stdout",
     "output_type": "stream",
     "text": [
      "epoch: 1200, train cost_P 1.473622, train cost: 1.213928, test cost: 1.219635, minimum test cost: 1.219635\n",
      "=================================================================================\n",
      "means of test groups: tensor([[5.2068],\n",
      "        [3.8291],\n",
      "        [4.7328],\n",
      "        [4.6056],\n",
      "        [6.2366]], device='cuda:0')\n",
      "ratings of test groups: tensor([4., 4., 4., 4., 3.])\n",
      "=================================================================================\n"
     ]
    },
    {
     "data": {
      "image/png": "[encoded data removed]",
      "text/plain": [
       "<Figure size 432x288 with 1 Axes>"
      ]
     },
     "metadata": {
      "needs_background": "light"
     },
     "output_type": "display_data"
    },
    {
     "name": "stdout",
     "output_type": "stream",
     "text": [
      "epoch: 1300, train cost_P 1.414698, train cost: 1.189411, test cost: 1.195752, minimum test cost: 1.195752\n",
      "=================================================================================\n",
      "means of test groups: tensor([[3.4251],\n",
      "        [3.1663],\n",
      "        [4.0309],\n",
      "        [3.7131],\n",
      "        [3.1939]], device='cuda:0')\n",
      "ratings of test groups: tensor([4., 5., 4., 2., 5.])\n",
      "=================================================================================\n"
     ]
    },
    {
     "data": {
      "image/png": "[encoded data removed]",
      "text/plain": [
       "<Figure size 432x288 with 1 Axes>"
      ]
     },
     "metadata": {
      "needs_background": "light"
     },
     "output_type": "display_data"
    },
    {
     "name": "stdout",
     "output_type": "stream",
     "text": [
      "epoch: 1400, train cost_P 1.363341, train cost: 1.167622, test cost: 1.174523, minimum test cost: 1.174523\n",
      "=================================================================================\n",
      "means of test groups: tensor([[4.4809],\n",
      "        [3.1506],\n",
      "        [3.6072],\n",
      "        [5.8433],\n",
      "        [4.4392]], device='cuda:0')\n",
      "ratings of test groups: tensor([5., 4., 4., 3., 5.])\n",
      "=================================================================================\n"
     ]
    },
    {
     "data": {
      "image/png": "[encoded data removed]",
      "text/plain": [
       "<Figure size 432x288 with 1 Axes>"
      ]
     },
     "metadata": {
      "needs_background": "light"
     },
     "output_type": "display_data"
    },
    {
     "name": "stdout",
     "output_type": "stream",
     "text": [
      "epoch: 1500, train cost_P 1.318300, train cost: 1.148172, test cost: 1.155564, minimum test cost: 1.155564\n",
      "=================================================================================\n",
      "means of test groups: tensor([[3.5387],\n",
      "        [4.6358],\n",
      "        [3.4458],\n",
      "        [3.5126],\n",
      "        [4.1057]], device='cuda:0')\n",
      "ratings of test groups: tensor([4., 5., 3., 4., 5.])\n",
      "=================================================================================\n"
     ]
    },
    {
     "data": {
      "image/png": "[encoded data removed]",
      "text/plain": [
       "<Figure size 432x288 with 1 Axes>"
      ]
     },
     "metadata": {
      "needs_background": "light"
     },
     "output_type": "display_data"
    },
    {
     "name": "stdout",
     "output_type": "stream",
     "text": [
      "epoch: 1600, train cost_P 1.278462, train cost: 1.130691, test cost: 1.138508, minimum test cost: 1.138508\n",
      "=================================================================================\n",
      "means of test groups: tensor([[3.4034],\n",
      "        [3.8939],\n",
      "        [3.2651],\n",
      "        [2.7810],\n",
      "        [3.3714]], device='cuda:0')\n",
      "ratings of test groups: tensor([3., 4., 2., 2., 4.])\n",
      "=================================================================================\n"
     ]
    },
    {
     "data": {
      "image/png": "[encoded data removed]",
      "text/plain": [
       "<Figure size 432x288 with 1 Axes>"
      ]
     },
     "metadata": {
      "needs_background": "light"
     },
     "output_type": "display_data"
    },
    {
     "name": "stdout",
     "output_type": "stream",
     "text": [
      "epoch: 1700, train cost_P 1.242982, train cost: 1.114891, test cost: 1.123077, minimum test cost: 1.123077\n",
      "=================================================================================\n",
      "means of test groups: tensor([[3.2642],\n",
      "        [3.7194],\n",
      "        [2.8485],\n",
      "        [3.7107],\n",
      "        [2.9196]], device='cuda:0')\n",
      "ratings of test groups: tensor([3., 2., 1., 4., 3.])\n",
      "=================================================================================\n"
     ]
    },
    {
     "data": {
      "image/png": "[encoded data removed]",
      "text/plain": [
       "<Figure size 432x288 with 1 Axes>"
      ]
     },
     "metadata": {
      "needs_background": "light"
     },
     "output_type": "display_data"
    },
    {
     "name": "stdout",
     "output_type": "stream",
     "text": [
      "epoch: 1800, train cost_P 1.211195, train cost: 1.100543, test cost: 1.109062, minimum test cost: 1.109062\n",
      "=================================================================================\n",
      "means of test groups: tensor([[3.5979],\n",
      "        [3.5717],\n",
      "        [3.8773],\n",
      "        [3.3740],\n",
      "        [2.4235]], device='cuda:0')\n",
      "ratings of test groups: tensor([3., 4., 5., 4., 1.])\n",
      "=================================================================================\n"
     ]
    },
    {
     "data": {
      "image/png": "[encoded data removed]",
      "text/plain": [
       "<Figure size 432x288 with 1 Axes>"
      ]
     },
     "metadata": {
      "needs_background": "light"
     },
     "output_type": "display_data"
    },
    {
     "name": "stdout",
     "output_type": "stream",
     "text": [
      "epoch: 1900, train cost_P 1.182619, train cost: 1.087483, test cost: 1.096291, minimum test cost: 1.096291\n",
      "=================================================================================\n",
      "means of test groups: tensor([[3.0686],\n",
      "        [4.6620],\n",
      "        [4.6463],\n",
      "        [4.3980],\n",
      "        [3.5725]], device='cuda:0')\n",
      "ratings of test groups: tensor([3., 4., 4., 3., 2.])\n",
      "=================================================================================\n"
     ]
    },
    {
     "data": {
      "image/png": "[encoded data removed]",
      "text/plain": [
       "<Figure size 432x288 with 1 Axes>"
      ]
     },
     "metadata": {
      "needs_background": "light"
     },
     "output_type": "display_data"
    },
    {
     "ename": "KeyboardInterrupt",
     "evalue": "",
     "output_type": "error",
     "traceback": [
      "\u001b[0;31m---------------------------------------------------------------------------\u001b[0m",
      "\u001b[0;31mKeyboardInterrupt\u001b[0m                         Traceback (most recent call last)",
      "\u001b[0;32m<ipython-input-29-694006c15b3d>\u001b[0m in \u001b[0;36m<module>\u001b[0;34m\u001b[0m\n\u001b[1;32m     31\u001b[0m   \u001b[0;31m# 기울기 계산\u001b[0m\u001b[0;34m\u001b[0m\u001b[0;34m\u001b[0m\u001b[0;34m\u001b[0m\u001b[0m\n\u001b[1;32m     32\u001b[0m     \u001b[0moptimizer_P\u001b[0m\u001b[0;34m.\u001b[0m\u001b[0mzero_grad\u001b[0m\u001b[0;34m(\u001b[0m\u001b[0;34m)\u001b[0m\u001b[0;34m\u001b[0m\u001b[0;34m\u001b[0m\u001b[0m\n\u001b[0;32m---> 33\u001b[0;31m     \u001b[0mcost_P\u001b[0m\u001b[0;34m.\u001b[0m\u001b[0mbackward\u001b[0m\u001b[0;34m(\u001b[0m\u001b[0mretain_graph\u001b[0m \u001b[0;34m=\u001b[0m \u001b[0;32mTrue\u001b[0m\u001b[0;34m)\u001b[0m\u001b[0;34m\u001b[0m\u001b[0;34m\u001b[0m\u001b[0m\n\u001b[0m\u001b[1;32m     34\u001b[0m     \u001b[0moptimizer_P\u001b[0m\u001b[0;34m.\u001b[0m\u001b[0mstep\u001b[0m\u001b[0;34m(\u001b[0m\u001b[0;34m)\u001b[0m\u001b[0;34m\u001b[0m\u001b[0;34m\u001b[0m\u001b[0m\n\u001b[1;32m     35\u001b[0m     \u001b[0mscheduler_P\u001b[0m\u001b[0;34m.\u001b[0m\u001b[0mstep\u001b[0m\u001b[0;34m(\u001b[0m\u001b[0;34m)\u001b[0m\u001b[0;34m\u001b[0m\u001b[0;34m\u001b[0m\u001b[0m\n",
      "\u001b[0;32m/opt/conda/lib/python3.7/site-packages/torch/_tensor.py\u001b[0m in \u001b[0;36mbackward\u001b[0;34m(self, gradient, retain_graph, create_graph, inputs)\u001b[0m\n\u001b[1;32m    394\u001b[0m                 \u001b[0mcreate_graph\u001b[0m\u001b[0;34m=\u001b[0m\u001b[0mcreate_graph\u001b[0m\u001b[0;34m,\u001b[0m\u001b[0;34m\u001b[0m\u001b[0;34m\u001b[0m\u001b[0m\n\u001b[1;32m    395\u001b[0m                 inputs=inputs)\n\u001b[0;32m--> 396\u001b[0;31m         \u001b[0mtorch\u001b[0m\u001b[0;34m.\u001b[0m\u001b[0mautograd\u001b[0m\u001b[0;34m.\u001b[0m\u001b[0mbackward\u001b[0m\u001b[0;34m(\u001b[0m\u001b[0mself\u001b[0m\u001b[0;34m,\u001b[0m \u001b[0mgradient\u001b[0m\u001b[0;34m,\u001b[0m \u001b[0mretain_graph\u001b[0m\u001b[0;34m,\u001b[0m \u001b[0mcreate_graph\u001b[0m\u001b[0;34m,\u001b[0m \u001b[0minputs\u001b[0m\u001b[0;34m=\u001b[0m\u001b[0minputs\u001b[0m\u001b[0;34m)\u001b[0m\u001b[0;34m\u001b[0m\u001b[0;34m\u001b[0m\u001b[0m\n\u001b[0m\u001b[1;32m    397\u001b[0m \u001b[0;34m\u001b[0m\u001b[0m\n\u001b[1;32m    398\u001b[0m     \u001b[0;32mdef\u001b[0m \u001b[0mregister_hook\u001b[0m\u001b[0;34m(\u001b[0m\u001b[0mself\u001b[0m\u001b[0;34m,\u001b[0m \u001b[0mhook\u001b[0m\u001b[0;34m)\u001b[0m\u001b[0;34m:\u001b[0m\u001b[0;34m\u001b[0m\u001b[0;34m\u001b[0m\u001b[0m\n",
      "\u001b[0;32m/opt/conda/lib/python3.7/site-packages/torch/autograd/__init__.py\u001b[0m in \u001b[0;36mbackward\u001b[0;34m(tensors, grad_tensors, retain_graph, create_graph, grad_variables, inputs)\u001b[0m\n\u001b[1;32m    173\u001b[0m     Variable._execution_engine.run_backward(  # Calls into the C++ engine to run the backward pass\n\u001b[1;32m    174\u001b[0m         \u001b[0mtensors\u001b[0m\u001b[0;34m,\u001b[0m \u001b[0mgrad_tensors_\u001b[0m\u001b[0;34m,\u001b[0m \u001b[0mretain_graph\u001b[0m\u001b[0;34m,\u001b[0m \u001b[0mcreate_graph\u001b[0m\u001b[0;34m,\u001b[0m \u001b[0minputs\u001b[0m\u001b[0;34m,\u001b[0m\u001b[0;34m\u001b[0m\u001b[0;34m\u001b[0m\u001b[0m\n\u001b[0;32m--> 175\u001b[0;31m         allow_unreachable=True, accumulate_grad=True)  # Calls into the C++ engine to run the backward pass\n\u001b[0m\u001b[1;32m    176\u001b[0m \u001b[0;34m\u001b[0m\u001b[0m\n\u001b[1;32m    177\u001b[0m def grad(\n",
      "\u001b[0;31mKeyboardInterrupt\u001b[0m: "
     ]
    }
   ],
   "source": [
    "\n",
    "# mu = torch.nn.Parameter(torch.randn(1, n_gaussians, requires_grad=True).to(device))\n",
    "# log_std = torch.nn.Parameter(torch.abs(torch.randn(1, n_gaussians, requires_grad=True)).to(device))\n",
    "\n",
    "\n",
    "lambda1 = 0.0001\n",
    "lambda2 = 0.0001\n",
    "lambda3 = 0.1\n",
    "optimizer_P = torch.optim.Adam([P, Q, bi, bu] + list(layers_mean.parameters()), lr= 1e-4)\n",
    "#optimizer_Q = torch.optim.Adam([P, Q, bi, bu] + list(layers_mean.parameters()), lr= 1e-4)\n",
    "scheduler_P = optim.lr_scheduler.CosineAnnealingWarmRestarts(optimizer_P, T_0 = 10, eta_min = 0.001, last_epoch = -1)\n",
    "#scheduler_Q = optim.lr_scheduler.CosineAnnealingWarmRestarts(optimizer_Q, T_0 = 10, eta_min = 0.001, last_epoch = -1)\n",
    "\n",
    "\n",
    "X = []\n",
    "Y = []\n",
    "Y_test = []\n",
    "hypo_test = []\n",
    "true_rating = []\n",
    "idx_list = []\n",
    "cost_list = []\n",
    "cost_test_list = []\n",
    "\n",
    "for epoch in range(100000):\n",
    "\n",
    "  # 가설 = 예상별점(아이템벡터와 유저벡터 내적) + 전체평점평균 + 아이템벡터의 bias + 유저벡터의 bias\n",
    "#    hypothesis_mean = layers_mean(P[items] / torch.sqrt(torch.sum(P[items]**2, axis= 1)).unsqueeze(1) * Q[users] / torch.sqrt(torch.sum(Q[users]**2, axis= 1)).unsqueeze(1))  \n",
    "    hypothesis_mean_p = (mean + (torch.abs(bi[items]) + torch.abs(bu[users])).to(device) + Q[users].sum(axis = 1) * pnu).unsqueeze(1)\n",
    "    \n",
    "    cost_P = F.mse_loss(hypothesis_mean_p, ratings.unsqueeze(1).to(device))                                                                                                        \n",
    "    \n",
    "  # 기울기 계산\n",
    "    optimizer_P.zero_grad()\n",
    "    cost_P.backward(retain_graph = True)\n",
    "    optimizer_P.step()\n",
    "    scheduler_P.step()\n",
    "\n",
    "#    hypothesis_mean = layers_mean(P[items] / torch.sqrt(torch.sum(P[items]**2, axis= 1)).unsqueeze(1) * Q[users] / torch.sqrt(torch.sum(Q[users]**2, axis= 1)).unsqueeze(1)) \n",
    "#     hypothesis_mean_q = (mean + (torch.abs(bi[items]) + torch.abs(bu[users])).to(device) + Q[users].sum(axis = 1) * pnu).unsqueeze(1)\n",
    "    \n",
    "#     cost_Q = F.mse_loss(hypothesis_mean_q, ratings.unsqueeze(1).to(device))\n",
    "\n",
    "#     optimizer_Q.zero_grad()\n",
    "#     cost_Q.backward()\n",
    "#     optimizer_Q.step()\n",
    "#     scheduler_Q.step()\n",
    "    \n",
    "    \n",
    "  # 기울기 계산 필요 없다.\n",
    "    with torch.no_grad():\n",
    "        \n",
    "              # 만들어진 P, Q matrix로 예측값을 뽑아내고 검증데이터와 비교한다.\n",
    "\n",
    "              # 가설 = 예상별점(아이템벡터와 유저벡터 내적)\n",
    "#        hypo_test_mean = layers_mean(P[items_test] / torch.sqrt(torch.sum(P[items_test]**2, axis= 1)).unsqueeze(1) * Q[users_test] / torch.sqrt(torch.sum(Q[users_test]**2, axis= 1)).unsqueeze(1))                 \n",
    "        hypo_test_mean = (mean + (torch.abs(bi[items_test]) + torch.abs(bu[users_test])).to(device) + Q[users_test].sum(axis = 1) * pnu_test).unsqueeze(1)\n",
    "    \n",
    "          # 비용 = MSE items_test items_test\n",
    "        cost = F.mse_loss(hypothesis_mean_p, ratings.unsqueeze(1).to(device))\n",
    "        cost_test = F.mse_loss(hypo_test_mean, ratings_test.unsqueeze(1).to(device))\n",
    "        X.append(epoch)\n",
    "\n",
    "        Y_test.append(cost_test.item() ** 0.5)\n",
    "        \n",
    "        cost_list.append(cost)\n",
    "        cost_test_list.append(cost_test)\n",
    "\n",
    "    if epoch % 100 == 0:\n",
    "        idx = np.random.choice(100020, 5, replace=False)\n",
    "        print(\"epoch: {}, train cost_P {:6f}, train cost: {:.6f}, test cost: {:.6f}, minimum test cost: {:.6f}\" .format(epoch, cost_P.item(), cost.item() ** 0.5, cost_test.item() ** 0.5, np.min(Y_test)))\n",
    "        print(\"=================================================================================\")\n",
    "        print('means of test groups:', hypo_test_mean[idx])\n",
    "        print('ratings of test groups:', ratings_test[idx])\n",
    "        print(\"=================================================================================\")\n",
    "        \n",
    "        hypo_test.append(hypo_test_mean[idx])\n",
    "        true_rating.append(ratings_test[idx])\n",
    "        idx_list.append(idx)\n",
    "        \n",
    "        PP = P / torch.sqrt(torch.sum(P**2, axis = 1)).unsqueeze(1)\n",
    "        QQ = Q / torch.sqrt(torch.sum(Q**2, axis = 1)).unsqueeze(1)\n",
    "        plt.scatter(PP.detach().cpu().numpy()[:,0], PP.detach().cpu().numpy()[:,1])\n",
    "        plt.scatter(QQ.detach().cpu().numpy()[:,0], QQ.detach().cpu().numpy()[:,1])\n",
    "        plt.xlim((-1,1))\n",
    "        plt.ylim((-1,1))\n",
    "        plt.show()\n",
    "        \n",
    "        "
   ]
  },
  {
   "cell_type": "code",
   "execution_count": null,
   "id": "registered-turkey",
   "metadata": {},
   "outputs": [],
   "source": [
    "\n",
    "# mu = torch.nn.Parameter(torch.randn(1, n_gaussians, requires_grad=True).to(device))\n",
    "# log_std = torch.nn.Parameter(torch.abs(torch.randn(1, n_gaussians, requires_grad=True)).to(device))\n",
    "\n",
    "\n",
    "lambda1 = 0.0001\n",
    "lambda2 = 0.0001\n",
    "lambda3 = 0.1\n",
    "optimizer_P = torch.optim.Adam([P, Q, bi, bu] + list(layers_mean.parameters()), lr= 1e-4)\n",
    "optimizer_Q = torch.optim.Adam([P, Q, bi, bu] + list(layers_mean.parameters()), lr= 1e-4)\n",
    "scheduler_P = optim.lr_scheduler.CosineAnnealingWarmRestarts(optimizer_P, T_0 = 10, eta_min = 0.001, last_epoch = -1)\n",
    "scheduler_Q = optim.lr_scheduler.CosineAnnealingWarmRestarts(optimizer_Q, T_0 = 10, eta_min = 0.001, last_epoch = -1)\n",
    "\n",
    "\n",
    "X = []\n",
    "Y = []\n",
    "Y_test = []\n",
    "hypo_test = []\n",
    "true_rating = []\n",
    "idx_list = []\n",
    "cost_list = []\n",
    "cost_test_list = []\n",
    "\n",
    "for epoch in range(100000):\n",
    "\n",
    "  # 가설 = 예상별점(아이템벡터와 유저벡터 내적) + 전체평점평균 + 아이템벡터의 bias + 유저벡터의 bias\n",
    "#    hypothesis_mean = layers_mean(P[items] / torch.sqrt(torch.sum(P[items]**2, axis= 1)).unsqueeze(1) * Q[users] / torch.sqrt(torch.sum(Q[users]**2, axis= 1)).unsqueeze(1))  \n",
    "    hypothesis_mean = layers_mean(P[items] / torch.sqrt(torch.sum(P[items]**2, axis= 1)).unsqueeze(1) * Q[users] / torch.sqrt(torch.sum(Q[users]**2, axis= 1)).unsqueeze(1))  + (torch.abs(bi[items]) + torch.abs(bu[users])).to(device).unsqueeze(1)\n",
    "                        \n",
    "    cost_P = F.mse_loss(hypothesis_mean, ratings.unsqueeze(1).to(device))                                                                                                        \n",
    "    \n",
    "  # 기울기 계산\n",
    "    optimizer_P.zero_grad()\n",
    "    cost_P.backward()\n",
    "    optimizer_P.step()\n",
    "    scheduler_P.step()\n",
    "\n",
    "#    hypothesis_mean = layers_mean(P[items] / torch.sqrt(torch.sum(P[items]**2, axis= 1)).unsqueeze(1) * Q[users] / torch.sqrt(torch.sum(Q[users]**2, axis= 1)).unsqueeze(1)) \n",
    "    hypothesis_mean = layers_mean(P[items] / torch.sqrt(torch.sum(P[items]**2, axis= 1)).unsqueeze(1) * Q[users] / torch.sqrt(torch.sum(Q[users]**2, axis= 1)).unsqueeze(1)) + (torch.abs(bi[items]) + torch.abs(bu[users])).to(device).unsqueeze(1)\n",
    "                        \n",
    "    cost_Q = F.mse_loss(hypothesis_mean, ratings.unsqueeze(1).to(device))\n",
    "\n",
    "    optimizer_Q.zero_grad()\n",
    "    cost_Q.backward()\n",
    "    optimizer_Q.step()\n",
    "    optimizer_Q.step()\n",
    "\n",
    "    \n",
    "    \n",
    "  # 기울기 계산 필요 없다.\n",
    "    with torch.no_grad():\n",
    "        \n",
    "              # 만들어진 P, Q matrix로 예측값을 뽑아내고 검증데이터와 비교한다.\n",
    "\n",
    "              # 가설 = 예상별점(아이템벡터와 유저벡터 내적)\n",
    "#        hypo_test_mean = layers_mean(P[items_test] / torch.sqrt(torch.sum(P[items_test]**2, axis= 1)).unsqueeze(1) * Q[users_test] / torch.sqrt(torch.sum(Q[users_test]**2, axis= 1)).unsqueeze(1))                 \n",
    "        hypo_test_mean = layers_mean(P[items_test] / torch.sqrt(torch.sum(P[items_test]**2, axis= 1)).unsqueeze(1) * Q[users_test] / torch.sqrt(torch.sum(Q[users_test]**2, axis= 1)).unsqueeze(1)) + (torch.abs(bi[items_test]) + torch.abs(bu[users_test])).to(device).unsqueeze(1)                \n",
    "\n",
    "          # 비용 = MSE items_test items_test\n",
    "        cost = F.mse_loss(hypothesis_mean, ratings.unsqueeze(1).to(device))\n",
    "        cost_test = F.mse_loss(hypo_test_mean, ratings_test.unsqueeze(1).to(device))\n",
    "        X.append(epoch)\n",
    "\n",
    "        Y_test.append(cost_test.item() ** 0.5)\n",
    "        \n",
    "        cost_list.append(cost)\n",
    "        cost_test_list.append(cost_test)\n",
    "\n",
    "    if epoch % 100 == 0:\n",
    "        idx = np.random.choice(100020, 5, replace=False)\n",
    "        print(\"epoch: {}, train cost_P {:6f}, train cost_Q: {:.6f}, train cost: {:.6f}, test cost: {:.6f}, minimum test cost: {:.6f}\" .format(epoch, cost_P.item() , cost_Q.item(), cost.item() ** 0.5, cost_test.item() ** 0.5, np.min(Y_test)))\n",
    "        print(\"=================================================================================\")\n",
    "        print('means of test groups:', hypo_test_mean[idx])\n",
    "        print('ratings of test groups:', ratings_test[idx])\n",
    "        print(\"=================================================================================\")\n",
    "        \n",
    "        hypo_test.append(hypo_test_mean[idx])\n",
    "        true_rating.append(ratings_test[idx])\n",
    "        idx_list.append(idx)\n",
    "        \n",
    "        PP = P / torch.sqrt(torch.sum(P**2, axis = 1)).unsqueeze(1)\n",
    "        QQ = Q / torch.sqrt(torch.sum(Q**2, axis = 1)).unsqueeze(1)\n",
    "        plt.scatter(PP.detach().cpu().numpy()[:,0], PP.detach().cpu().numpy()[:,1])\n",
    "        plt.scatter(QQ.detach().cpu().numpy()[:,0], QQ.detach().cpu().numpy()[:,1])\n",
    "        plt.xlim((-1,1))\n",
    "        plt.ylim((-1,1))\n",
    "        plt.show()\n",
    "        \n",
    "        "
   ]
  },
  {
   "cell_type": "code",
   "execution_count": null,
   "id": "opponent-youth",
   "metadata": {},
   "outputs": [],
   "source": [
    "# 0.842125 : alternative    0.845448\n",
    "# 0.842694: both\n",
    "\n",
    "# rank 30 : 0.8465\n",
    "# rank 15 : 0.84715\n",
    "# rank 13 : 0.84846\n",
    "# rank 14 : 0.84767\n",
    "# rank 12 : 0.846764\n",
    "# rank 25 : 0.846917\n",
    "# rank 27 : 0.846639\n",
    "# rank 10 : 0.848631\n",
    "# rank 17 : 0.846474\n",
    "# rank 19 : 0.846425\n",
    "# rank 22 : 0.84524\n",
    "# rank 21 : 0.84554"
   ]
  },
  {
   "cell_type": "code",
   "execution_count": null,
   "id": "starting-genealogy",
   "metadata": {},
   "outputs": [],
   "source": [
    "X = []\n",
    "Y = []\n",
    "Y_test = []\n",
    "hypo_test = []\n",
    "true_rating = []\n",
    "idx_list = []\n",
    "cost_list = []\n",
    "cost_test_list = []"
   ]
  },
  {
   "cell_type": "code",
   "execution_count": 30,
   "id": "confidential-transcription",
   "metadata": {},
   "outputs": [
    {
     "data": {
      "text/plain": [
       "(1958, 1958)"
      ]
     },
     "execution_count": 30,
     "metadata": {},
     "output_type": "execute_result"
    }
   ],
   "source": [
    "len(cost_list), len(cost_test_list)"
   ]
  },
  {
   "cell_type": "code",
   "execution_count": 31,
   "id": "separated-license",
   "metadata": {},
   "outputs": [
    {
     "data": {
      "text/plain": [
       "(1958, 1958)"
      ]
     },
     "execution_count": 31,
     "metadata": {},
     "output_type": "execute_result"
    }
   ],
   "source": [
    "len(X), len(Y_test)"
   ]
  },
  {
   "cell_type": "code",
   "execution_count": 32,
   "id": "injured-google",
   "metadata": {},
   "outputs": [
    {
     "data": {
      "text/plain": [
       "(20, 20)"
      ]
     },
     "execution_count": 32,
     "metadata": {},
     "output_type": "execute_result"
    }
   ],
   "source": [
    "len(hypo_test), len(true_rating)"
   ]
  },
  {
   "cell_type": "code",
   "execution_count": 33,
   "id": "attractive-insertion",
   "metadata": {},
   "outputs": [],
   "source": [
    "X2 = X[:11876]\n",
    "Y_test2 = Y_test[:11876]"
   ]
  },
  {
   "cell_type": "code",
   "execution_count": 34,
   "id": "constant-compound",
   "metadata": {},
   "outputs": [],
   "source": [
    "cost_list2 = cost_list[:11866]\n",
    "cost_test_list2 = cost_list[:11876]"
   ]
  },
  {
   "cell_type": "code",
   "execution_count": 37,
   "id": "supported-vegetation",
   "metadata": {},
   "outputs": [],
   "source": [
    "tr = []\n",
    "tr_sort = []\n",
    "for i in range(len(true_rating)):\n",
    "    trc = true_rating[i].to(device)\n",
    "    tr.append(trc)\n",
    "for j in range(len(tr)):\n",
    "    trs = tr[j].sort(descending = True)[0]\n",
    "    tr_sort.append(trs)"
   ]
  },
  {
   "cell_type": "code",
   "execution_count": 38,
   "id": "metric-jackson",
   "metadata": {},
   "outputs": [
    {
     "name": "stderr",
     "output_type": "stream",
     "text": [
      "100%|██████████| 20/20 [00:00<00:00, 279.03it/s]\n"
     ]
    }
   ],
   "source": [
    "ndcg_list = []\n",
    "idcg_list = []\n",
    "dcg_list = []\n",
    "for r in tqdm(range(len(hypo_test))):\n",
    "    for i in range(5):\n",
    "        idcg = tr_sort[r][i] / np.log2(i+1 + 1)\n",
    "        idcg_list.append(idcg)\n",
    "        sum_idcg = sum(idcg_list)\n",
    "    for j in range(5):\n",
    "        dcg = hypo_test[r][j] / np.log2(j+1 + 1)\n",
    "        dcg_list.append(dcg)\n",
    "        sum_dcg = sum(dcg_list)\n",
    "    \n",
    "    ndcg = sum_dcg / sum_idcg\n",
    "    ndcg_list.append(ndcg)"
   ]
  },
  {
   "cell_type": "code",
   "execution_count": 39,
   "id": "voluntary-ethnic",
   "metadata": {},
   "outputs": [],
   "source": [
    "nd = []\n",
    "ct = []\n",
    "cl = []\n",
    "for i in range(len(ndcg_list)):\n",
    "    nds = ndcg_list[i].tolist()\n",
    "    nd.append(nds)\n",
    "for j in range(len(cost_test_list2)):\n",
    "    cts = cost_test_list2[j].tolist()\n",
    "    ct.append(cts)\n",
    "for k in range(len(cost_list2)):\n",
    "    cls = cost_list2[k].tolist()\n",
    "    cl.append(cls)"
   ]
  },
  {
   "cell_type": "code",
   "execution_count": 40,
   "id": "intelligent-printing",
   "metadata": {},
   "outputs": [],
   "source": [
    "nd2 = nd[:119]"
   ]
  },
  {
   "cell_type": "code",
   "execution_count": 41,
   "id": "complicated-visiting",
   "metadata": {},
   "outputs": [],
   "source": [
    "import matplotlib.pyplot as plt"
   ]
  },
  {
   "cell_type": "code",
   "execution_count": 42,
   "id": "affecting-matter",
   "metadata": {},
   "outputs": [],
   "source": [
    "epochs = [i for i in range(0, 119)]"
   ]
  },
  {
   "cell_type": "code",
   "execution_count": 43,
   "id": "alternate-junior",
   "metadata": {
    "collapsed": true,
    "jupyter": {
     "outputs_hidden": true
    }
   },
   "outputs": [
    {
     "ename": "ValueError",
     "evalue": "x and y must have same first dimension, but have shapes (119,) and (20, 1)",
     "output_type": "error",
     "traceback": [
      "\u001b[0;31m---------------------------------------------------------------------------\u001b[0m",
      "\u001b[0;31mValueError\u001b[0m                                Traceback (most recent call last)",
      "\u001b[0;32m<ipython-input-43-659a757d22d7>\u001b[0m in \u001b[0;36m<module>\u001b[0;34m\u001b[0m\n\u001b[1;32m      7\u001b[0m \u001b[0max\u001b[0m\u001b[0;34m[\u001b[0m\u001b[0;36m0\u001b[0m\u001b[0;34m]\u001b[0m\u001b[0;34m.\u001b[0m\u001b[0mlegend\u001b[0m\u001b[0;34m(\u001b[0m\u001b[0mloc\u001b[0m \u001b[0;34m=\u001b[0m \u001b[0;36m7\u001b[0m\u001b[0;34m)\u001b[0m\u001b[0;34m\u001b[0m\u001b[0;34m\u001b[0m\u001b[0m\n\u001b[1;32m      8\u001b[0m \u001b[0;34m\u001b[0m\u001b[0m\n\u001b[0;32m----> 9\u001b[0;31m \u001b[0max\u001b[0m\u001b[0;34m[\u001b[0m\u001b[0;36m1\u001b[0m\u001b[0;34m]\u001b[0m\u001b[0;34m.\u001b[0m\u001b[0mplot\u001b[0m\u001b[0;34m(\u001b[0m\u001b[0mepochs\u001b[0m\u001b[0;34m,\u001b[0m \u001b[0mnd2\u001b[0m\u001b[0;34m,\u001b[0m \u001b[0mlabel\u001b[0m \u001b[0;34m=\u001b[0m \u001b[0;34m'ml-1m'\u001b[0m\u001b[0;34m)\u001b[0m\u001b[0;34m\u001b[0m\u001b[0;34m\u001b[0m\u001b[0m\n\u001b[0m\u001b[1;32m     10\u001b[0m \u001b[0max\u001b[0m\u001b[0;34m[\u001b[0m\u001b[0;36m1\u001b[0m\u001b[0;34m]\u001b[0m\u001b[0;34m.\u001b[0m\u001b[0mset_title\u001b[0m\u001b[0;34m(\u001b[0m\u001b[0;34m'NDCG@5'\u001b[0m\u001b[0;34m)\u001b[0m\u001b[0;34m\u001b[0m\u001b[0;34m\u001b[0m\u001b[0m\n\u001b[1;32m     11\u001b[0m \u001b[0max\u001b[0m\u001b[0;34m[\u001b[0m\u001b[0;36m1\u001b[0m\u001b[0;34m]\u001b[0m\u001b[0;34m.\u001b[0m\u001b[0mlegend\u001b[0m\u001b[0;34m(\u001b[0m\u001b[0mloc\u001b[0m \u001b[0;34m=\u001b[0m \u001b[0;36m7\u001b[0m\u001b[0;34m)\u001b[0m\u001b[0;34m\u001b[0m\u001b[0;34m\u001b[0m\u001b[0m\n",
      "\u001b[0;32m/opt/conda/lib/python3.7/site-packages/matplotlib/axes/_axes.py\u001b[0m in \u001b[0;36mplot\u001b[0;34m(self, scalex, scaley, data, *args, **kwargs)\u001b[0m\n\u001b[1;32m   1603\u001b[0m         \"\"\"\n\u001b[1;32m   1604\u001b[0m         \u001b[0mkwargs\u001b[0m \u001b[0;34m=\u001b[0m \u001b[0mcbook\u001b[0m\u001b[0;34m.\u001b[0m\u001b[0mnormalize_kwargs\u001b[0m\u001b[0;34m(\u001b[0m\u001b[0mkwargs\u001b[0m\u001b[0;34m,\u001b[0m \u001b[0mmlines\u001b[0m\u001b[0;34m.\u001b[0m\u001b[0mLine2D\u001b[0m\u001b[0;34m)\u001b[0m\u001b[0;34m\u001b[0m\u001b[0;34m\u001b[0m\u001b[0m\n\u001b[0;32m-> 1605\u001b[0;31m         \u001b[0mlines\u001b[0m \u001b[0;34m=\u001b[0m \u001b[0;34m[\u001b[0m\u001b[0;34m*\u001b[0m\u001b[0mself\u001b[0m\u001b[0;34m.\u001b[0m\u001b[0m_get_lines\u001b[0m\u001b[0;34m(\u001b[0m\u001b[0;34m*\u001b[0m\u001b[0margs\u001b[0m\u001b[0;34m,\u001b[0m \u001b[0mdata\u001b[0m\u001b[0;34m=\u001b[0m\u001b[0mdata\u001b[0m\u001b[0;34m,\u001b[0m \u001b[0;34m**\u001b[0m\u001b[0mkwargs\u001b[0m\u001b[0;34m)\u001b[0m\u001b[0;34m]\u001b[0m\u001b[0;34m\u001b[0m\u001b[0;34m\u001b[0m\u001b[0m\n\u001b[0m\u001b[1;32m   1606\u001b[0m         \u001b[0;32mfor\u001b[0m \u001b[0mline\u001b[0m \u001b[0;32min\u001b[0m \u001b[0mlines\u001b[0m\u001b[0;34m:\u001b[0m\u001b[0;34m\u001b[0m\u001b[0;34m\u001b[0m\u001b[0m\n\u001b[1;32m   1607\u001b[0m             \u001b[0mself\u001b[0m\u001b[0;34m.\u001b[0m\u001b[0madd_line\u001b[0m\u001b[0;34m(\u001b[0m\u001b[0mline\u001b[0m\u001b[0;34m)\u001b[0m\u001b[0;34m\u001b[0m\u001b[0;34m\u001b[0m\u001b[0m\n",
      "\u001b[0;32m/opt/conda/lib/python3.7/site-packages/matplotlib/axes/_base.py\u001b[0m in \u001b[0;36m__call__\u001b[0;34m(self, data, *args, **kwargs)\u001b[0m\n\u001b[1;32m    313\u001b[0m                 \u001b[0mthis\u001b[0m \u001b[0;34m+=\u001b[0m \u001b[0margs\u001b[0m\u001b[0;34m[\u001b[0m\u001b[0;36m0\u001b[0m\u001b[0;34m]\u001b[0m\u001b[0;34m,\u001b[0m\u001b[0;34m\u001b[0m\u001b[0;34m\u001b[0m\u001b[0m\n\u001b[1;32m    314\u001b[0m                 \u001b[0margs\u001b[0m \u001b[0;34m=\u001b[0m \u001b[0margs\u001b[0m\u001b[0;34m[\u001b[0m\u001b[0;36m1\u001b[0m\u001b[0;34m:\u001b[0m\u001b[0;34m]\u001b[0m\u001b[0;34m\u001b[0m\u001b[0;34m\u001b[0m\u001b[0m\n\u001b[0;32m--> 315\u001b[0;31m             \u001b[0;32myield\u001b[0m \u001b[0;32mfrom\u001b[0m \u001b[0mself\u001b[0m\u001b[0;34m.\u001b[0m\u001b[0m_plot_args\u001b[0m\u001b[0;34m(\u001b[0m\u001b[0mthis\u001b[0m\u001b[0;34m,\u001b[0m \u001b[0mkwargs\u001b[0m\u001b[0;34m)\u001b[0m\u001b[0;34m\u001b[0m\u001b[0;34m\u001b[0m\u001b[0m\n\u001b[0m\u001b[1;32m    316\u001b[0m \u001b[0;34m\u001b[0m\u001b[0m\n\u001b[1;32m    317\u001b[0m     \u001b[0;32mdef\u001b[0m \u001b[0mget_next_color\u001b[0m\u001b[0;34m(\u001b[0m\u001b[0mself\u001b[0m\u001b[0;34m)\u001b[0m\u001b[0;34m:\u001b[0m\u001b[0;34m\u001b[0m\u001b[0;34m\u001b[0m\u001b[0m\n",
      "\u001b[0;32m/opt/conda/lib/python3.7/site-packages/matplotlib/axes/_base.py\u001b[0m in \u001b[0;36m_plot_args\u001b[0;34m(self, tup, kwargs, return_kwargs)\u001b[0m\n\u001b[1;32m    499\u001b[0m \u001b[0;34m\u001b[0m\u001b[0m\n\u001b[1;32m    500\u001b[0m         \u001b[0;32mif\u001b[0m \u001b[0mx\u001b[0m\u001b[0;34m.\u001b[0m\u001b[0mshape\u001b[0m\u001b[0;34m[\u001b[0m\u001b[0;36m0\u001b[0m\u001b[0;34m]\u001b[0m \u001b[0;34m!=\u001b[0m \u001b[0my\u001b[0m\u001b[0;34m.\u001b[0m\u001b[0mshape\u001b[0m\u001b[0;34m[\u001b[0m\u001b[0;36m0\u001b[0m\u001b[0;34m]\u001b[0m\u001b[0;34m:\u001b[0m\u001b[0;34m\u001b[0m\u001b[0;34m\u001b[0m\u001b[0m\n\u001b[0;32m--> 501\u001b[0;31m             raise ValueError(f\"x and y must have same first dimension, but \"\n\u001b[0m\u001b[1;32m    502\u001b[0m                              f\"have shapes {x.shape} and {y.shape}\")\n\u001b[1;32m    503\u001b[0m         \u001b[0;32mif\u001b[0m \u001b[0mx\u001b[0m\u001b[0;34m.\u001b[0m\u001b[0mndim\u001b[0m \u001b[0;34m>\u001b[0m \u001b[0;36m2\u001b[0m \u001b[0;32mor\u001b[0m \u001b[0my\u001b[0m\u001b[0;34m.\u001b[0m\u001b[0mndim\u001b[0m \u001b[0;34m>\u001b[0m \u001b[0;36m2\u001b[0m\u001b[0;34m:\u001b[0m\u001b[0;34m\u001b[0m\u001b[0;34m\u001b[0m\u001b[0m\n",
      "\u001b[0;31mValueError\u001b[0m: x and y must have same first dimension, but have shapes (119,) and (20, 1)"
     ]
    },
    {
     "data": {
      "image/png": "[encoded data removed]",
      "text/plain": [
       "<Figure size 1080x360 with 3 Axes>"
      ]
     },
     "metadata": {
      "needs_background": "light"
     },
     "output_type": "display_data"
    }
   ],
   "source": [
    "fig, ax = plt.subplots(1, 3, figsize = (15, 5))\n",
    "ax = ax.flatten()\n",
    "\n",
    "ax[0].plot(X2, ct, label = 'ml-1m')\n",
    "#ax[0].plot(X2, cl, label = 'ml-100k2')\n",
    "ax[0].set_title('Loss')\n",
    "ax[0].legend(loc = 7)\n",
    "\n",
    "ax[1].plot(epochs, nd2, label = 'ml-1m')\n",
    "ax[1].set_title('NDCG@5')\n",
    "ax[1].legend(loc = 7)\n",
    "\n",
    "ax[2].plot(X2, Y_test2, label = 'ml-1m')\n",
    "ax[2].set_title('RMSE')\n",
    "ax[2].legend(loc = 5 )\n",
    "plt.show()"
   ]
  },
  {
   "cell_type": "code",
   "execution_count": 44,
   "id": "unusual-newman",
   "metadata": {},
   "outputs": [],
   "source": [
    "import csv"
   ]
  },
  {
   "cell_type": "code",
   "execution_count": 45,
   "id": "molecular-baghdad",
   "metadata": {},
   "outputs": [
    {
     "data": {
      "text/plain": [
       "1958"
      ]
     },
     "execution_count": 45,
     "metadata": {},
     "output_type": "execute_result"
    }
   ],
   "source": [
    "len(X2)"
   ]
  },
  {
   "cell_type": "code",
   "execution_count": 46,
   "id": "continuous-jacket",
   "metadata": {},
   "outputs": [],
   "source": [
    "y_epoch = [i for i in range(0, 1958)]"
   ]
  },
  {
   "cell_type": "code",
   "execution_count": null,
   "id": "verified-confidentiality",
   "metadata": {},
   "outputs": [],
   "source": [
    "y_epoch = [i for i in range(0, 11876)]"
   ]
  },
  {
   "cell_type": "code",
   "execution_count": 50,
   "id": "listed-paste",
   "metadata": {},
   "outputs": [],
   "source": [
    "with open(\"1m_svdplusplus_Y_test.csv\", 'w', newline = '')  as file:\n",
    "        writer = csv.writer(file)\n",
    "        writer.writerow(y_epoch)\n",
    "        writer.writerows([Y_test2])"
   ]
  },
  {
   "cell_type": "code",
   "execution_count": 51,
   "id": "golden-comedy",
   "metadata": {},
   "outputs": [],
   "source": [
    "with open(\"1m_svdplusplus_ndcg.csv\", 'w', newline = '')  as file:\n",
    "        writer = csv.writer(file)\n",
    "        writer.writerow(epochs)\n",
    "        writer.writerows(nd2)"
   ]
  },
  {
   "cell_type": "code",
   "execution_count": 52,
   "id": "excess-anxiety",
   "metadata": {},
   "outputs": [],
   "source": [
    "with open(\"1m_normsvdplusplus_cost_test_list.csv\", 'w', newline = '')  as file:\n",
    "        writer = csv.writer(file)\n",
    "        writer.writerow(y_epoch)\n",
    "        writer.writerows([ct])"
   ]
  },
  {
   "cell_type": "code",
   "execution_count": null,
   "id": "fitted-velvet",
   "metadata": {},
   "outputs": [],
   "source": [
    "import gc\n",
    "import torch\n",
    "\n",
    "gc.collect()\n",
    "torch.cuda.empty_cache()"
   ]
  },
  {
   "cell_type": "code",
   "execution_count": null,
   "id": "considerable-peripheral",
   "metadata": {},
   "outputs": [],
   "source": [
    "loss_total"
   ]
  },
  {
   "cell_type": "code",
   "execution_count": null,
   "id": "derived-longer",
   "metadata": {},
   "outputs": [],
   "source": [
    "ratings.to(device)"
   ]
  },
  {
   "cell_type": "code",
   "execution_count": null,
   "id": "dried-revelation",
   "metadata": {},
   "outputs": [],
   "source": [
    "\n",
    "# mu = torch.nn.Parameter(torch.randn(1, n_gaussians, requires_grad=True).to(device))\n",
    "# log_std = torch.nn.Parameter(torch.abs(torch.randn(1, n_gaussians, requires_grad=True)).to(device))\n",
    "\n",
    "\n",
    "lambda1 = 0.0001\n",
    "lambda2 = 0.0001\n",
    "lambda3 = 0.1\n",
    "optimizer_P = torch.optim.Adam([P, Q, bi, bu] + list(layers_mean.parameters()), lr= 1e-4)\n",
    "optimizer_Q = torch.optim.Adam([P, Q, bi, bu] + list(layers_mean.parameters()), lr= 1e-4)\n",
    "scheduler_P = optim.lr_scheduler.CosineAnnealingWarmRestarts(optimizer_P, T_0 = 10, eta_min = 0.001, last_epoch = -1)\n",
    "scheduler_Q = optim.lr_scheduler.CosineAnnealingWarmRestarts(optimizer_Q, T_0 = 10, eta_min = 0.001, last_epoch = -1)\n",
    "\n",
    "\n",
    "X = []\n",
    "Y = []\n",
    "Y_test = []\n",
    "hypo_test = []\n",
    "true_rating = []\n",
    "idx_list = []\n",
    "cost_list = []\n",
    "cost_test_list = []\n",
    "loss_total = []\n",
    "\n",
    "for epoch in range(100000):\n",
    "    for i in range(37):\n",
    "        for j in range(64):\n",
    "            if np.isnan(R[i,j]) == False:\n",
    "                eij = (R[i,j] - mean - bu[i] - bi[j] - torch.dot(Q[j], P[i] + float(y_norm[i]) * torch.sum(Y[R[i] == 1], axis=0)))\n",
    "                bu[i] = bu[i] + lr_bias*(eij - regular_bias * bu[i])\n",
    "                bi[j] = bi[j] + lr_bias*(eij - regular_bias * bi[j])\n",
    "                P[i] = P[i] + lr * (eij * Q[j] - regular * P[i])\n",
    "                Q[j] = Q[j] + lr * (eij * (P[i] + (y_norm[i]) * torch.sum(Y[R[i] == 1], axis=0)) - regular * Q[j])\n",
    "                Y[j] = Y[j] + lr * (eij * y_norm[i] * Q[j] - regular * Y[j])\n",
    "                            \n",
    "    loss_iter = 0\n",
    "    for i in range(37):\n",
    "        for j in range(64):\n",
    "            if np.isnan(R[i,j]) == False:\n",
    "                p_nrm = torch.linalg.norm(P[i])**2\n",
    "                q_nrm = torch.linalg.norm(Q[j])**2\n",
    "                y_nrm = torch.linalg.norm(Y[train_r2[i] == 1], axis=1)**2\n",
    "                loss_iter += (train_r2[i,j] - mean - bu[i] - bi[j] - torch.dot(Q[j], P[i] + y_norm[i] * torch.sum(Y[train_r2[i] == 1], axis=0)))**2 \\\n",
    "                                  + regular * (p_nrm + q_nrm + torch.sum(y_nrm)) + regular_bias * (bu[i]**2 + bi[j]**2)\n",
    "    loss_total.append(loss_iter)    \n",
    "\n",
    "  # 가설 = 예상별점(아이템벡터와 유저벡터 내적) + 전체평점평균 + 아이템벡터의 bias + 유저벡터의 bias\n",
    "#    hypothesis_mean = layers_mean(P[items] / torch.sqrt(torch.sum(P[items]**2, axis= 1)).unsqueeze(1) * Q[users] / torch.sqrt(torch.sum(Q[users]**2, axis= 1)).unsqueeze(1))  \n",
    "    hypothesis_mean = layers_mean(P[items] / torch.sqrt(torch.sum(P[items]**2, axis= 1)).unsqueeze(1) * Q[users] / torch.sqrt(torch.sum(Q[users]**2, axis= 1)).unsqueeze(1))  + (torch.abs(bi[items]) + torch.abs(bu[users])).to(device).unsqueeze(1)\n",
    "                        \n",
    "    cost_P = F.mse_loss(hypothesis_mean, ratings.unsqueeze(1).to(device))                                                                                                        \n",
    "    \n",
    "  # 기울기 계산\n",
    "    optimizer_P.zero_grad()\n",
    "    cost_P.backward()\n",
    "    optimizer_P.step()\n",
    "    scheduler_P.step()\n",
    "\n",
    "#    hypothesis_mean = layers_mean(P[items] / torch.sqrt(torch.sum(P[items]**2, axis= 1)).unsqueeze(1) * Q[users] / torch.sqrt(torch.sum(Q[users]**2, axis= 1)).unsqueeze(1)) \n",
    "    hypothesis_mean = layers_mean(P[items] / torch.sqrt(torch.sum(P[items]**2, axis= 1)).unsqueeze(1) * Q[users] / torch.sqrt(torch.sum(Q[users]**2, axis= 1)).unsqueeze(1)) + (torch.abs(bi[items]) + torch.abs(bu[users])).to(device).unsqueeze(1)\n",
    "                        \n",
    "    cost_Q = F.mse_loss(hypothesis_mean, ratings.unsqueeze(1).to(device))\n",
    "\n",
    "    optimizer_Q.zero_grad()\n",
    "    cost_Q.backward()\n",
    "    optimizer_Q.step()\n",
    "    optimizer_Q.step()\n",
    "\n",
    "    \n",
    "    \n",
    "  # 기울기 계산 필요 없다.\n",
    "    with torch.no_grad():\n",
    "              # 만들어진 P, Q matrix로 예측값을 뽑아내고 검증데이터와 비교한다.\n",
    "\n",
    "              # 가설 = 예상별점(아이템벡터와 유저벡터 내적)\n",
    "#        hypo_test_mean = layers_mean(P[items_test] / torch.sqrt(torch.sum(P[items_test]**2, axis= 1)).unsqueeze(1) * Q[users_test] / torch.sqrt(torch.sum(Q[users_test]**2, axis= 1)).unsqueeze(1))                 \n",
    "        hypo_test_mean = layers_mean(P[items_test] / torch.sqrt(torch.sum(P[items_test]**2, axis= 1)).unsqueeze(1) * Q[users_test] / torch.sqrt(torch.sum(Q[users_test]**2, axis= 1)).unsqueeze(1)) + (torch.abs(bi[items_test]) + torch.abs(bu[users_test])).to(device).unsqueeze(1)                \n",
    "\n",
    "          # 비용 = MSE items_test items_test\n",
    "        cost = F.mse_loss(hypothesis_mean, ratings.unsqueeze(1).to(device))\n",
    "        cost_test = F.mse_loss(hypo_test_mean, ratings_test.unsqueeze(1).to(device))\n",
    "        X.append(epoch)\n",
    "\n",
    "        Y_test.append(cost_test.item() ** 0.5)\n",
    "        \n",
    "        cost_list.append(cost)\n",
    "        cost_test_list.append(cost_test)\n",
    "\n",
    "    if epoch % 100 == 0:\n",
    "        idx = np.random.choice(100020, 5, replace=False)\n",
    "        print(\"epoch: {}, train cost_P {:6f}, train cost_Q: {:.6f}, train cost: {:.6f}, test cost: {:.6f}, minimum test cost: {:.6f}\" .format(epoch, cost_P.item() , cost_Q.item(), cost.item() ** 0.5, cost_test.item() ** 0.5, np.min(Y_test)))\n",
    "        print(\"=================================================================================\")\n",
    "        print('means of test groups:', hypo_test_mean[idx])\n",
    "        print('ratings of test groups:', ratings_test[idx])\n",
    "        print(\"=================================================================================\")\n",
    "        \n",
    "        hypo_test.append(hypo_test_mean[idx])\n",
    "        true_rating.append(ratings_test[idx])\n",
    "        idx_list.append(idx)\n",
    "        \n",
    "        PP = P / torch.sqrt(torch.sum(P**2, axis = 1)).unsqueeze(1)\n",
    "        QQ = Q / torch.sqrt(torch.sum(Q**2, axis = 1)).unsqueeze(1)\n",
    "        plt.scatter(PP.detach().cpu().numpy()[:,0], PP.detach().cpu().numpy()[:,1])\n",
    "        plt.scatter(QQ.detach().cpu().numpy()[:,0], QQ.detach().cpu().numpy()[:,1])\n",
    "        plt.xlim((-1,1))\n",
    "        plt.ylim((-1,1))\n",
    "        plt.show()\n",
    "        \n",
    "        "
   ]
  },
  {
   "cell_type": "code",
   "execution_count": null,
   "id": "interim-status",
   "metadata": {},
   "outputs": [],
   "source": [
    "\n",
    "# mu = torch.nn.Parameter(torch.randn(1, n_gaussians, requires_grad=True).to(device))\n",
    "# log_std = torch.nn.Parameter(torch.abs(torch.randn(1, n_gaussians, requires_grad=True)).to(device))\n",
    "\n",
    "\n",
    "lambda1 = 0.0001\n",
    "lambda2 = 0.0001\n",
    "lambda3 = 0.1\n",
    "optimizer_P = torch.optim.Adam([P] + list(layers_mean.parameters()), lr= 1e-3)\n",
    "optimizer_Q = torch.optim.Adam([Q] + list(layers_mean.parameters()), lr= 1e-3)\n",
    "\n",
    "\n",
    "\n",
    "X = []\n",
    "Y = []\n",
    "Y_test = []\n",
    "\n",
    "\n",
    "for i in range(3705):\n",
    "    for j in range(6039):\n",
    "        if np.isnan(R[i,j]) == False:\n",
    "            eij = (R[i,j] - mean - bu[i] - bi[j] - torch.dot(Q[j], P[i] + float(y_norm[i]) * torch.sum(Y[R[i] == 1], axis=0)))\n",
    "            bu[i] = bu[i] + lr_bias*(eij - regular_bias * bu[i])\n",
    "            bi[j] = bi[j] + lr_bias*(eij - regular_bias * bi[j])\n",
    "            P[i] = P[i] + lr * (eij * Q[j] - regular * P[i])\n",
    "            Q[j] = Q[j] + lr * (eij * (P[i] + (y_norm[i]) * torch.sum(Y[R[i] == 1], axis=0)) - regular * Q[j])\n",
    "            Y[j] = Y[j] + lr * (eij * y_norm[i] * Q[j] - regular * Y[j])\n",
    "\n",
    "\n",
    "\n",
    "\n",
    "for epoch in range(100000):\n",
    "\n",
    "  # 가설 = 예상별점(아이템벡터와 유저벡터 내적) + 전체평점평균 + 아이템벡터의 bias + 유저벡터의 bias\n",
    "    hypothesis_mean = layers_mean(P[items] / torch.sqrt(torch.sum(P[items]**2, axis= 1)).unsqueeze(1) * Q[users] / torch.sqrt(torch.sum(Q[users]**2, axis= 1)).unsqueeze(1)) + (mean + bias_item[items].cuda() + bias_user[users].cuda()).unsqueeze(1)\n",
    "                        \n",
    "    cost_P = F.mse_loss(hypothesis_mean, ratings.unsqueeze(1).to(device))                                                                                                        \n",
    "    \n",
    "  # 기울기 계산\n",
    "    optimizer_P.zero_grad()\n",
    "    cost_P.backward()\n",
    "    optimizer_P.step()\n",
    "    \n",
    "    hypothesis_mean = layers_mean(P[items] / torch.sqrt(torch.sum(P[items]**2, axis= 1)).unsqueeze(1) * Q[users] / torch.sqrt(torch.sum(Q[users]**2, axis= 1)).unsqueeze(1)) + (mean + bias_item[items].cuda() + bias_user[users].cuda()).unsqueeze(1)\n",
    "                        \n",
    "    cost_Q = F.mse_loss(hypothesis_mean, ratings.unsqueeze(1).to(device))\n",
    "\n",
    "    optimizer_Q.zero_grad()\n",
    "    cost_Q.backward()\n",
    "    optimizer_Q.step()\n",
    "    \n",
    "  # 기울기 계산 필요 없다.\n",
    "    with torch.no_grad():\n",
    "              # 만들어진 P, Q matrix로 예측값을 뽑아내고 검증데이터와 비교한다.\n",
    "\n",
    "              # 가설 = 예상별점(아이템벡터와 유저벡터 내적)\n",
    "        hypo_test_mean = layers_mean(P[items_test] / torch.sqrt(torch.sum(P[items_test]**2, axis= 1)).unsqueeze(1) * Q[users_test] / torch.sqrt(torch.sum(Q[users_test]**2, axis= 1)).unsqueeze(1)) + (mean + bias_item[items_test].cuda() + bias_user[users_test].cuda()).unsqueeze(1)                          \n",
    "          # 비용 = MSE items_test items_test\n",
    "        cost = F.mse_loss(hypothesis_mean, ratings.unsqueeze(1).to(device))\n",
    "        cost_test = F.mse_loss(hypo_test_mean, ratings_test.unsqueeze(1).to(device))\n",
    "        X.append(epoch)\n",
    "\n",
    "        Y_test.append(cost_test.item() ** 0.5)\n",
    "\n",
    "    if epoch % 100 == 0:\n",
    "        idx = np.random.choice(100020, 5, replace=False)\n",
    "        print(\"epoch: {}, train cost_P {:6f}, train cost_Q: {:.6f}, train cost: {:.6f}, test cost: {:.6f}, minimum test cost: {:.6f}\" .format(epoch, cost_P.item() , cost_Q.item(), cost.item() ** 0.5, cost_test.item() ** 0.5, np.min(Y_test)))\n",
    "        print(\"=================================================================================\")\n",
    "        print('means of test groups:', hypo_test_mean[idx])\n",
    "        print('ratings of test groups:', ratings_test[idx])\n",
    "        print(\"=================================================================================\")\n",
    "        \n",
    "        PP = P / torch.sqrt(torch.sum(P**2, axis = 1)).unsqueeze(1)\n",
    "        QQ = Q / torch.sqrt(torch.sum(Q**2, axis = 1)).unsqueeze(1)\n",
    "        plt.scatter(PP.detach().cpu().numpy()[:,0], PP.detach().cpu().numpy()[:,1])\n",
    "        plt.scatter(QQ.detach().cpu().numpy()[:,0], QQ.detach().cpu().numpy()[:,1])\n",
    "        plt.xlim((-1,1))\n",
    "        plt.ylim((-1,1))\n",
    "        plt.show()\n",
    "        \n",
    "        "
   ]
  },
  {
   "cell_type": "code",
   "execution_count": null,
   "id": "magnetic-envelope",
   "metadata": {},
   "outputs": [],
   "source": [
    "numItems = items.max() + 1\n",
    "numUsers = users.max() + 1\n",
    "P = torch.nn.Parameter(torch.nn.init.orthogonal_(torch.empty(numItems, rank)).to(device), requires_grad=True)\n",
    "Q = torch.nn.Parameter(torch.nn.init.orthogonal_(torch.empty(numUsers, rank)).to(device), requires_grad=True)"
   ]
  },
  {
   "cell_type": "code",
   "execution_count": null,
   "id": "other-personal",
   "metadata": {},
   "outputs": [],
   "source": [
    "bias_item = torch.randn(numItems, requires_grad = True)\n",
    "bias_user = torch.randn(numUsers, requires_grad = True)"
   ]
  },
  {
   "cell_type": "code",
   "execution_count": null,
   "id": "hindu-mining",
   "metadata": {},
   "outputs": [],
   "source": [
    "mean = (ratings.sum()/len(ratings)).item()"
   ]
  },
  {
   "cell_type": "code",
   "execution_count": null,
   "id": "relative-gateway",
   "metadata": {},
   "outputs": [],
   "source": [
    "R = torch.nn.Parameter(torch.nn.init.orthogonal_(torch.empty(numUsers, rank)).to(device), requires_grad=True)"
   ]
  },
  {
   "cell_type": "code",
   "execution_count": null,
   "id": "registered-gilbert",
   "metadata": {},
   "outputs": [],
   "source": [
    "pd.DataFrame(pow(np.sum()))"
   ]
  },
  {
   "cell_type": "code",
   "execution_count": null,
   "id": "fuzzy-dream",
   "metadata": {},
   "outputs": [],
   "source": [
    "train_1 = pd.read_csv('../ml-100k/ua.base',sep='\\t', header=None, names=['userId', 'itemId', 'rating','timestamp'])\n",
    "test_1 = pd.read_csv('../ml-100k/ua.test',sep='\\t', header=None, names=['userId', 'itemId', 'rating','timestamp'])\n",
    "train_2 = pd.read_csv('../ml-100k/ub.base',sep='\\t', header=None, names=['userId', 'itemId', 'rating','timestamp'])\n",
    "test_2 = pd.read_csv('../ml-100k/ub.test',sep='\\t', header=None, names=['userId', 'itemId', 'rating','timestamp'])"
   ]
  },
  {
   "cell_type": "code",
   "execution_count": null,
   "id": "exempt-attachment",
   "metadata": {},
   "outputs": [],
   "source": [
    "train_ratings = train_1.userId.count()\n",
    "test_ratings = test_1.userId.count()\n",
    "train_frac = train_ratings/(train_ratings+test_ratings)*100\n",
    "print(f'Train/test split is: {train_frac, 100-train_frac}')"
   ]
  },
  {
   "cell_type": "code",
   "execution_count": null,
   "id": "lightweight-intake",
   "metadata": {},
   "outputs": [],
   "source": [
    "R_train1 = pd.pivot_table(train_1, values='rating', index='userId', columns='itemId')\n",
    "R_test1 = pd.pivot_table(test_1, values='rating', index='userId', columns='itemId')"
   ]
  },
  {
   "cell_type": "code",
   "execution_count": null,
   "id": "macro-consolidation",
   "metadata": {},
   "outputs": [],
   "source": [
    "R_train1.shape, R_test1.shape"
   ]
  },
  {
   "cell_type": "code",
   "execution_count": null,
   "id": "careful-revolution",
   "metadata": {},
   "outputs": [],
   "source": [
    "F = R_train1.copy()\n",
    "\n",
    "for i in F.index:\n",
    "    for j in F.columns:\n",
    "        if np.isnan(F.loc[i,j]) == True:\n",
    "            F.loc[i,j] = 0\n",
    "        elif np.isnan(F.loc[i,j]) == False:\n",
    "            F.loc[i,j] = 1\n",
    "        else: continue"
   ]
  },
  {
   "cell_type": "code",
   "execution_count": null,
   "id": "direct-liquid",
   "metadata": {},
   "outputs": [],
   "source": [
    "F.head()"
   ]
  },
  {
   "cell_type": "code",
   "execution_count": null,
   "id": "worse-magic",
   "metadata": {},
   "outputs": [],
   "source": [
    "print(np.mean(np.nanmean(R_train1, axis=0)))\n",
    "print(np.mean(np.nanmean(R_train1, axis=1)))"
   ]
  },
  {
   "cell_type": "code",
   "execution_count": null,
   "id": "environmental-depression",
   "metadata": {},
   "outputs": [],
   "source": [
    "count = 0\n",
    "r_sum = 0\n",
    "\n",
    "for i in R_train1.index:\n",
    "    for j in R_train1.columns:\n",
    "        if np.isnan(R_train1.loc[i,j]) == False:\n",
    "            count += 1\n",
    "            r_sum += R_train1.loc[i,j]\n",
    "        else: continue\n",
    "\n",
    "mu = r_sum/count"
   ]
  },
  {
   "cell_type": "code",
   "execution_count": null,
   "id": "copyrighted-client",
   "metadata": {},
   "outputs": [],
   "source": [
    "print(f'The global mean/bias for our matrix is: {mu}')\n"
   ]
  },
  {
   "cell_type": "code",
   "execution_count": null,
   "id": "varied-fitness",
   "metadata": {},
   "outputs": [],
   "source": [
    "bias_item = torch.randn(numItems, requires_grad = True)\n",
    "bias_user = torch.randn(numUsers, requires_grad = True)"
   ]
  },
  {
   "cell_type": "code",
   "execution_count": null,
   "id": "turkish-hebrew",
   "metadata": {},
   "outputs": [],
   "source": [
    "n = len(R_train1.index)\n",
    "m = len(R_train1.columns)"
   ]
  },
  {
   "cell_type": "code",
   "execution_count": null,
   "id": "metallic-purpose",
   "metadata": {},
   "outputs": [],
   "source": [
    "Bu1 = pd.DataFrame(np.random.rand(n), index= R_train1.index) \n",
    "Bi1 = pd.DataFrame(np.random.rand(m), index= R_train1.columns)"
   ]
  },
  {
   "cell_type": "code",
   "execution_count": null,
   "id": "official-reproduction",
   "metadata": {},
   "outputs": [],
   "source": [
    "P1 = pd.DataFrame(np.random.rand(n,10), index=R_train1.index)\n",
    "Q1 = pd.DataFrame(np.random.rand(m,10), index=R_train1.columns)\n",
    "Y1 = pd.DataFrame(np.random.rand(m,10), index=R_train1.columns)"
   ]
  },
  {
   "cell_type": "code",
   "execution_count": null,
   "id": "protecting-cotton",
   "metadata": {},
   "outputs": [],
   "source": [
    "P1.shape, Q1.shape, Y1.shape"
   ]
  },
  {
   "cell_type": "code",
   "execution_count": null,
   "id": "attempted-angle",
   "metadata": {},
   "outputs": [],
   "source": [
    "train_r1 = np.where(train_r == 0, 0, 1)"
   ]
  },
  {
   "cell_type": "code",
   "execution_count": null,
   "id": "knowing-consultancy",
   "metadata": {},
   "outputs": [],
   "source": [
    "train_r2 = torch.from_numpy(train_r1)"
   ]
  },
  {
   "cell_type": "code",
   "execution_count": null,
   "id": "dangerous-newspaper",
   "metadata": {},
   "outputs": [],
   "source": [
    "numItems = items.max() + 1\n",
    "numUsers = users.max() + 1\n",
    "P = torch.nn.Parameter(torch.nn.init.orthogonal_(torch.empty(numItems, rank)).to(device), requires_grad=True)\n",
    "Q = torch.nn.Parameter(torch.nn.init.orthogonal_(torch.empty(numUsers, rank)).to(device), requires_grad=True)\n",
    "Y = torch.nn.Parameter(torch.nn.init.orthogonal_(torch.empty(numUsers, rank)).to(device), requires_grad=True)"
   ]
  },
  {
   "cell_type": "code",
   "execution_count": null,
   "id": "brief-disco",
   "metadata": {},
   "outputs": [],
   "source": [
    "P.shape, Q.shape, Y.shape"
   ]
  },
  {
   "cell_type": "code",
   "execution_count": null,
   "id": "impossible-nebraska",
   "metadata": {},
   "outputs": [],
   "source": [
    "mean = (ratings.sum()/len(ratings)).item()"
   ]
  },
  {
   "cell_type": "code",
   "execution_count": null,
   "id": "bizarre-omaha",
   "metadata": {},
   "outputs": [],
   "source": [
    "y_norm = torch.pow(torch.sum(train_r2, axis=0), -1/2)"
   ]
  },
  {
   "cell_type": "code",
   "execution_count": null,
   "id": "assured-supplier",
   "metadata": {},
   "outputs": [],
   "source": [
    "def SVDplusplus(R, mean, rank, steps, lr, regular, lr_bias, regular_bias):\n",
    "    \n",
    "    '''\n",
    "    R : train_r\n",
    "    rank = 20\n",
    "    lr = learning_rate\n",
    "    '''\n",
    "    \n",
    "    rank = rank\n",
    "    #get the dimentions of R\n",
    "    n = train_r.shape[0]\n",
    "    m = train_r.shape[1]\n",
    "    \n",
    "    numItems = items.max() + 1\n",
    "    numUsers = users.max() + 1\n",
    "    \n",
    "    #initialize the user, item and global bias\n",
    "    bias_item = torch.randn(numItems, requires_grad = True)\n",
    "    bias_user = torch.randn(numUsers, requires_grad = True)\n",
    "    mean = mean\n",
    "    \n",
    "    #initialize the user-factor, item-factor and feedback-factor matrices\n",
    "    P = torch.nn.Parameter(torch.nn.init.orthogonal_(torch.empty(numItems, rank)).to(device), requires_grad=True)\n",
    "    Q = torch.nn.Parameter(torch.nn.init.orthogonal_(torch.empty(numUsers, rank)).to(device), requires_grad=True)\n",
    "    Y = torch.nn.Parameter(torch.nn.init.orthogonal_(torch.empty(numUsers, rank)).to(device), requires_grad=True)\n",
    "    \n",
    "    #precalculate implicit feedback metrics\n",
    "    train_r1 = np.where(train_r == 0, 0, 1)\n",
    "    train_r2 = torch.from_numpy(train_r1)\n",
    "    \n",
    "    y_norm = torch.pow(torch.sum(train_r2, axis=0), -1/2)\n",
    "        \n",
    "    loss_total = []\n",
    "    \n",
    "    for s in range(steps):\n",
    "        print(f'Iteration {s} started')\n",
    "        for i in range(R.shape[0]):\n",
    "            for j in range(R.shape[1]):\n",
    "                if np.isnan(R[i,j]) == False:\n",
    "                    eij = (R[i,j] - mean - bu[i] - bi[j] - torch.dot(Q[j], P[i] + float(y_norm[i]) * torch.sum(Y[R[i] == 1], axis=0)))\n",
    "                    bu[i] = bu[i] + lr_bias*(eij - regular_bias * bu[i])\n",
    "                    bi[j] = bi[j] + lr_bias*(eij - regular_bias * bi[j])\n",
    "                    P[i] = P[i] + lr * (eij * Q[j] - regular * P[i])\n",
    "                    Q[j] = Q[j] + lr * (eij * (P[i] + (y_norm[i]) * torch.sum(Y[R[i] == 1], axis=0)) - regular * Q[j])\n",
    "                    Y[j] = Y[j] + lr * (eij * y_norm[i] * Q[j] - regular * Y[j])\n",
    "                    \n",
    "        loss_iter = 0\n",
    "        for i in range(train_r2.shape[0]):\n",
    "            for j in range(train_r2.shape[1]):\n",
    "                if np.isnan(R[i,j]) == False:\n",
    "                    p_nrm = torch.linalg.norm(P[i])**2\n",
    "                    q_nrm = torch.linalg.norm(Q[j])**2\n",
    "                    y_nrm = torch.linalg.norm(Y[train_r2[i] == 1], axis=1)**2\n",
    "                    loss_iter += (train_r2[i,j] - mean - bu[i] - bi[j] - torch.dot(Q[j], P[i] + y_norm[i] * torch.sum(Y[train_r2[i] == 1], axis=0)))**2 \\\n",
    "                                  + regular * (p_nrm + q_nrm + torch.sum(y_nrm)) + regular_bias * (bu[i]**2 + bi[j]**2)\n",
    "        loss_total.append(loss_iter)\n",
    "        print(f'Iteration: {s} \\t Loss: {loss_total[-1]}')            \n",
    "    \n",
    "    return P, Q, Y, bu, bi, loss_total            "
   ]
  },
  {
   "cell_type": "code",
   "execution_count": null,
   "id": "broke-tunnel",
   "metadata": {},
   "outputs": [],
   "source": [
    "train_r.shape"
   ]
  },
  {
   "cell_type": "code",
   "execution_count": null,
   "id": "rotary-maple",
   "metadata": {},
   "outputs": [],
   "source": [
    "P = torch.nn.Parameter(torch.nn.init.orthogonal_(torch.empty(numItems, rank)).to(device), requires_grad=True)\n",
    "Q = torch.nn.Parameter(torch.nn.init.orthogonal_(torch.empty(numUsers, rank)).to(device), requires_grad=True)\n",
    "Y = torch.nn.Parameter(torch.nn.init.orthogonal_(torch.empty(numUsers, rank)).to(device), requires_grad=True)"
   ]
  },
  {
   "cell_type": "code",
   "execution_count": null,
   "id": "presidential-cheese",
   "metadata": {},
   "outputs": [],
   "source": [
    "SVDplusplus(train_r, mean, 15, 2, 0.02, 0.1, 0.01, 0.007)"
   ]
  },
  {
   "cell_type": "code",
   "execution_count": null,
   "id": "unnecessary-avatar",
   "metadata": {},
   "outputs": [],
   "source": [
    "SVDplusplus(R_train1, mu, 15, 2, 0.02, 0.1, 0.01, 0.007)\n",
    "SVDplusplus(R, mean, rank, steps, lr, regular, lr_bias, regular_bias)"
   ]
  },
  {
   "cell_type": "code",
   "execution_count": null,
   "id": "living-latvia",
   "metadata": {},
   "outputs": [],
   "source": [
    "train_r2.shape"
   ]
  },
  {
   "cell_type": "code",
   "execution_count": null,
   "id": "specialized-teacher",
   "metadata": {},
   "outputs": [],
   "source": [
    "def SVDplusplus(R, mean, rank, steps, lr, regular, lr_bias, regular_bias):\n",
    "    \n",
    "    '''\n",
    "    R : train_r\n",
    "    rank = 20\n",
    "    lr = learning_rate\n",
    "    '''\n",
    "    \n",
    "    rank = rank\n",
    "    #get the dimentions of R\n",
    "    n = train_r.shape[0]\n",
    "    m = train_r.shape[1]\n",
    "    \n",
    "    numItems = items.max() + 1\n",
    "    numUsers = users.max() + 1\n",
    "    \n",
    "    #initialize the user, item and global bias\n",
    "    bias_item = torch.randn(numItems, requires_grad = True)\n",
    "    bias_user = torch.randn(numUsers, requires_grad = True)\n",
    "    mean = mean\n",
    "    \n",
    "    #initialize the user-factor, item-factor and feedback-factor matrices\n",
    "    P = torch.nn.Parameter(torch.nn.init.orthogonal_(torch.empty(numItems, rank)).to(device), requires_grad=True)\n",
    "    Q = torch.nn.Parameter(torch.nn.init.orthogonal_(torch.empty(numUsers, rank)).to(device), requires_grad=True)\n",
    "    Y = torch.nn.Parameter(torch.nn.init.orthogonal_(torch.empty(numUsers, rank)).to(device), requires_grad=True)\n",
    "    \n",
    "    #precalculate implicit feedback metrics\n",
    "    train_r1 = np.where(train_r == 0, 0, 1)\n",
    "    train_r2 = torch.from_numpy(train_r1)\n",
    "    \n",
    "    y_norm = torch.pow(torch.sum(train_r2, axis=0), -1/2)\n",
    "        \n",
    "    loss_total = []"
   ]
  },
  {
   "cell_type": "code",
   "execution_count": null,
   "id": "hundred-laptop",
   "metadata": {},
   "outputs": [],
   "source": [
    "lr = 0.01\n",
    "regular = 0.1\n",
    "lr_bias = 0.01\n",
    "regular_bias = 0.001\n",
    "\n",
    "eij = []\n",
    "for i in range(3706):\n",
    "    for j in range(6040):\n",
    "        if np.isnan(train_r2[i,j]) == False:\n",
    "            eij = (train_r2[i,j] - mean - bu[i] - bi[j] - torch.dot(Q[j], P[i] + float(y_norm[i]) * torch.sum(Y[train_r1[i] == 1], axis=0)))\n",
    "            bu[i] = bu[i] + lr_bias*(eij - regular_bias * bu[i])\n",
    "            bi[j] = bi[j] + lr_bias*(eij - regular_bias * bi[j])\n",
    "            P[i] = P[i] + lr * (eij * Q[j] - regular * P[i])\n",
    "            Q[j] = Q[j] + lr * (eij * (P[i] + (y_norm[i]) * torch.sum(Y[train_r2[i] == 1], axis=0)) - regular * Q[j])\n",
    "            Y[j] = Y[j] + lr * (eij * y_norm[i] * Q[j] - regular * Y[j])\n",
    "                    \n",
    "#     loss_iter = 0\n",
    "#     for i in range(train_r2.shape[0]-1):\n",
    "#         for j in range(train_r2.shape[1]-1):\n",
    "#             if np.isnan(train_r2[i,j]) == False:\n",
    "#                 p_nrm = torch.linalg.norm(P[i])**2\n",
    "#                 q_nrm = torch.linalg.norm(Q[j])**2\n",
    "#                 y_nrm = torch.linalg.norm(Y[train_r2[i] == 1], axis=1)**2\n",
    "#                 loss_iter += (train_r2[i,j] - mean - bu[i] - bi[j] - torch.dot(Q[j], P[i] + y_norm[i] * torch.sum(Y[train_r2[i] == 1], axis=0)))**2 \\\n",
    "#                                   + regular * (p_nrm + q_nrm + torch.sum(y_nrm)) + regular_bias * (bu[i]**2 + bi[j]**2)\n",
    "#     loss_total2.append(loss_iter)\n",
    "#     print(f'Iteration: {s} \\t Loss: {loss_total[-1]}')"
   ]
  },
  {
   "cell_type": "code",
   "execution_count": null,
   "id": "celtic-nature",
   "metadata": {},
   "outputs": [],
   "source": [
    "loss_totla2 = []\n",
    "for i in range(train_r2.shape[0]):\n",
    "    for j in range(train_r2.shape[1]):\n",
    "        if np.isnan(train_r2[i,j]) == False:\n",
    "            eij = (train_r2[i,j] - mean - bu[i] - bi[j] - torch.dot(Q[j], P[i] + float(y_norm[i]) * torch.sum(Y[train_r2[i] == 1], axis=0)))\n",
    "            bu[i] = bu[i] + lr_bias*(eij - regular_bias * bu[i])\n",
    "            bi[j] = bi[j] + lr_bias*(eij - regular_bias * bi[j])\n",
    "            P[i] = P[i] + lr * (eij * Q[j] - regular * P[i])\n",
    "            Q[j] = Q[j] + lr * (eij * (P[i] + (y_norm[i]) * torch.sum(Y[train_r2[i] == 1], axis=0)) - regular * Q[j])\n",
    "            Y[j] = Y[j] + lr * (eij * y_norm[i] * Q[j] - regular * Y[j])\n",
    "\n",
    "    loss_iter = 0\n",
    "for i in range(train_r2.shape[0]):\n",
    "    for j in range(train_r2.shape[1]):\n",
    "        if np.isnan(train_r2[i,j]) == False:\n",
    "            p_nrm = torch.linalg.norm(P[i])**2\n",
    "            q_nrm = torch.linalg.norm(Q[j])**2\n",
    "            y_nrm = torch.linalg.norm(Y[train_r2[i] == 1], axis=1)**2\n",
    "            loss_iter += (train_r2[i,j] - mean - bu[i] - bi[j] - torch.dot(Q[j], P[i] + y_norm[i] * torch.sum(Y[train_r2[i] == 1], axis=0)))**2 \\\n",
    "                                  + regular * (p_nrm + q_nrm + torch.sum(y_nrm)) + regular_bias * (bu[i]**2 + bi[j]**2)\n",
    "loss_total2.append(loss_iter)\n",
    "print(f'Iteration: {s} \\t Loss: {loss_total[-1]}')"
   ]
  },
  {
   "cell_type": "code",
   "execution_count": null,
   "id": "obvious-checkout",
   "metadata": {},
   "outputs": [],
   "source": [
    "Q.shape, P.shape"
   ]
  },
  {
   "cell_type": "code",
   "execution_count": null,
   "id": "worthy-facility",
   "metadata": {},
   "outputs": [],
   "source": [
    "train_r2.shape"
   ]
  },
  {
   "cell_type": "code",
   "execution_count": null,
   "id": "sized-component",
   "metadata": {},
   "outputs": [],
   "source": [
    "train_r2[0,0] - mean - bu[0] - bi[0] - torch.dot(Q[0], P[0] + float(y_norm[0]) * torch.sum(Y[train_r2[0] == 1], axis = 0))"
   ]
  },
  {
   "cell_type": "code",
   "execution_count": null,
   "id": "everyday-collaboration",
   "metadata": {},
   "outputs": [],
   "source": [
    "Q1.shape, P1.shape"
   ]
  },
  {
   "cell_type": "code",
   "execution_count": null,
   "id": "coral-screw",
   "metadata": {},
   "outputs": [],
   "source": [
    "len(R_train1.index), len(R_train1.columns)"
   ]
  },
  {
   "cell_type": "code",
   "execution_count": null,
   "id": "expected-disco",
   "metadata": {},
   "outputs": [],
   "source": [
    "def SVDplusplus(R, F, mu, factors, steps, lrn_rate, regular, lrn_rate_bias, regular_bias):\n",
    "    \n",
    "    #get the dimentions of R\n",
    "    n = len(R.index)\n",
    "    m = len(R.columns)\n",
    "    \n",
    "    #initialize the user, item and global bias\n",
    "    Bu = pd.DataFrame(np.random.rand(n), index=R.index) \n",
    "    Bi = pd.DataFrame(np.random.rand(m), index=R.columns)\n",
    "    mu = mu\n",
    "    \n",
    "    #initialize the user-factor, item-factor and feedback-factor matrices\n",
    "    P = pd.DataFrame(np.random.rand(n,factors), index=R.index)\n",
    "    Q = pd.DataFrame(np.random.rand(m,factors), index=R.columns)\n",
    "    Y = pd.DataFrame(np.random.rand(m,factors), index=R.columns)\n",
    "    \n",
    "    #precalculate implicit feedback metrics\n",
    "    y_norm = pd.DataFrame(pow(np.sum(F, axis=1), -1/2), index=F.index)\n",
    "    \n",
    "    loss_total = []\n",
    "    \n",
    "    for s in range(steps):\n",
    "        print(f'Iteration {s} started')\n",
    "        for i in train_r2.shape:\n",
    "            for j in train_r2.shape[1]:\n",
    "                if np.isnan(train_r2[i,j]) == False:\n",
    "                                  \n",
    "                    eij = (train_r2[i,j] \n",
    "                           - mean\n",
    "                           - bu[i] \n",
    "                           - bi[j] \n",
    "                           - np.dot(Q.loc[j], P.loc[i] + float(y_norm.loc[i])*np.sum(Y[F.loc[i]==1], axis=0)))\n",
    "                    \n",
    "                    Bu.loc[i] = Bu.loc[i] + lrn_rate_bias*(eij - regular_bias*Bu.loc[i])\n",
    "                    Bi.loc[j] = Bi.loc[j] + lrn_rate_bias*(eij - regular_bias*Bi.loc[j])\n",
    "                    P.loc[i] = P.loc[i] + lrn_rate*(eij*Q.loc[j] - regular*P.loc[i])\n",
    "                    Q.loc[j] = Q.loc[j] + lrn_rate*(eij*(P.loc[i] + (y_norm.loc[i])*np.sum(Y[F.loc[i]==1], axis=0))\\\n",
    "                                                    - regular*Q.loc[j])\n",
    "                    Y.loc[j] = Y.loc[j] + lrn_rate*(eij*y_norm.loc[i]*Q.loc[j] - regular*Y.loc[j])\n",
    "                    \n",
    "                    #print our vars for debugging purposes\n",
    "#                     print(f'''y_norm*Y_sum: \\n {float(y_norm.loc[i])*np.sum(Y[F.loc[i]==1], axis=0)} \\n,\n",
    "#                           P_i + y_norm*Y_sum: \\n {P.loc[i] + float(y_norm.loc[i])*np.sum(Y[F.loc[i]==1], axis=0)} \\n,\n",
    "#                           dot product: {np.dot(Q.loc[j], P.loc[i].array + float(y_norm.loc[i])*np.sum(Y[F.loc[i]==1], axis=0))}\\n,\n",
    "#                           eij: {eij} \\n,\n",
    "#                           Bu: {Bu.loc[i]} \\n,\n",
    "#                           Bi: {Bi.loc[j]} \\n,\n",
    "#                           Q_j: {Q.loc[j]} \\n,\n",
    "#                           P_i: {P.loc[i]} \\n,\n",
    "#                           Y_j: {Y.loc[j]} \\n,\n",
    "#                           Bu nan {np.sum(np.isnan(Bu))},\n",
    "#                           Bi nan {np.sum(np.isnan(Bi))},\n",
    "#                           P nan {np.sum(np.sum(np.isnan(P)))},\n",
    "#                           Q nan {np.sum(np.sum(np.isnan(Q)))},\n",
    "#                           Y nan {np.sum(np.sum(np.isnan(Y)))}''')\n",
    "        \n",
    "        #calculae the loss\n",
    "        loss_iter = 0\n",
    "        for i in R.index:\n",
    "            for j in R.columns:\n",
    "                if np.isnan(R.loc[i,j]) == False:\n",
    "                    p_nrm = np.linalg.norm(P.loc[i])**2\n",
    "                    q_nrm = np.linalg.norm(Q.loc[j])**2\n",
    "                    y_nrm = np.linalg.norm(Y[F.loc[i]==1], axis=1)**2\n",
    "                    loss_iter += (R.loc[i,j] \n",
    "                                  - mu \n",
    "                                  - Bu.loc[i] \n",
    "                                  - Bi.loc[j] \n",
    "                                  - np.dot(Q.loc[j], P.loc[i] + y_norm.loc[i]*np.sum(Y[F.loc[i]==1], axis=0)))**2 \\\n",
    "                                  + regular*(p_nrm + q_nrm + np.sum(y_nrm))\\\n",
    "                                  + regular_bias*(Bu.loc[i]**2 + Bi.loc[j]**2)\n",
    "        loss_total.append(loss_iter)\n",
    "        print(f'Iteration: {s} \\t Loss: {loss_total[-1]}')            \n",
    "    \n",
    "    return P, Q, Y, Bu, Bi, loss_total"
   ]
  },
  {
   "cell_type": "code",
   "execution_count": null,
   "id": "religious-killing",
   "metadata": {},
   "outputs": [],
   "source": [
    "P, Q, Y, Bu, Bi, loss = SVDplusplus(R_train1, F, mu, 15, 2, 0.02, 0.1, 0.01, 0.007)"
   ]
  },
  {
   "cell_type": "code",
   "execution_count": null,
   "id": "particular-potential",
   "metadata": {},
   "outputs": [],
   "source": [
    "R_train1.index"
   ]
  },
  {
   "cell_type": "code",
   "execution_count": null,
   "id": "variable-animation",
   "metadata": {},
   "outputs": [],
   "source": [
    "R_train1.columns"
   ]
  },
  {
   "cell_type": "code",
   "execution_count": null,
   "id": "ahead-player",
   "metadata": {},
   "outputs": [],
   "source": [
    "F.loc[4] + F.loc[3]"
   ]
  },
  {
   "cell_type": "code",
   "execution_count": null,
   "id": "architectural-journal",
   "metadata": {},
   "outputs": [],
   "source": [
    "y_norm = pd.DataFrame(pow(np.sum(F, axis = 1), -1/2), index = F.index)"
   ]
  },
  {
   "cell_type": "code",
   "execution_count": null,
   "id": "convinced-banner",
   "metadata": {},
   "outputs": [],
   "source": [
    "np.sum(np.sum(np.isnan(P)))"
   ]
  },
  {
   "cell_type": "code",
   "execution_count": null,
   "id": "presidential-surface",
   "metadata": {},
   "outputs": [],
   "source": [
    "Bi = pd.DataFrame(np.random.rand(len(R_train1.columns)), index=R_train1.columns)\n",
    "Bu = pd.DataFrame(np.random.rand(len(R_train1.index)), index=R_train1.index)\n",
    "print(Bu.loc[943])\n",
    "print (Bi.loc[4])\n",
    "print(Bu.loc[943]+Bi.loc[4])"
   ]
  },
  {
   "cell_type": "code",
   "execution_count": null,
   "id": "buried-mistress",
   "metadata": {},
   "outputs": [],
   "source": [
    "counter = 0\n",
    "se = 0\n",
    "ae = 0\n",
    "\n",
    "for i in R_test1.index:\n",
    "    for j in R_test1.columns:\n",
    "        if np.isnan(R_test1.loc[i,j]) == False:\n",
    "            if j in Q.index == True:\n",
    "                r_pred = (mu \n",
    "                          + Bu.loc[i]\n",
    "                          + Bi.loc[j]\n",
    "                          + np.dot(Q.loc[j], P.loc[i] + y_norm.loc[i]*np.sum(Y[F.loc[i]==1], axis=0)))\n",
    "                se += (R_test1.loc[i,j] - r_pred)**2\n",
    "                ae += np.abs(R_test1.loc[i,j] - r_pred)\n",
    "                counter += 1\n",
    "            elif j in Q.index == False:\n",
    "                r_pred = mu + Bi[j]\n",
    "                se += (R_test1.loc[i,j] - r_pred)**2\n",
    "                ae += np.abs(R_test1.loc[i,j] - r_pred)\n",
    "                counter += 1\n",
    "            else: continue\n",
    "    \n",
    "rmse = (se/counter)**(1/2)\n",
    "mae = ae/counter\n",
    "\n",
    "print(f'The model RMSE: {rmse} \\t The model MAE: {mae}')"
   ]
  },
  {
   "cell_type": "code",
   "execution_count": null,
   "id": "dutch-particle",
   "metadata": {},
   "outputs": [],
   "source": [
    "for current_epoch in range(n_epochs):\n",
    "    print(\"processing epoch {}\".format(current_epoch))\n",
    "    for u, i, r in train_dataset.all_ratings():\n",
    "        Nu = tra"
   ]
  },
  {
   "cell_type": "code",
   "execution_count": null,
   "id": "refined-material",
   "metadata": {},
   "outputs": [],
   "source": []
  },
  {
   "cell_type": "code",
   "execution_count": null,
   "id": "fixed-madagascar",
   "metadata": {},
   "outputs": [],
   "source": []
  },
  {
   "cell_type": "code",
   "execution_count": null,
   "id": "fifty-regression",
   "metadata": {},
   "outputs": [],
   "source": []
  },
  {
   "cell_type": "code",
   "execution_count": null,
   "id": "mobile-width",
   "metadata": {},
   "outputs": [],
   "source": []
  }
 ],
 "metadata": {
  "kernelspec": {
   "display_name": "Python 3",
   "language": "python",
   "name": "python3"
  },
  "language_info": {
   "codemirror_mode": {
    "name": "ipython",
    "version": 3
   },
   "file_extension": ".py",
   "mimetype": "text/x-python",
   "name": "python",
   "nbconvert_exporter": "python",
   "pygments_lexer": "ipython3",
   "version": "3.7.10"
  }
 },
 "nbformat": 4,
 "nbformat_minor": 5
}
