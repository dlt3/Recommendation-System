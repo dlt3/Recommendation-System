{
 "cells": [
  {
   "cell_type": "code",
   "execution_count": 16,
   "id": "moral-consciousness",
   "metadata": {},
   "outputs": [],
   "source": [
    "import pickle\n",
    "import pandas as pd\n",
    "import numpy as np\n",
    "import os, sys, gc \n",
    "from plotnine import *\n",
    "import plotnine\n",
    "import scipy\n",
    "import torch\n",
    "import torch.nn.functional as F\n",
    "from torch import nn\n",
    "import matplotlib.pyplot as plt\n",
    "import torch.nn.init as weight_init\n",
    "%matplotlib inline\n",
    "\n",
    "from tqdm.notebook import tqdm as tqdm_notebook\n",
    "import seaborn as sns\n",
    "import warnings\n",
    "import matplotlib.pyplot as plt\n",
    "import matplotlib.font_manager as fm\n",
    "import matplotlib as mpl\n",
    "from matplotlib import rc\n",
    "import re\n",
    "from matplotlib.ticker import PercentFormatter\n",
    "import datetime\n",
    "from math import log"
   ]
  },
  {
   "cell_type": "code",
   "execution_count": 138,
   "id": "accepted-receiver",
   "metadata": {},
   "outputs": [
    {
     "data": {
      "text/html": [
       "<div>\n",
       "<style scoped>\n",
       "    .dataframe tbody tr th:only-of-type {\n",
       "        vertical-align: middle;\n",
       "    }\n",
       "\n",
       "    .dataframe tbody tr th {\n",
       "        vertical-align: top;\n",
       "    }\n",
       "\n",
       "    .dataframe thead th {\n",
       "        text-align: right;\n",
       "    }\n",
       "</style>\n",
       "<table border=\"1\" class=\"dataframe\">\n",
       "  <thead>\n",
       "    <tr style=\"text-align: right;\">\n",
       "      <th></th>\n",
       "      <th>book_id</th>\n",
       "      <th>user_id</th>\n",
       "      <th>rating</th>\n",
       "    </tr>\n",
       "  </thead>\n",
       "  <tbody>\n",
       "    <tr>\n",
       "      <th>0</th>\n",
       "      <td>1</td>\n",
       "      <td>314</td>\n",
       "      <td>5</td>\n",
       "    </tr>\n",
       "    <tr>\n",
       "      <th>1</th>\n",
       "      <td>1</td>\n",
       "      <td>439</td>\n",
       "      <td>3</td>\n",
       "    </tr>\n",
       "    <tr>\n",
       "      <th>2</th>\n",
       "      <td>1</td>\n",
       "      <td>588</td>\n",
       "      <td>5</td>\n",
       "    </tr>\n",
       "    <tr>\n",
       "      <th>3</th>\n",
       "      <td>1</td>\n",
       "      <td>1169</td>\n",
       "      <td>4</td>\n",
       "    </tr>\n",
       "    <tr>\n",
       "      <th>4</th>\n",
       "      <td>1</td>\n",
       "      <td>1185</td>\n",
       "      <td>4</td>\n",
       "    </tr>\n",
       "    <tr>\n",
       "      <th>...</th>\n",
       "      <td>...</td>\n",
       "      <td>...</td>\n",
       "      <td>...</td>\n",
       "    </tr>\n",
       "    <tr>\n",
       "      <th>981751</th>\n",
       "      <td>10000</td>\n",
       "      <td>48386</td>\n",
       "      <td>5</td>\n",
       "    </tr>\n",
       "    <tr>\n",
       "      <th>981752</th>\n",
       "      <td>10000</td>\n",
       "      <td>49007</td>\n",
       "      <td>4</td>\n",
       "    </tr>\n",
       "    <tr>\n",
       "      <th>981753</th>\n",
       "      <td>10000</td>\n",
       "      <td>49383</td>\n",
       "      <td>5</td>\n",
       "    </tr>\n",
       "    <tr>\n",
       "      <th>981754</th>\n",
       "      <td>10000</td>\n",
       "      <td>50124</td>\n",
       "      <td>5</td>\n",
       "    </tr>\n",
       "    <tr>\n",
       "      <th>981755</th>\n",
       "      <td>10000</td>\n",
       "      <td>51328</td>\n",
       "      <td>1</td>\n",
       "    </tr>\n",
       "  </tbody>\n",
       "</table>\n",
       "<p>981756 rows × 3 columns</p>\n",
       "</div>"
      ],
      "text/plain": [
       "        book_id  user_id  rating\n",
       "0             1      314       5\n",
       "1             1      439       3\n",
       "2             1      588       5\n",
       "3             1     1169       4\n",
       "4             1     1185       4\n",
       "...         ...      ...     ...\n",
       "981751    10000    48386       5\n",
       "981752    10000    49007       4\n",
       "981753    10000    49383       5\n",
       "981754    10000    50124       5\n",
       "981755    10000    51328       1\n",
       "\n",
       "[981756 rows x 3 columns]"
      ]
     },
     "execution_count": 138,
     "metadata": {},
     "output_type": "execute_result"
    }
   ],
   "source": [
    "movie = pd.read_csv('/Linux/Data/recommendation/ratings.zip')\n",
    "movie"
   ]
  },
  {
   "cell_type": "code",
   "execution_count": 143,
   "id": "living-disney",
   "metadata": {},
   "outputs": [],
   "source": [
    "user2idx = {}\n",
    "for i, l in enumerate(df['user_id'].unique()):\n",
    "    user2idx[l] = i\n",
    "\n",
    "movie2idx = {}\n",
    "for i, l in enumerate(df['item_id'].unique()):\n",
    "    movie2idx[l] = i\n",
    "\n",
    "idx2user = {i: user for user, i in user2idx.items()}\n",
    "idx2movie = {i: item for item, i in movie2idx.items()}"
   ]
  },
  {
   "cell_type": "code",
   "execution_count": 144,
   "id": "descending-clothing",
   "metadata": {},
   "outputs": [],
   "source": [
    "useridx = df['useridx'] = df['user_id'].apply(lambda x: user2idx[x]).values\n",
    "movieidx = df['movieidx'] = df['item_id'].apply(lambda x: movie2idx[x]).values\n",
    "rating = df['rating'].values"
   ]
  },
  {
   "cell_type": "code",
   "execution_count": 145,
   "id": "objective-singapore",
   "metadata": {},
   "outputs": [],
   "source": [
    "n_users = df['user_id'].nunique()\n",
    "n_items = df['item_id'].nunique()"
   ]
  },
  {
   "cell_type": "code",
   "execution_count": 146,
   "id": "institutional-karma",
   "metadata": {},
   "outputs": [],
   "source": [
    "ratings = scipy.sparse.csr_matrix((rating, (useridx, movieidx)), shape=(len(set(useridx)), len(set(movieidx))))"
   ]
  },
  {
   "cell_type": "code",
   "execution_count": 33,
   "id": "abandoned-printing",
   "metadata": {},
   "outputs": [],
   "source": [
    "class MatrixFactorization(nn.Module):\n",
    "    def __init__(self, R, n_users, n_items, n_factors=20):\n",
    "        super().__init__() # 부모 클래스(torch.nn.Module)의 init을 불러옴 \n",
    "        self.user_factors = nn.Embedding(n_users, n_factors)\n",
    "        self.item_factors = nn.Embedding(n_items, n_factors)\n",
    "        \n",
    "        # weight 초기화 \n",
    "        weight_init.xavier_uniform_(self.user_factors.weight)\n",
    "        weight_init.xavier_uniform_(self.item_factors.weight)\n",
    "       \n",
    "        # original Matrix \n",
    "        self.R = R\n",
    "        \n",
    "    def forward(self, user, item):\n",
    "        pred = (self.user_factors(user) * self.item_factors(item)).sum(1)\n",
    "        return pred\n",
    "    \n",
    "    def complete_matrix(self):\n",
    "        return torch.matmul(self.user_factors.weight, self.item_factors.weight.T)"
   ]
  },
  {
   "cell_type": "code",
   "execution_count": 335,
   "id": "divided-motion",
   "metadata": {},
   "outputs": [],
   "source": [
    "model = MatrixFactorization(ratings, n_users, n_items, n_factors=20)"
   ]
  },
  {
   "cell_type": "code",
   "execution_count": 336,
   "id": "initial-rental",
   "metadata": {},
   "outputs": [],
   "source": [
    "dev = torch.device(\"cuda\") if torch.cuda.is_available() else torch.device(\"cpu\")\n",
    "optimizer = torch.optim.SGD(model.parameters(), lr=5e-3)  # learning rate\n",
    "loss_func = torch.nn.MSELoss()"
   ]
  },
  {
   "cell_type": "code",
   "execution_count": 337,
   "id": "legendary-central",
   "metadata": {},
   "outputs": [
    {
     "data": {
      "application/vnd.jupyter.widget-view+json": {
       "model_id": "0728769368a94772b6e9d5696810eb69",
       "version_major": 2,
       "version_minor": 0
      },
      "text/plain": [
       "  0%|          | 0/10 [00:00<?, ?it/s]"
      ]
     },
     "metadata": {},
     "output_type": "display_data"
    },
    {
     "name": "stdout",
     "output_type": "stream",
     "text": [
      "Epoch    1/10 Loss: 7.856273\n",
      "Epoch    2/10 Loss: 1.687828\n",
      "Epoch    3/10 Loss: 1.034904\n",
      "Epoch    4/10 Loss: 0.945540\n",
      "Epoch    5/10 Loss: 0.908203\n",
      "Epoch    6/10 Loss: 0.881172\n",
      "Epoch    7/10 Loss: 0.855516\n",
      "Epoch    8/10 Loss: 0.829090\n",
      "Epoch    9/10 Loss: 0.801913\n",
      "Epoch   10/10 Loss: 0.773990\n"
     ]
    }
   ],
   "source": [
    "rows, cols = ratings.nonzero()\n",
    "\n",
    "nb_epochs = 10\n",
    "for epoch in tqdm_notebook(range(nb_epochs)):\n",
    "    train_loss = 0\n",
    "    for row, col in zip(*(rows, cols)):\n",
    "        # gradient 값을 0으로 설정 \n",
    "        optimizer.zero_grad()\n",
    "\n",
    "        # 데이터를 Tensor형태로 변환 \n",
    "        rating = torch.FloatTensor([ratings[row, col]])\n",
    "        row = torch.LongTensor([row])\n",
    "        col = torch.LongTensor([col])\n",
    "\n",
    "        # 예측값을 만들고 Loss를 계산 \n",
    "        prediction = model(row, col)\n",
    "        loss = loss_func(prediction, rating)\n",
    "        train_loss += loss.item()\n",
    "        \n",
    "        # 역전파 \n",
    "        loss.backward()\n",
    "\n",
    "        # 파라미터를 갱신\n",
    "        optimizer.step()\n",
    "    #cost_ = model.cost()\n",
    "    print('Epoch {:4d}/{} Loss: {:.6f}'.format(epoch+1, nb_epochs, train_loss/len(rows)))"
   ]
  },
  {
   "cell_type": "code",
   "execution_count": 147,
   "id": "neural-payment",
   "metadata": {},
   "outputs": [],
   "source": [
    "items = torch.LongTensor(df['movieidx'])\n",
    "users = torch.LongTensor(df['useridx'])\n",
    "numitem = items.max() + 1\n",
    "numuser = users.max() + 1"
   ]
  },
  {
   "cell_type": "code",
   "execution_count": 148,
   "id": "sophisticated-recommendation",
   "metadata": {},
   "outputs": [
    {
     "data": {
      "text/plain": [
       "(tensor(1682), tensor(943))"
      ]
     },
     "execution_count": 148,
     "metadata": {},
     "output_type": "execute_result"
    }
   ],
   "source": [
    "numitem, numuser"
   ]
  },
  {
   "cell_type": "code",
   "execution_count": 150,
   "id": "missing-venue",
   "metadata": {},
   "outputs": [],
   "source": [
    "items = torch.LongTensor(df_train['movieidx'].to_numpy())\n",
    "users = torch.LongTensor(df_train['useridx'].to_numpy())\n",
    "ratings = torch.FloatTensor(df_train['rating'].to_numpy())\n",
    "items_test = torch.LongTensor(df_test['movieidx'].to_numpy())\n",
    "users_test = torch.LongTensor(df_test['useridx'].to_numpy())\n",
    "ratings_test = torch.FloatTensor(df_test['rating'].to_numpy())\n",
    "numitem = items.max() + 1\n",
    "numuser = users.max() + 1"
   ]
  },
  {
   "cell_type": "code",
   "execution_count": 7,
   "id": "eight-contrary",
   "metadata": {},
   "outputs": [],
   "source": [
    "train = pd.read_csv(\"/Linux/Data/recommendation/ml-100k/ua.base\", sep=\"\\t\", names=['user', 'movie', 'rating', 'timestamp'])\n",
    "test = pd.read_csv(\"/Linux/Data/recommendation/ml-100k/ua.test\", sep=\"\\t\", names=['user', 'movie', 'rating', 'timestamp'])"
   ]
  },
  {
   "cell_type": "code",
   "execution_count": 10,
   "id": "vanilla-picture",
   "metadata": {},
   "outputs": [],
   "source": [
    "items = torch.LongTensor(train['movie'])\n",
    "users = torch.LongTensor(train['user'])\n",
    "ratings = torch.FloatTensor(train['rating'])\n",
    "items_test = torch.LongTensor(test['movie'])\n",
    "users_test = torch.LongTensor(test['user'])\n",
    "ratings_test = torch.FloatTensor(test['rating'])"
   ]
  },
  {
   "cell_type": "code",
   "execution_count": 83,
   "id": "lucky-clone",
   "metadata": {},
   "outputs": [],
   "source": [
    "def quantile_loss(preds, target, quantiles):\n",
    "    assert not target.requires_grad\n",
    "    assert preds.size(0) == target.size(0)\n",
    "    losses = []\n",
    "    for i, q in enumerate(quantiles):\n",
    "        errors = target - preds[i]\n",
    "        losses.append(torch.max((q - 1) * errors, q * errors).unsqueeze(1))\n",
    "    loss = torch.mean(torch.sum(torch.cat(losses, dim = 1), dim = 1))\n",
    "    return loss"
   ]
  },
  {
   "cell_type": "code",
   "execution_count": 84,
   "id": "compatible-detector",
   "metadata": {},
   "outputs": [
    {
     "data": {
      "text/plain": [
       "tensor(2.3350, grad_fn=<MeanBackward0>)"
      ]
     },
     "execution_count": 84,
     "metadata": {},
     "output_type": "execute_result"
    }
   ],
   "source": [
    "quantile_loss(hypothesis, ratings, quantiles)"
   ]
  },
  {
   "cell_type": "code",
   "execution_count": 23,
   "id": "confident-mining",
   "metadata": {},
   "outputs": [],
   "source": [
    "quantiles = (0.2, 0.5, 0.8)"
   ]
  },
  {
   "cell_type": "code",
   "execution_count": 76,
   "id": "brown-stroke",
   "metadata": {},
   "outputs": [],
   "source": [
    "def quantile_loss2(preds, target, quantiles):\n",
    "    assert not target.requires_grad\n",
    "    assert preds.size(0) == target.size(0)\n",
    "    losses = []\n",
    "    loss = []\n",
    "    for i, q in enumerate(quantiles):\n",
    "        errors = target - preds[i]\n",
    "        losses.append(torch.max((q - 1) * errors, q * errors).unsqueeze(1))\n",
    "        loss.append(torch.mean(torch.sum(losses[i], dim = 1)))\n",
    "#        loss = torch.mean(torch.sum(torch.cat(losses, dim = 1), dim = 1))\n",
    "    return loss"
   ]
  },
  {
   "cell_type": "code",
   "execution_count": 77,
   "id": "sacred-dallas",
   "metadata": {},
   "outputs": [
    {
     "data": {
      "text/plain": [
       "[tensor(0.3434, grad_fn=<MeanBackward0>),\n",
       " tensor(0.4570, grad_fn=<MeanBackward0>),\n",
       " tensor(0.2973, grad_fn=<MeanBackward0>)]"
      ]
     },
     "execution_count": 77,
     "metadata": {},
     "output_type": "execute_result"
    }
   ],
   "source": [
    "quantile_loss2(hypothesis, ratings, quantiles)"
   ]
  },
  {
   "cell_type": "code",
   "execution_count": 72,
   "id": "animated-record",
   "metadata": {},
   "outputs": [],
   "source": [
    "ql3 = quantile_loss2(hypothesis, ratings, quantiles)[1][1]\n",
    "ql4 = quantile_loss2(hypothesis, ratings, quantiles)[1][2]"
   ]
  },
  {
   "cell_type": "code",
   "execution_count": 59,
   "id": "offensive-afternoon",
   "metadata": {},
   "outputs": [
    {
     "data": {
      "text/plain": [
       "tensor([[0.4095, 0.5840, 0.1608],\n",
       "        [0.0095, 0.4160, 0.3598],\n",
       "        [0.2095, 0.0840, 0.1598],\n",
       "        ...,\n",
       "        [0.0095, 0.4160, 0.3598],\n",
       "        [0.0095, 0.4160, 0.3598],\n",
       "        [0.0095, 0.4160, 0.3598]], grad_fn=<CatBackward>)"
      ]
     },
     "execution_count": 59,
     "metadata": {},
     "output_type": "execute_result"
    }
   ],
   "source": [
    "qqq = quantile_loss2(hypothesis, ratings, quantiles)[1]\n",
    "qqq2 = torch.cat(qqq, dim = 1)\n",
    "qqq2"
   ]
  },
  {
   "cell_type": "code",
   "execution_count": 15,
   "id": "spanish-doctor",
   "metadata": {},
   "outputs": [
    {
     "name": "stdout",
     "output_type": "stream",
     "text": [
      "epoch: 0, cost: 4.791550\n",
      "epoch: 100, cost: 1.117686\n",
      "epoch: 200, cost: 1.119316\n",
      "epoch: 300, cost: 1.103154\n",
      "epoch: 400, cost: 1.094417\n",
      "epoch: 500, cost: 1.095909\n",
      "epoch: 600, cost: 1.106351\n",
      "epoch: 700, cost: 1.096326\n",
      "epoch: 800, cost: 1.091463\n",
      "epoch: 900, cost: 1.098816\n"
     ]
    },
    {
     "data": {
      "image/png": "[encoded data removed]",
      "text/plain": [
       "<Figure size 432x288 with 1 Axes>"
      ]
     },
     "metadata": {
      "needs_background": "light"
     },
     "output_type": "display_data"
    }
   ],
   "source": [
    "rank = 10\n",
    "numItems = items.max() + 1\n",
    "numUsers = users.max() + 1\n",
    "P = torch.randn(numItems, rank, requires_grad=True)\n",
    "Q = torch.randn(numUsers, rank, requires_grad=True)\n",
    "\n",
    "# Global Baseline Estimate 적용시 bias_item, bias_user, Pi, Qx를 정규화하기 위해 사용\n",
    "lambda1 = 0.0001\n",
    "lambda2 = 0.0001\n",
    "lambda3 = 0.001\n",
    "lambda4 = 0.001\n",
    "\n",
    "# 각 item, user 벡터에 적용할 bias 값\n",
    "# 학습해야하는 파라미터이기에 랜덤한 값으로 채워넣는다.\n",
    "bias_item = torch.randn(numItems, requires_grad=True)\n",
    "bias_user = torch.randn(numUsers, requires_grad=True)\n",
    "\n",
    "# 전체 평점 평균 (Global Baseline Estimate를 적용한 Latent Factor model의 가설함수에 필요)\n",
    "mean = (ratings.sum() / len(ratings)).item()\n",
    "\n",
    "optimizer = torch.optim.Adam([P, Q, bias_item, bias_user], lr= 0.1)\n",
    "\n",
    "X = []\n",
    "Y = []\n",
    "Y_test = []\n",
    "\n",
    "for epoch in range(1000):\n",
    "\n",
    "        # 가설 = 예상별점(아이템벡터와 유저벡터 내적) + 전체평점평균 + 아이템벡터의 bias + 유저벡터의 bias\n",
    "    hypothesis = torch.sum(P[items] * Q[users], dim=1) + mean + bias_item[items] + bias_user[users]\n",
    "\n",
    "        # 비용 = MSE + 정규화\n",
    "    cost = quantile_loss(hypothesis, ratings, quantiles)\n",
    "    loss = cost + lambda1 * torch.sum(P ** 2) + lambda2 * torch.sum(Q ** 2) + lambda3 * torch.sum(bias_item ** 2) + lambda4 * torch.sum(bias_user ** 2) \n",
    "\n",
    "    # 기울기 계산\n",
    "    optimizer.zero_grad()\n",
    "    loss.backward()\n",
    "    optimizer.step()\n",
    "\n",
    "    # 기울기 계산 필요 없다.\n",
    "    with torch.no_grad():\n",
    "                # 만들어진 P, Q matrix로 예측값을 뽑아내고 검증데이터와 비교한다.\n",
    "\n",
    "                # 가설 = 예상별점(아이템벡터와 유저벡터 내적) + 전체평점평균 + 아이템벡터의 bias + 유저벡터의 bias\n",
    "        hypo_test = torch.sum(P[items_test] * Q[users_test], dim=1)+ mean + bias_item[items_test] + bias_user[users_test]\n",
    "\n",
    "                # 비용 = MSE\n",
    "        cost_test = F.mse_loss(hypo_test, ratings_test)\n",
    "\n",
    "                # cost 결과 작성\n",
    "        X.append(epoch)\n",
    "        Y.append(cost)\n",
    "        Y_test.append(cost_test)\n",
    "\n",
    "    if epoch % 100 == 0:\n",
    "        print(\"epoch: {}, cost: {:.6f}\" .format(epoch, cost.item()))\n",
    "\n",
    "plt.ylabel(\"MSE\")\n",
    "plt.xlabel(\"Epoch\")\n",
    "plt.plot(X,Y, c=\"blue\", label=\"Training MSE\")\n",
    "plt.plot(X,Y_test, c=\"red\", label=\"Test MSE\")\n",
    "plt.legend()\n",
    "plt.show()"
   ]
  },
  {
   "cell_type": "code",
   "execution_count": 90,
   "id": "indian-carter",
   "metadata": {},
   "outputs": [
    {
     "name": "stdout",
     "output_type": "stream",
     "text": [
      "epoch: 0, cost: 1.163446\n",
      "epoch: 0, cost: 1.001434\n",
      "epoch: 0, cost: 1.096588\n",
      "epoch: 100, cost: 0.352256\n",
      "epoch: 100, cost: 0.453321\n",
      "epoch: 100, cost: 0.301920\n",
      "epoch: 200, cost: 0.352293\n",
      "epoch: 200, cost: 0.457547\n",
      "epoch: 200, cost: 0.301525\n",
      "epoch: 300, cost: 0.350753\n",
      "epoch: 300, cost: 0.459273\n",
      "epoch: 300, cost: 0.301874\n",
      "epoch: 400, cost: 0.349847\n",
      "epoch: 400, cost: 0.461207\n",
      "epoch: 400, cost: 0.296273\n",
      "epoch: 500, cost: 0.344385\n",
      "epoch: 500, cost: 0.453642\n",
      "epoch: 500, cost: 0.302932\n",
      "epoch: 600, cost: 0.349579\n",
      "epoch: 600, cost: 0.460200\n",
      "epoch: 600, cost: 0.299144\n",
      "epoch: 700, cost: 0.347312\n",
      "epoch: 700, cost: 0.452176\n",
      "epoch: 700, cost: 0.298082\n",
      "epoch: 800, cost: 0.350249\n",
      "epoch: 800, cost: 0.457413\n",
      "epoch: 800, cost: 0.301072\n",
      "epoch: 900, cost: 0.353338\n",
      "epoch: 900, cost: 0.454222\n",
      "epoch: 900, cost: 0.300766\n"
     ]
    },
    {
     "data": {
      "image/png": "[encoded data removed]",
      "text/plain": [
       "<Figure size 432x288 with 1 Axes>"
      ]
     },
     "metadata": {
      "needs_background": "light"
     },
     "output_type": "display_data"
    }
   ],
   "source": [
    "rank = 10\n",
    "numItems = items.max() + 1\n",
    "numUsers = users.max() + 1\n",
    "P = torch.randn(numItems, rank, requires_grad=True)\n",
    "Q = torch.randn(numUsers, rank, requires_grad=True)\n",
    "\n",
    "# Global Baseline Estimate 적용시 bias_item, bias_user, Pi, Qx를 정규화하기 위해 사용\n",
    "lambda1 = 0.0001\n",
    "lambda2 = 0.0001\n",
    "lambda3 = 0.001\n",
    "lambda4 = 0.001\n",
    "\n",
    "# 각 item, user 벡터에 적용할 bias 값\n",
    "# 학습해야하는 파라미터이기에 랜덤한 값으로 채워넣는다.\n",
    "bias_item = torch.randn(numItems, requires_grad=True)\n",
    "bias_user = torch.randn(numUsers, requires_grad=True)\n",
    "\n",
    "# 전체 평점 평균 (Global Baseline Estimate를 적용한 Latent Factor model의 가설함수에 필요)\n",
    "mean = (ratings.sum() / len(ratings)).item()\n",
    "\n",
    "optimizer = torch.optim.Adam([P, Q, bias_item, bias_user], lr= 0.1)\n",
    "\n",
    "X = []\n",
    "Y = []\n",
    "Y_test = []\n",
    "pp = []\n",
    "qq = []\n",
    "\n",
    "for epoch in range(1000):\n",
    "    \n",
    "    for i in range(len(quantiles)):\n",
    "        \n",
    "        # 가설 = 예상별점(아이템벡터와 유저벡터 내적) + 전체평점평균 + 아이템벡터의 bias + 유저벡터의 bias\n",
    "        hypothesis = torch.sum(P[items] * Q[users], dim=1) + mean + bias_item[items] + bias_user[users]\n",
    "\n",
    "        # 비용 = MSE + 정규화\n",
    "        cost = quantile_loss2(hypothesis, ratings, quantiles)[i]\n",
    "        loss = cost + lambda1 * torch.sum(P ** 2) + lambda2 * torch.sum(Q ** 2) + lambda3 * torch.sum(bias_item ** 2) + lambda4 * torch.sum(bias_user ** 2) \n",
    "\n",
    "        # 기울기 계산\n",
    "        optimizer.zero_grad()\n",
    "        loss.backward()\n",
    "        optimizer.step()\n",
    "\n",
    "        # 기울기 계산 필요 없다.\n",
    "        with torch.no_grad():\n",
    "                    # 만들어진 P, Q matrix로 예측값을 뽑아내고 검증데이터와 비교한다.\n",
    "\n",
    "                    # 가설 = 예상별점(아이템벡터와 유저벡터 내적) + 전체평점평균 + 아이템벡터의 bias + 유저벡터의 bias\n",
    "            hypo_test = torch.sum(P[items_test] * Q[users_test], dim=1)+ mean + bias_item[items_test] + bias_user[users_test]\n",
    "\n",
    "\n",
    "                    # 비용 = MSE\n",
    "            cost_test = quantile_loss2(hypothesis, ratings, quantiles)[i]\n",
    "\n",
    "                    # cost 결과 작성\n",
    "            X.append(epoch)\n",
    "            Y.append(cost)\n",
    "            Y_test.append(cost_test)\n",
    "            pp.append(P)\n",
    "            qq.append(Q)\n",
    "\n",
    "        if epoch % 100 == 0:\n",
    "            print(\"epoch: {}, cost: {:.6f}\" .format(epoch, cost.item()))\n",
    "\n",
    "plt.ylabel(\"MSE\")\n",
    "plt.xlabel(\"Epoch\")\n",
    "plt.plot(X,Y, c=\"blue\", label=\"Training MSE\")\n",
    "plt.plot(X,Y_test, c=\"red\", label=\"Test MSE\")\n",
    "plt.legend()\n",
    "plt.show()"
   ]
  },
  {
   "cell_type": "code",
   "execution_count": null,
   "id": "manufactured-baker",
   "metadata": {},
   "outputs": [],
   "source": [
    "dtype = torch.float\n",
    "X = np.random.normal(scale=1./latent_k, size = (user_num, latent_k))\n",
    "Y = np.random.normal(scale=1./latent_k, size = (item_num, latent_k))\n",
    "x_torch = torch.from_numpy(X)\n",
    "y_torch = torch.from_numpy(Y)\n",
    "\n",
    "learning_rate = 0.01\n",
    "r_lambda = 0.01\n",
    "steps = 1000\n",
    "rmse_list = []\n",
    "\n",
    "for i in range(steps):\n",
    "    for i, j, r in non_zeros:\n",
    "        e_ij = r - np.dot(x_torch[i, :], y_torch[j, :].T)\n",
    "        x_torch[i,:] = x_torch[i,:] + learning_rate * (e_ij * y_torch[j, :] - r_lambda * x_torch[i, :])\n",
    "        y_torch[j,:] = y_torch[j,:] + learning_rate * (e_ij * x_torch[i, :] - r_lambda * y_torch[j, :])\n",
    "    \n",
    "    rmse = get_rmse(movie_matrix, x_torch, y_torch, non_zeros)\n",
    "    if (step % 10) == 0:\n",
    "        rmse_list.append(rmse)\n",
    "        print(\"##### iteration step :\" , step, \"rmse : \", rmse)"
   ]
  },
  {
   "cell_type": "code",
   "execution_count": 196,
   "id": "distinct-activation",
   "metadata": {},
   "outputs": [
    {
     "data": {
      "text/plain": [
       "(torch.Size([943, 50]), torch.Size([1682, 50]))"
      ]
     },
     "execution_count": 196,
     "metadata": {},
     "output_type": "execute_result"
    }
   ],
   "source": [
    "x_torch.shape, y_torch.shape"
   ]
  },
  {
   "cell_type": "code",
   "execution_count": 205,
   "id": "yellow-track",
   "metadata": {},
   "outputs": [
    {
     "data": {
      "text/plain": [
       "(torch.Size([944, 50]), torch.Size([1683, 50]))"
      ]
     },
     "execution_count": 205,
     "metadata": {},
     "output_type": "execute_result"
    }
   ],
   "source": [
    "P.shape, Q.shape"
   ]
  },
  {
   "cell_type": "code",
   "execution_count": 197,
   "id": "secondary-chambers",
   "metadata": {},
   "outputs": [],
   "source": [
    "pn = np.random.normal(scale=1./latent_k, size = (item_num, latent_k))\n",
    "P = torch.from_numpy(pn)"
   ]
  },
  {
   "cell_type": "code",
   "execution_count": 204,
   "id": "weighted-series",
   "metadata": {},
   "outputs": [],
   "source": [
    "qn = np.random.normal(scale=1./rank, size = (numItems, rank))\n",
    "Q = torch.from_numpy(qn)"
   ]
  },
  {
   "cell_type": "code",
   "execution_count": 212,
   "id": "similar-cleaning",
   "metadata": {},
   "outputs": [
    {
     "name": "stdout",
     "output_type": "stream",
     "text": [
      "epoch: 0, cost: 0.363539\n",
      "epoch: 100, cost: 0.343308\n",
      "epoch: 200, cost: 0.342958\n",
      "epoch: 300, cost: 0.342764\n",
      "epoch: 400, cost: 0.343135\n",
      "epoch: 500, cost: 0.342592\n",
      "epoch: 600, cost: 0.342517\n",
      "epoch: 700, cost: 0.342476\n",
      "epoch: 800, cost: 0.342457\n",
      "epoch: 900, cost: 0.342452\n"
     ]
    },
    {
     "data": {
      "image/png": "[encoded data removed]",
      "text/plain": [
       "<Figure size 432x288 with 1 Axes>"
      ]
     },
     "metadata": {
      "needs_background": "light"
     },
     "output_type": "display_data"
    }
   ],
   "source": [
    "rank = 50\n",
    "dtype = torch.float\n",
    "numItems = items.max() + 1\n",
    "numUsers = users.max() + 1\n",
    "#P = torch.randn(numItems, rank, requires_grad=True)\n",
    "qn = np.random.normal(scale=1./rank, size = (numUsers, rank))\n",
    "Q = torch.from_numpy(qn)\n",
    "#Q = torch.randn(numUsers, rank, requires_grad=True)\n",
    "pn = np.random.normal(scale=1./rank, size = (numItems, rank))\n",
    "P = torch.from_numpy(pn)\n",
    "\n",
    "# Global Baseline Estimate 적용시 bias_item, bias_user, Pi, Qx를 정규화하기 위해 사용\n",
    "lambda1 = 0.0001\n",
    "lambda2 = 0.0001\n",
    "lambda3 = 0.001\n",
    "lambda4 = 0.001\n",
    "\n",
    "# 각 item, user 벡터에 적용할 bias 값\n",
    "# 학습해야하는 파라미터이기에 랜덤한 값으로 채워넣는다.\n",
    "bias_item = torch.randn(numItems, requires_grad=True)\n",
    "bias_user = torch.randn(numUsers, requires_grad=True)\n",
    "\n",
    "# 전체 평점 평균 (Global Baseline Estimate를 적용한 Latent Factor model의 가설함수에 필요)\n",
    "mean = (ratings.sum() / len(ratings)).item()\n",
    "\n",
    "optimizer = torch.optim.Adam([P, Q, bias_item, bias_user], lr= 0.1)\n",
    "\n",
    "X = []\n",
    "Y = []\n",
    "Y_test = []\n",
    "pp = []\n",
    "qq = []\n",
    "\n",
    "for epoch in range(1000):\n",
    "    \n",
    "    # 가설 = 예상별점(아이템벡터와 유저벡터 내적) + 전체평점평균 + 아이템벡터의 bias + 유저벡터의 bias\n",
    "    hypothesis = torch.sum(P[items] * Q[users], dim=1) + mean + bias_item[items] + bias_user[users]\n",
    "\n",
    "    # 비용 = MSE + 정규화\n",
    "    cost = quantile_loss2(hypothesis, ratings, quantiles)[0]\n",
    "    loss = cost + lambda1 * torch.sum(P ** 2) + lambda2 * torch.sum(Q ** 2) + lambda3 * torch.sum(bias_item ** 2) + lambda4 * torch.sum(bias_user ** 2) \n",
    "\n",
    "    # 기울기 계산\n",
    "    optimizer.zero_grad()\n",
    "    loss.backward()\n",
    "    optimizer.step()\n",
    "\n",
    "    # 기울기 계산 필요 없다.\n",
    "    with torch.no_grad():\n",
    "                # 만들어진 P, Q matrix로 예측값을 뽑아내고 검증데이터와 비교한다.\n",
    "\n",
    "                # 가설 = 예상별점(아이템벡터와 유저벡터 내적) + 전체평점평균 + 아이템벡터의 bias + 유저벡터의 bias\n",
    "        hypo_test = torch.sum(P[items_test] * Q[users_test], dim=1)+ mean + bias_item[items_test] + bias_user[users_test]\n",
    "\n",
    "\n",
    "                # 비용 = MSE\n",
    "        cost_test = quantile_loss2(hypothesis, ratings, quantiles)[0]\n",
    "\n",
    "                # cost 결과 작성\n",
    "        X.append(epoch)\n",
    "        Y.append(cost)\n",
    "        Y_test.append(cost_test)\n",
    "        pp.append(P)\n",
    "        qq.append(Q)\n",
    "\n",
    "    if epoch % 100 == 0:\n",
    "        print(\"epoch: {}, cost: {:.6f}\" .format(epoch, cost.item()))\n",
    "\n",
    "plt.ylabel(\"MSE\")\n",
    "plt.xlabel(\"Epoch\")\n",
    "plt.plot(X,Y, c=\"blue\", label=\"Training MSE\")\n",
    "plt.plot(X,Y_test, c=\"red\", label=\"Test MSE\")\n",
    "plt.legend()\n",
    "plt.show()"
   ]
  },
  {
   "cell_type": "code",
   "execution_count": 213,
   "id": "simple-member",
   "metadata": {},
   "outputs": [
    {
     "data": {
      "text/plain": [
       "tensor([[-2.0508e-04, -6.0404e-04,  4.4066e-04,  ...,  2.1508e-03,\n",
       "         -2.1259e-03, -1.9352e-03],\n",
       "        [ 4.8262e-04,  6.4176e-04,  1.2543e-03,  ..., -1.9299e-03,\n",
       "          2.3432e-03, -4.3844e-03],\n",
       "        [ 1.0658e-04, -2.9173e-03,  4.6512e-03,  ...,  1.2997e-03,\n",
       "         -1.0466e-03, -9.9989e-04],\n",
       "        ...,\n",
       "        [-1.9442e-04,  2.3118e-03, -2.8538e-03,  ..., -2.5332e-03,\n",
       "         -5.0572e-03,  1.7154e-03],\n",
       "        [-2.3502e-04, -4.9443e-03, -1.4428e-03,  ...,  5.7486e-03,\n",
       "          1.2965e-03,  2.8176e-03],\n",
       "        [ 9.1577e-04,  1.1903e-03, -5.6259e-04,  ...,  7.7941e-05,\n",
       "          3.8248e-04,  4.2730e-04]], dtype=torch.float64)"
      ]
     },
     "execution_count": 213,
     "metadata": {},
     "output_type": "execute_result"
    }
   ],
   "source": [
    "pred_matrix = torch.matmul(P, Q.T)\n",
    "pred_matrix.shape\n",
    "pred_matrix"
   ]
  },
  {
   "cell_type": "code",
   "execution_count": 214,
   "id": "boring-family",
   "metadata": {},
   "outputs": [
    {
     "name": "stdout",
     "output_type": "stream",
     "text": [
      "epoch: 0, cost: 0.571850\n",
      "epoch: 100, cost: 0.452603\n",
      "epoch: 200, cost: 0.449636\n",
      "epoch: 300, cost: 0.456756\n",
      "epoch: 400, cost: 0.457207\n",
      "epoch: 500, cost: 0.455755\n",
      "epoch: 600, cost: 0.455803\n",
      "epoch: 700, cost: 0.449774\n",
      "epoch: 800, cost: 0.449250\n",
      "epoch: 900, cost: 0.450294\n"
     ]
    },
    {
     "data": {
      "image/png": "[encoded data removed]",
      "text/plain": [
       "<Figure size 432x288 with 1 Axes>"
      ]
     },
     "metadata": {
      "needs_background": "light"
     },
     "output_type": "display_data"
    }
   ],
   "source": [
    "rank = 50\n",
    "dtype = torch.float\n",
    "numItems = items.max() + 1\n",
    "numUsers = users.max() + 1\n",
    "#P = torch.randn(numItems, rank, requires_grad=True)\n",
    "qn = np.random.normal(scale=1./rank, size = (numUsers, rank))\n",
    "Q = torch.from_numpy(qn)\n",
    "#Q = torch.randn(numUsers, rank, requires_grad=True)\n",
    "pn = np.random.normal(scale=1./rank, size = (numItems, rank))\n",
    "P = torch.from_numpy(pn)\n",
    "\n",
    "# Global Baseline Estimate 적용시 bias_item, bias_user, Pi, Qx를 정규화하기 위해 사용\n",
    "lambda1 = 0.0001\n",
    "lambda2 = 0.0001\n",
    "lambda3 = 0.001\n",
    "lambda4 = 0.001\n",
    "\n",
    "# 각 item, user 벡터에 적용할 bias 값\n",
    "# 학습해야하는 파라미터이기에 랜덤한 값으로 채워넣는다.\n",
    "bias_item = torch.randn(numItems, requires_grad=True)\n",
    "bias_user = torch.randn(numUsers, requires_grad=True)\n",
    "\n",
    "# 전체 평점 평균 (Global Baseline Estimate를 적용한 Latent Factor model의 가설함수에 필요)\n",
    "mean = (ratings.sum() / len(ratings)).item()\n",
    "\n",
    "optimizer = torch.optim.Adam([P, Q, bias_item, bias_user], lr= 0.1)\n",
    "\n",
    "X = []\n",
    "Y = []\n",
    "Y_test = []\n",
    "pp = []\n",
    "qq = []\n",
    "\n",
    "for epoch in range(1000):\n",
    "    \n",
    "    # 가설 = 예상별점(아이템벡터와 유저벡터 내적) + 전체평점평균 + 아이템벡터의 bias + 유저벡터의 bias\n",
    "    hypothesis = torch.sum(P[items] * Q[users], dim=1) + mean + bias_item[items] + bias_user[users]\n",
    "\n",
    "    # 비용 = MSE + 정규화\n",
    "    cost = quantile_loss2(hypothesis, ratings, quantiles)[1]\n",
    "    loss = cost + lambda1 * torch.sum(P ** 2) + lambda2 * torch.sum(Q ** 2) + lambda3 * torch.sum(bias_item ** 2) + lambda4 * torch.sum(bias_user ** 2) \n",
    "\n",
    "    # 기울기 계산\n",
    "    optimizer.zero_grad()\n",
    "    loss.backward()\n",
    "    optimizer.step()\n",
    "\n",
    "    # 기울기 계산 필요 없다.\n",
    "    with torch.no_grad():\n",
    "                # 만들어진 P, Q matrix로 예측값을 뽑아내고 검증데이터와 비교한다.\n",
    "\n",
    "                # 가설 = 예상별점(아이템벡터와 유저벡터 내적) + 전체평점평균 + 아이템벡터의 bias + 유저벡터의 bias\n",
    "        hypo_test = torch.sum(P[items_test] * Q[users_test], dim=1)+ mean + bias_item[items_test] + bias_user[users_test]\n",
    "\n",
    "\n",
    "                # 비용 = MSE\n",
    "        cost_test = quantile_loss2(hypothesis, ratings, quantiles)[1]\n",
    "\n",
    "                # cost 결과 작성\n",
    "        X.append(epoch)\n",
    "        Y.append(cost)\n",
    "        Y_test.append(cost_test)\n",
    "        pp.append(P)\n",
    "        qq.append(Q)\n",
    "\n",
    "    if epoch % 100 == 0:\n",
    "        print(\"epoch: {}, cost: {:.6f}\" .format(epoch, cost.item()))\n",
    "\n",
    "plt.ylabel(\"MSE\")\n",
    "plt.xlabel(\"Epoch\")\n",
    "plt.plot(X,Y, c=\"blue\", label=\"Training MSE\")\n",
    "plt.plot(X,Y_test, c=\"red\", label=\"Test MSE\")\n",
    "plt.legend()\n",
    "plt.show()"
   ]
  },
  {
   "cell_type": "code",
   "execution_count": 215,
   "id": "surface-rough",
   "metadata": {},
   "outputs": [
    {
     "data": {
      "text/plain": [
       "tensor([[ 4.6775e-03, -5.2865e-04, -2.4172e-03,  ..., -2.9742e-03,\n",
       "         -6.7775e-04,  6.5472e-06],\n",
       "        [ 1.4932e-03, -1.3303e-03,  2.4155e-03,  ..., -2.3966e-03,\n",
       "         -1.0901e-04,  4.9629e-04],\n",
       "        [-3.3284e-03, -2.2557e-03, -3.3085e-03,  ..., -9.1378e-05,\n",
       "          5.1936e-03, -6.2738e-04],\n",
       "        ...,\n",
       "        [-1.8066e-03, -3.9038e-03, -1.0616e-03,  ..., -1.5745e-03,\n",
       "          1.5504e-03,  5.1953e-05],\n",
       "        [ 2.8460e-03, -3.1503e-03, -1.5718e-03,  ..., -1.0311e-03,\n",
       "          1.0945e-03, -8.6823e-04],\n",
       "        [-1.6062e-04, -1.0370e-03,  6.5843e-04,  ...,  9.6817e-04,\n",
       "          9.0810e-04, -4.6271e-03]], dtype=torch.float64)"
      ]
     },
     "execution_count": 215,
     "metadata": {},
     "output_type": "execute_result"
    }
   ],
   "source": [
    "pred_matrix2 = torch.matmul(P, Q.T)\n",
    "pred_matrix2.shape\n",
    "pred_matrix2"
   ]
  },
  {
   "cell_type": "code",
   "execution_count": 216,
   "id": "negative-irish",
   "metadata": {},
   "outputs": [
    {
     "name": "stdout",
     "output_type": "stream",
     "text": [
      "epoch: 0, cost: 0.545645\n",
      "epoch: 100, cost: 0.296483\n",
      "epoch: 200, cost: 0.295845\n",
      "epoch: 300, cost: 0.296279\n",
      "epoch: 400, cost: 0.297327\n",
      "epoch: 500, cost: 0.296707\n",
      "epoch: 600, cost: 0.298763\n",
      "epoch: 700, cost: 0.297573\n",
      "epoch: 800, cost: 0.297286\n",
      "epoch: 900, cost: 0.296012\n"
     ]
    },
    {
     "data": {
      "image/png": "[encoded data removed]",
      "text/plain": [
       "<Figure size 432x288 with 1 Axes>"
      ]
     },
     "metadata": {
      "needs_background": "light"
     },
     "output_type": "display_data"
    }
   ],
   "source": [
    "rank = 50\n",
    "dtype = torch.float\n",
    "numItems = items.max() + 1\n",
    "numUsers = users.max() + 1\n",
    "#P = torch.randn(numItems, rank, requires_grad=True)\n",
    "qn = np.random.normal(scale=1./rank, size = (numUsers, rank))\n",
    "Q = torch.from_numpy(qn)\n",
    "#Q = torch.randn(numUsers, rank, requires_grad=True)\n",
    "pn = np.random.normal(scale=1./rank, size = (numItems, rank))\n",
    "P = torch.from_numpy(pn)\n",
    "\n",
    "# Global Baseline Estimate 적용시 bias_item, bias_user, Pi, Qx를 정규화하기 위해 사용\n",
    "lambda1 = 0.0001\n",
    "lambda2 = 0.0001\n",
    "lambda3 = 0.001\n",
    "lambda4 = 0.001\n",
    "\n",
    "# 각 item, user 벡터에 적용할 bias 값\n",
    "# 학습해야하는 파라미터이기에 랜덤한 값으로 채워넣는다.\n",
    "bias_item = torch.randn(numItems, requires_grad=True)\n",
    "bias_user = torch.randn(numUsers, requires_grad=True)\n",
    "\n",
    "# 전체 평점 평균 (Global Baseline Estimate를 적용한 Latent Factor model의 가설함수에 필요)\n",
    "mean = (ratings.sum() / len(ratings)).item()\n",
    "\n",
    "optimizer = torch.optim.Adam([P, Q, bias_item, bias_user], lr= 0.1)\n",
    "\n",
    "X = []\n",
    "Y = []\n",
    "Y_test = []\n",
    "pp = []\n",
    "qq = []\n",
    "\n",
    "for epoch in range(1000):\n",
    "    \n",
    "    # 가설 = 예상별점(아이템벡터와 유저벡터 내적) + 전체평점평균 + 아이템벡터의 bias + 유저벡터의 bias\n",
    "    hypothesis = torch.sum(P[items] * Q[users], dim=1) + mean + bias_item[items] + bias_user[users]\n",
    "\n",
    "    # 비용 = MSE + 정규화\n",
    "    cost = quantile_loss2(hypothesis, ratings, quantiles)[2]\n",
    "    loss = cost + lambda1 * torch.sum(P ** 2) + lambda2 * torch.sum(Q ** 2) + lambda3 * torch.sum(bias_item ** 2) + lambda4 * torch.sum(bias_user ** 2) \n",
    "\n",
    "    # 기울기 계산\n",
    "    optimizer.zero_grad()\n",
    "    loss.backward()\n",
    "    optimizer.step()\n",
    "\n",
    "    # 기울기 계산 필요 없다.\n",
    "    with torch.no_grad():\n",
    "                # 만들어진 P, Q matrix로 예측값을 뽑아내고 검증데이터와 비교한다.\n",
    "\n",
    "                # 가설 = 예상별점(아이템벡터와 유저벡터 내적) + 전체평점평균 + 아이템벡터의 bias + 유저벡터의 bias\n",
    "        hypo_test = torch.sum(P[items_test] * Q[users_test], dim=1)+ mean + bias_item[items_test] + bias_user[users_test]\n",
    "\n",
    "\n",
    "                # 비용 = MSE\n",
    "        cost_test = quantile_loss2(hypothesis, ratings, quantiles)[2]\n",
    "\n",
    "                # cost 결과 작성\n",
    "        X.append(epoch)\n",
    "        Y.append(cost)\n",
    "        Y_test.append(cost_test)\n",
    "        pp.append(P)\n",
    "        qq.append(Q)\n",
    "\n",
    "    if epoch % 100 == 0:\n",
    "        print(\"epoch: {}, cost: {:.6f}\" .format(epoch, cost.item()))\n",
    "\n",
    "plt.ylabel(\"MSE\")\n",
    "plt.xlabel(\"Epoch\")\n",
    "plt.plot(X,Y, c=\"blue\", label=\"Training MSE\")\n",
    "plt.plot(X,Y_test, c=\"red\", label=\"Test MSE\")\n",
    "plt.legend()\n",
    "plt.show()"
   ]
  },
  {
   "cell_type": "code",
   "execution_count": 217,
   "id": "patient-democrat",
   "metadata": {},
   "outputs": [
    {
     "data": {
      "text/plain": [
       "tensor([[ 1.6036e-03, -4.3686e-03,  2.0664e-03,  ..., -4.6880e-03,\n",
       "          3.6035e-03, -4.4640e-03],\n",
       "        [ 1.2074e-03, -1.1495e-03, -1.5553e-03,  ...,  1.9586e-03,\n",
       "          1.2771e-04, -5.0606e-03],\n",
       "        [ 2.0690e-03, -2.1830e-04, -7.6334e-04,  ..., -6.3921e-04,\n",
       "         -8.3022e-04, -4.6603e-03],\n",
       "        ...,\n",
       "        [-5.2068e-04, -8.8221e-04,  1.2557e-03,  ..., -3.1946e-05,\n",
       "          1.6914e-04, -1.1651e-03],\n",
       "        [ 5.4876e-04, -1.0061e-03,  1.1531e-03,  ..., -3.0875e-03,\n",
       "          6.0093e-03, -5.6476e-04],\n",
       "        [ 2.8494e-04,  2.3687e-03,  4.1721e-03,  ..., -2.9030e-04,\n",
       "         -6.3558e-04,  9.0041e-04]], dtype=torch.float64)"
      ]
     },
     "execution_count": 217,
     "metadata": {},
     "output_type": "execute_result"
    }
   ],
   "source": [
    "pred_matrix3 = torch.matmul(P, Q.T)\n",
    "pred_matrix3.shape\n",
    "pred_matrix3"
   ]
  },
  {
   "cell_type": "code",
   "execution_count": 137,
   "id": "boolean-genome",
   "metadata": {},
   "outputs": [],
   "source": [
    "pred_m = [pred_matrix, pred_matrix2, pred_matrix3]"
   ]
  },
  {
   "cell_type": "code",
   "execution_count": 101,
   "id": "handmade-consistency",
   "metadata": {},
   "outputs": [],
   "source": [
    "p2 = pp[2997]\n",
    "p5 = pp[2998]\n",
    "p8 = pp[2999]"
   ]
  },
  {
   "cell_type": "code",
   "execution_count": 102,
   "id": "elegant-madagascar",
   "metadata": {},
   "outputs": [],
   "source": [
    "q2 = qq[2997]\n",
    "q5 = qq[2998]\n",
    "q8 = qq[2999]"
   ]
  },
  {
   "cell_type": "code",
   "execution_count": 104,
   "id": "european-virus",
   "metadata": {},
   "outputs": [],
   "source": [
    "def pred_matrix(p, q):\n",
    "    matrix_list = []\n",
    "    for i in range(3):\n",
    "        pred_matrix = torch.matmul(pp[2999 - i], qq[2999 - i].T)\n",
    "        matrix_list.append(pred_matrix)\n",
    "    return matrix_list"
   ]
  },
  {
   "cell_type": "code",
   "execution_count": 106,
   "id": "historic-genre",
   "metadata": {},
   "outputs": [],
   "source": [
    "pm = pred_matrix(pp, qq)"
   ]
  },
  {
   "cell_type": "code",
   "execution_count": 187,
   "id": "false-watts",
   "metadata": {},
   "outputs": [
    {
     "data": {
      "text/plain": [
       "tensor([[ 0.0000e+00,  1.1816e-23,  1.9343e-24,  ...,  9.8016e-24,\n",
       "          3.8362e-24,  1.5912e-23],\n",
       "        [-1.3104e-23,  8.2766e-01,  3.0546e-01,  ...,  4.9226e-01,\n",
       "          9.5074e-01,  5.4294e-01],\n",
       "        [-5.0596e-24, -4.2312e-02, -4.7540e-02,  ...,  1.1551e-01,\n",
       "          2.2337e-01,  3.4037e-02],\n",
       "        ...,\n",
       "        [ 1.1385e-24, -1.8156e-01, -3.8075e-02,  ..., -2.3237e-02,\n",
       "         -2.8773e-02, -2.8511e-01],\n",
       "        [-1.5801e-25, -2.4205e-02,  2.1261e-03,  ..., -1.0979e-02,\n",
       "         -8.9747e-03, -3.8844e-02],\n",
       "        [-8.0926e-26, -5.2894e-02, -1.4279e-02,  ..., -9.5606e-03,\n",
       "         -7.9128e-03, -3.3883e-02]], grad_fn=<MmBackward>)"
      ]
     },
     "execution_count": 187,
     "metadata": {},
     "output_type": "execute_result"
    }
   ],
   "source": [
    "pred_matrix = torch.matmul(P, Q.T)\n",
    "pred_matrix.shape\n",
    "pred_matrix"
   ]
  },
  {
   "cell_type": "code",
   "execution_count": 88,
   "id": "coastal-stationery",
   "metadata": {},
   "outputs": [
    {
     "data": {
      "text/plain": [
       "tensor([[ 0.0000e+00, -1.7219e-40,  0.0000e+00,  ..., -4.6243e-43,\n",
       "          0.0000e+00,  0.0000e+00],\n",
       "        [ 1.2272e-40, -2.5643e-01,  3.9463e-40,  ..., -1.0598e-04,\n",
       "          1.2583e-16,  1.0020e-09],\n",
       "        [-5.6533e-41,  6.6901e-03, -1.5845e-40,  ..., -2.8901e-05,\n",
       "          1.5395e-17,  5.6423e-11],\n",
       "        ...,\n",
       "        [ 0.0000e+00,  2.5709e-21,  0.0000e+00,  ..., -1.2191e-42,\n",
       "          0.0000e+00,  0.0000e+00],\n",
       "        [ 0.0000e+00, -2.8920e-17,  0.0000e+00,  ..., -1.8077e-43,\n",
       "          1.1225e-31,  0.0000e+00],\n",
       "        [ 0.0000e+00, -3.1431e-17,  0.0000e+00,  ..., -9.6830e-43,\n",
       "          0.0000e+00,  0.0000e+00]], grad_fn=<MmBackward>)"
      ]
     },
     "execution_count": 88,
     "metadata": {},
     "output_type": "execute_result"
    }
   ],
   "source": [
    "pred_matrix = torch.matmul(P, Q.T)\n",
    "pred_matrix.shape\n",
    "pred_matrix"
   ]
  },
  {
   "cell_type": "code",
   "execution_count": 154,
   "id": "honest-advertising",
   "metadata": {},
   "outputs": [],
   "source": [
    "df_train, df_test = train_test_split(df, test_size=0.2, random_state=419)"
   ]
  },
  {
   "cell_type": "code",
   "execution_count": 155,
   "id": "furnished-trace",
   "metadata": {},
   "outputs": [],
   "source": [
    "items = torch.LongTensor(df_train['movieidx'].to_numpy())\n",
    "users = torch.LongTensor(df_train['useridx'].to_numpy())\n",
    "ratings = torch.FloatTensor(df_train['rating'].to_numpy())\n",
    "items_test = torch.LongTensor(df_test['movieidx'].to_numpy())\n",
    "users_test = torch.LongTensor(df_test['useridx'].to_numpy())\n",
    "ratings_test = torch.FloatTensor(df_test['rating'].to_numpy())\n",
    "numitem = items.max() + 1\n",
    "numuser = users.max() + 1"
   ]
  },
  {
   "cell_type": "code",
   "execution_count": null,
   "id": "modified-throat",
   "metadata": {},
   "outputs": [],
   "source": []
  },
  {
   "cell_type": "code",
   "execution_count": null,
   "id": "offshore-medline",
   "metadata": {},
   "outputs": [],
   "source": []
  },
  {
   "cell_type": "code",
   "execution_count": null,
   "id": "local-people",
   "metadata": {},
   "outputs": [],
   "source": []
  },
  {
   "cell_type": "code",
   "execution_count": 218,
   "id": "placed-cyprus",
   "metadata": {},
   "outputs": [],
   "source": [
    "import glob\n",
    "from datetime import date\n",
    "import logging"
   ]
  },
  {
   "cell_type": "code",
   "execution_count": 219,
   "id": "competent-edward",
   "metadata": {},
   "outputs": [],
   "source": [
    "if glob.glob('log') != ['logs']:\n",
    "    os.mkdir('logs')\n",
    "else:\n",
    "    pass\n",
    "\n",
    "if glob.glob('weights') != ['weights']:\n",
    "    os.mkdir('weights')\n",
    "else:\n",
    "    pass"
   ]
  },
  {
   "cell_type": "code",
   "execution_count": 288,
   "id": "growing-capitol",
   "metadata": {},
   "outputs": [],
   "source": [
    "if glob.glob('log2') != ['logs2']:\n",
    "    os.mkdir('logs2')\n",
    "else:\n",
    "    pass\n",
    "\n",
    "if glob.glob('weights2') != ['weights2']:\n",
    "    os.mkdir('weights2')\n",
    "else:\n",
    "    pass"
   ]
  },
  {
   "cell_type": "code",
   "execution_count": 220,
   "id": "center-electron",
   "metadata": {},
   "outputs": [],
   "source": [
    "log_model = 'nmf'\n",
    "\n",
    "today = date.today()\n",
    "log_formatter = logging.Formatter(\"%(asctime)s %(message)s\")\n",
    "logger = logging.getLogger()\n",
    "\n",
    "log_file_name = \"./logs/{}_{}\".format(today, log_model)\n",
    "\n",
    "file_handler = logging.FileHandler(\"{}.log\".format(log_file_name))\n",
    "file_handler.setFormatter(log_formatter)\n",
    "logger.addHandler(file_handler)\n",
    "logger.setLevel(logging.DEBUG)"
   ]
  },
  {
   "cell_type": "code",
   "execution_count": 222,
   "id": "supported-penetration",
   "metadata": {},
   "outputs": [
    {
     "data": {
      "text/html": [
       "<div>\n",
       "<style scoped>\n",
       "    .dataframe tbody tr th:only-of-type {\n",
       "        vertical-align: middle;\n",
       "    }\n",
       "\n",
       "    .dataframe tbody tr th {\n",
       "        vertical-align: top;\n",
       "    }\n",
       "\n",
       "    .dataframe thead th {\n",
       "        text-align: right;\n",
       "    }\n",
       "</style>\n",
       "<table border=\"1\" class=\"dataframe\">\n",
       "  <thead>\n",
       "    <tr style=\"text-align: right;\">\n",
       "      <th></th>\n",
       "      <th>user_id</th>\n",
       "      <th>item_id</th>\n",
       "      <th>rating</th>\n",
       "      <th>timestamp</th>\n",
       "    </tr>\n",
       "  </thead>\n",
       "  <tbody>\n",
       "    <tr>\n",
       "      <th>0</th>\n",
       "      <td>196</td>\n",
       "      <td>242</td>\n",
       "      <td>3.0</td>\n",
       "      <td>881250949</td>\n",
       "    </tr>\n",
       "    <tr>\n",
       "      <th>1</th>\n",
       "      <td>186</td>\n",
       "      <td>302</td>\n",
       "      <td>3.0</td>\n",
       "      <td>891717742</td>\n",
       "    </tr>\n",
       "    <tr>\n",
       "      <th>2</th>\n",
       "      <td>22</td>\n",
       "      <td>377</td>\n",
       "      <td>1.0</td>\n",
       "      <td>878887116</td>\n",
       "    </tr>\n",
       "    <tr>\n",
       "      <th>3</th>\n",
       "      <td>244</td>\n",
       "      <td>51</td>\n",
       "      <td>2.0</td>\n",
       "      <td>880606923</td>\n",
       "    </tr>\n",
       "    <tr>\n",
       "      <th>4</th>\n",
       "      <td>166</td>\n",
       "      <td>346</td>\n",
       "      <td>1.0</td>\n",
       "      <td>886397596</td>\n",
       "    </tr>\n",
       "    <tr>\n",
       "      <th>...</th>\n",
       "      <td>...</td>\n",
       "      <td>...</td>\n",
       "      <td>...</td>\n",
       "      <td>...</td>\n",
       "    </tr>\n",
       "    <tr>\n",
       "      <th>99995</th>\n",
       "      <td>880</td>\n",
       "      <td>476</td>\n",
       "      <td>3.0</td>\n",
       "      <td>880175444</td>\n",
       "    </tr>\n",
       "    <tr>\n",
       "      <th>99996</th>\n",
       "      <td>716</td>\n",
       "      <td>204</td>\n",
       "      <td>5.0</td>\n",
       "      <td>879795543</td>\n",
       "    </tr>\n",
       "    <tr>\n",
       "      <th>99997</th>\n",
       "      <td>276</td>\n",
       "      <td>1090</td>\n",
       "      <td>1.0</td>\n",
       "      <td>874795795</td>\n",
       "    </tr>\n",
       "    <tr>\n",
       "      <th>99998</th>\n",
       "      <td>13</td>\n",
       "      <td>225</td>\n",
       "      <td>2.0</td>\n",
       "      <td>882399156</td>\n",
       "    </tr>\n",
       "    <tr>\n",
       "      <th>99999</th>\n",
       "      <td>12</td>\n",
       "      <td>203</td>\n",
       "      <td>3.0</td>\n",
       "      <td>879959583</td>\n",
       "    </tr>\n",
       "  </tbody>\n",
       "</table>\n",
       "<p>100000 rows × 4 columns</p>\n",
       "</div>"
      ],
      "text/plain": [
       "       user_id  item_id  rating  timestamp\n",
       "0          196      242     3.0  881250949\n",
       "1          186      302     3.0  891717742\n",
       "2           22      377     1.0  878887116\n",
       "3          244       51     2.0  880606923\n",
       "4          166      346     1.0  886397596\n",
       "...        ...      ...     ...        ...\n",
       "99995      880      476     3.0  880175444\n",
       "99996      716      204     5.0  879795543\n",
       "99997      276     1090     1.0  874795795\n",
       "99998       13      225     2.0  882399156\n",
       "99999       12      203     3.0  879959583\n",
       "\n",
       "[100000 rows x 4 columns]"
      ]
     },
     "execution_count": 222,
     "metadata": {},
     "output_type": "execute_result"
    }
   ],
   "source": [
    "df"
   ]
  },
  {
   "cell_type": "code",
   "execution_count": 226,
   "id": "female-makeup",
   "metadata": {},
   "outputs": [
    {
     "name": "stdout",
     "output_type": "stream",
     "text": [
      "유저의 수 : 943, 영화의 수 : 1682\n"
     ]
    }
   ],
   "source": [
    "num_users = df.user_id.unique().shape[0]\n",
    "num_items = df.item_id.unique().shape[0]\n",
    "print('유저의 수 : %d, 영화의 수 : %d' %(num_users, num_items))"
   ]
  },
  {
   "cell_type": "code",
   "execution_count": 227,
   "id": "moving-magic",
   "metadata": {},
   "outputs": [],
   "source": [
    "from torch.utils.data import Dataset, TensorDataset, DataLoader"
   ]
  },
  {
   "cell_type": "code",
   "execution_count": 228,
   "id": "protected-johns",
   "metadata": {},
   "outputs": [],
   "source": [
    "class CustomDataset(Dataset):\n",
    "    def __init__(self, users, items, y):\n",
    "        self.x = torch.cat([\n",
    "            torch.LongTensor(users).unsqueeze(0).transpose(0, 1),\n",
    "            torch.LongTensor(items).unsqueeze(0).transpose(0, 1)\n",
    "        ], axis=1)\n",
    "        self.y = torch.FloatTensor(y)\n",
    "\n",
    "    def __getitem__(self, index):\n",
    "        return self.x[index], self.y[index]\n",
    "\n",
    "    def __len__(self):\n",
    "        return len(self.y)"
   ]
  },
  {
   "cell_type": "code",
   "execution_count": 229,
   "id": "intelligent-poetry",
   "metadata": {},
   "outputs": [],
   "source": [
    "from sklearn import preprocessing"
   ]
  },
  {
   "cell_type": "code",
   "execution_count": 245,
   "id": "independent-aquarium",
   "metadata": {},
   "outputs": [],
   "source": [
    "le1 = preprocessing.LabelEncoder()\n",
    "le2 = preprocessing.LabelEncoder()\n",
    "\n",
    "batch_size = 256\n",
    "\n",
    "train_dataset = CustomDataset(\n",
    "    le1.fit_transform(df.user_id),\n",
    "    le2.fit_transform(df.item_id),\n",
    "    df.rating.values\n",
    ")\n",
    "train_loader = DataLoader(train_dataset, batch_size=batch_size)"
   ]
  },
  {
   "cell_type": "code",
   "execution_count": 246,
   "id": "computational-allergy",
   "metadata": {},
   "outputs": [
    {
     "data": {
      "text/plain": [
       "(tensor([195, 241]), tensor(3.))"
      ]
     },
     "execution_count": 246,
     "metadata": {},
     "output_type": "execute_result"
    }
   ],
   "source": [
    "train_dataset[0]"
   ]
  },
  {
   "cell_type": "code",
   "execution_count": 247,
   "id": "precious-cooper",
   "metadata": {},
   "outputs": [
    {
     "data": {
      "text/plain": [
       "(tensor([185, 301]), tensor(3.))"
      ]
     },
     "execution_count": 247,
     "metadata": {},
     "output_type": "execute_result"
    }
   ],
   "source": [
    "train_dataset[1]"
   ]
  },
  {
   "cell_type": "code",
   "execution_count": 248,
   "id": "seeing-officer",
   "metadata": {},
   "outputs": [
    {
     "data": {
      "text/html": [
       "<div>\n",
       "<style scoped>\n",
       "    .dataframe tbody tr th:only-of-type {\n",
       "        vertical-align: middle;\n",
       "    }\n",
       "\n",
       "    .dataframe tbody tr th {\n",
       "        vertical-align: top;\n",
       "    }\n",
       "\n",
       "    .dataframe thead th {\n",
       "        text-align: right;\n",
       "    }\n",
       "</style>\n",
       "<table border=\"1\" class=\"dataframe\">\n",
       "  <thead>\n",
       "    <tr style=\"text-align: right;\">\n",
       "      <th></th>\n",
       "      <th>user_id</th>\n",
       "      <th>item_id</th>\n",
       "      <th>rating</th>\n",
       "      <th>timestamp</th>\n",
       "    </tr>\n",
       "  </thead>\n",
       "  <tbody>\n",
       "    <tr>\n",
       "      <th>0</th>\n",
       "      <td>196</td>\n",
       "      <td>242</td>\n",
       "      <td>3.0</td>\n",
       "      <td>881250949</td>\n",
       "    </tr>\n",
       "    <tr>\n",
       "      <th>1</th>\n",
       "      <td>186</td>\n",
       "      <td>302</td>\n",
       "      <td>3.0</td>\n",
       "      <td>891717742</td>\n",
       "    </tr>\n",
       "    <tr>\n",
       "      <th>2</th>\n",
       "      <td>22</td>\n",
       "      <td>377</td>\n",
       "      <td>1.0</td>\n",
       "      <td>878887116</td>\n",
       "    </tr>\n",
       "    <tr>\n",
       "      <th>3</th>\n",
       "      <td>244</td>\n",
       "      <td>51</td>\n",
       "      <td>2.0</td>\n",
       "      <td>880606923</td>\n",
       "    </tr>\n",
       "    <tr>\n",
       "      <th>4</th>\n",
       "      <td>166</td>\n",
       "      <td>346</td>\n",
       "      <td>1.0</td>\n",
       "      <td>886397596</td>\n",
       "    </tr>\n",
       "    <tr>\n",
       "      <th>...</th>\n",
       "      <td>...</td>\n",
       "      <td>...</td>\n",
       "      <td>...</td>\n",
       "      <td>...</td>\n",
       "    </tr>\n",
       "    <tr>\n",
       "      <th>99995</th>\n",
       "      <td>880</td>\n",
       "      <td>476</td>\n",
       "      <td>3.0</td>\n",
       "      <td>880175444</td>\n",
       "    </tr>\n",
       "    <tr>\n",
       "      <th>99996</th>\n",
       "      <td>716</td>\n",
       "      <td>204</td>\n",
       "      <td>5.0</td>\n",
       "      <td>879795543</td>\n",
       "    </tr>\n",
       "    <tr>\n",
       "      <th>99997</th>\n",
       "      <td>276</td>\n",
       "      <td>1090</td>\n",
       "      <td>1.0</td>\n",
       "      <td>874795795</td>\n",
       "    </tr>\n",
       "    <tr>\n",
       "      <th>99998</th>\n",
       "      <td>13</td>\n",
       "      <td>225</td>\n",
       "      <td>2.0</td>\n",
       "      <td>882399156</td>\n",
       "    </tr>\n",
       "    <tr>\n",
       "      <th>99999</th>\n",
       "      <td>12</td>\n",
       "      <td>203</td>\n",
       "      <td>3.0</td>\n",
       "      <td>879959583</td>\n",
       "    </tr>\n",
       "  </tbody>\n",
       "</table>\n",
       "<p>100000 rows × 4 columns</p>\n",
       "</div>"
      ],
      "text/plain": [
       "       user_id  item_id  rating  timestamp\n",
       "0          196      242     3.0  881250949\n",
       "1          186      302     3.0  891717742\n",
       "2           22      377     1.0  878887116\n",
       "3          244       51     2.0  880606923\n",
       "4          166      346     1.0  886397596\n",
       "...        ...      ...     ...        ...\n",
       "99995      880      476     3.0  880175444\n",
       "99996      716      204     5.0  879795543\n",
       "99997      276     1090     1.0  874795795\n",
       "99998       13      225     2.0  882399156\n",
       "99999       12      203     3.0  879959583\n",
       "\n",
       "[100000 rows x 4 columns]"
      ]
     },
     "execution_count": 248,
     "metadata": {},
     "output_type": "execute_result"
    }
   ],
   "source": [
    "df"
   ]
  },
  {
   "cell_type": "code",
   "execution_count": 249,
   "id": "adjusted-accent",
   "metadata": {},
   "outputs": [],
   "source": [
    "class MF(nn.Module):\n",
    "    def __init__(self, num_users, num_items, emb_size=128):\n",
    "        super(MF, self).__init__()\n",
    "        self.user_emb = nn.Embedding(num_users, emb_size)\n",
    "        self.item_emb = nn.Embedding(num_items, emb_size)\n",
    "        self.user_emb.weight.data.uniform_(0, 0.05)\n",
    "        self.item_emb.weight.data.uniform_(0, 0.05)\n",
    "        \n",
    "    def forward(self, data):\n",
    "        x, y = data[:,:1], data[:,1:]\n",
    "        u, v = self.user_emb(x), self.item_emb(y)\n",
    "        return (u.squeeze(1) * v.squeeze(1)).sum(1)"
   ]
  },
  {
   "cell_type": "code",
   "execution_count": 250,
   "id": "friendly-stereo",
   "metadata": {},
   "outputs": [
    {
     "name": "stdout",
     "output_type": "stream",
     "text": [
      "사용할 device : cuda\n"
     ]
    }
   ],
   "source": [
    "if torch.cuda.is_available():\n",
    "    device = 'cuda'\n",
    "else:\n",
    "    device = 'cpu'\n",
    "\n",
    "print('사용할 device : %s' % device)"
   ]
  },
  {
   "cell_type": "code",
   "execution_count": 251,
   "id": "extended-rwanda",
   "metadata": {},
   "outputs": [
    {
     "name": "stdout",
     "output_type": "stream",
     "text": [
      "모델 구성 : \n",
      "\n",
      " MF(\n",
      "  (user_emb): Embedding(943, 128)\n",
      "  (item_emb): Embedding(1682, 128)\n",
      ")\n"
     ]
    }
   ],
   "source": [
    "model = MF(num_users, num_items, emb_size = 128).to(device)\n",
    "print('모델 구성 : \\n\\n', model)"
   ]
  },
  {
   "cell_type": "code",
   "execution_count": 252,
   "id": "included-stopping",
   "metadata": {},
   "outputs": [],
   "source": [
    "learning_rate = 0.01\n",
    "optimizer = torch.optim.Adam(model.parameters(), lr = learning_rate)\n",
    "loss_fn = torch.nn.MSELoss()"
   ]
  },
  {
   "cell_type": "code",
   "execution_count": 253,
   "id": "special-technique",
   "metadata": {},
   "outputs": [
    {
     "name": "stdout",
     "output_type": "stream",
     "text": [
      "start : 0epoch\n",
      "e1:loss : 0.0041188946925103664\n",
      "start : 1epoch\n",
      "e2:loss : 0.003433085512369871\n",
      "start : 2epoch\n",
      "e3:loss : 0.001565714948810637\n",
      "start : 3epoch\n",
      "e4:loss : 0.001177519210614264\n",
      "start : 4epoch\n",
      "e5:loss : 0.00221115886233747\n",
      "start : 5epoch\n",
      "e6:loss : 0.0024741273373365402\n",
      "start : 6epoch\n",
      "e7:loss : 0.002002481371164322\n",
      "start : 7epoch\n",
      "e8:loss : 0.0016794916009530425\n",
      "start : 8epoch\n",
      "e9:loss : 0.0013082714285701513\n",
      "start : 9epoch\n",
      "e10:loss : 0.0013727473560720682\n",
      "training complete\n"
     ]
    }
   ],
   "source": [
    "model.train()\n",
    "\n",
    "EPOCHS = 10\n",
    "\n",
    "for e in range(EPOCHS):\n",
    "    print('start : ' + str(e) + ' epoch')\n",
    "    avg_loss = 0\n",
    "    for batch_idx, (x, y) in enumerate(train_loader):\n",
    "        x, y = x.to(device), y.to(device)\n",
    "        optimizer.zero_grad()\n",
    "        y_hat = model(x)\n",
    "        loss = loss_fn(y_hat, y)\n",
    "        avg_loss += loss.item()\n",
    "        loss.backward()\n",
    "        optimizer.step()\n",
    "    torch.save(model.state_dict(), \"./weights/{}_{}.pt\".format(log_model, e+1))\n",
    "    print(\"e{}:loss : {}\".format(e+1, loss/(batch_idx + 1)))\n",
    "    logger.info(\"e{} : loss : {}\".format(e+1, loss/(batch_idx + 1)))\n",
    "print('training complete')\n"
   ]
  },
  {
   "cell_type": "code",
   "execution_count": 254,
   "id": "reduced-lithuania",
   "metadata": {},
   "outputs": [
    {
     "data": {
      "text/plain": [
       "MF(\n",
       "  (user_emb): Embedding(943, 128)\n",
       "  (item_emb): Embedding(1682, 128)\n",
       ")"
      ]
     },
     "execution_count": 254,
     "metadata": {},
     "output_type": "execute_result"
    }
   ],
   "source": [
    "model.eval()"
   ]
  },
  {
   "cell_type": "code",
   "execution_count": 256,
   "id": "caring-proceeding",
   "metadata": {},
   "outputs": [
    {
     "data": {
      "text/html": [
       "<div>\n",
       "<style scoped>\n",
       "    .dataframe tbody tr th:only-of-type {\n",
       "        vertical-align: middle;\n",
       "    }\n",
       "\n",
       "    .dataframe tbody tr th {\n",
       "        vertical-align: top;\n",
       "    }\n",
       "\n",
       "    .dataframe thead th {\n",
       "        text-align: right;\n",
       "    }\n",
       "</style>\n",
       "<table border=\"1\" class=\"dataframe\">\n",
       "  <thead>\n",
       "    <tr style=\"text-align: right;\">\n",
       "      <th></th>\n",
       "      <th>user_id</th>\n",
       "      <th>item_id</th>\n",
       "      <th>rating</th>\n",
       "      <th>timestamp</th>\n",
       "      <th>le_UserID</th>\n",
       "      <th>le_ItemID</th>\n",
       "    </tr>\n",
       "  </thead>\n",
       "  <tbody>\n",
       "    <tr>\n",
       "      <th>0</th>\n",
       "      <td>196</td>\n",
       "      <td>242</td>\n",
       "      <td>3.0</td>\n",
       "      <td>881250949</td>\n",
       "      <td>195</td>\n",
       "      <td>241</td>\n",
       "    </tr>\n",
       "    <tr>\n",
       "      <th>1</th>\n",
       "      <td>186</td>\n",
       "      <td>302</td>\n",
       "      <td>3.0</td>\n",
       "      <td>891717742</td>\n",
       "      <td>185</td>\n",
       "      <td>301</td>\n",
       "    </tr>\n",
       "    <tr>\n",
       "      <th>2</th>\n",
       "      <td>22</td>\n",
       "      <td>377</td>\n",
       "      <td>1.0</td>\n",
       "      <td>878887116</td>\n",
       "      <td>21</td>\n",
       "      <td>376</td>\n",
       "    </tr>\n",
       "    <tr>\n",
       "      <th>3</th>\n",
       "      <td>244</td>\n",
       "      <td>51</td>\n",
       "      <td>2.0</td>\n",
       "      <td>880606923</td>\n",
       "      <td>243</td>\n",
       "      <td>50</td>\n",
       "    </tr>\n",
       "    <tr>\n",
       "      <th>4</th>\n",
       "      <td>166</td>\n",
       "      <td>346</td>\n",
       "      <td>1.0</td>\n",
       "      <td>886397596</td>\n",
       "      <td>165</td>\n",
       "      <td>345</td>\n",
       "    </tr>\n",
       "    <tr>\n",
       "      <th>...</th>\n",
       "      <td>...</td>\n",
       "      <td>...</td>\n",
       "      <td>...</td>\n",
       "      <td>...</td>\n",
       "      <td>...</td>\n",
       "      <td>...</td>\n",
       "    </tr>\n",
       "    <tr>\n",
       "      <th>99995</th>\n",
       "      <td>880</td>\n",
       "      <td>476</td>\n",
       "      <td>3.0</td>\n",
       "      <td>880175444</td>\n",
       "      <td>879</td>\n",
       "      <td>475</td>\n",
       "    </tr>\n",
       "    <tr>\n",
       "      <th>99996</th>\n",
       "      <td>716</td>\n",
       "      <td>204</td>\n",
       "      <td>5.0</td>\n",
       "      <td>879795543</td>\n",
       "      <td>715</td>\n",
       "      <td>203</td>\n",
       "    </tr>\n",
       "    <tr>\n",
       "      <th>99997</th>\n",
       "      <td>276</td>\n",
       "      <td>1090</td>\n",
       "      <td>1.0</td>\n",
       "      <td>874795795</td>\n",
       "      <td>275</td>\n",
       "      <td>1089</td>\n",
       "    </tr>\n",
       "    <tr>\n",
       "      <th>99998</th>\n",
       "      <td>13</td>\n",
       "      <td>225</td>\n",
       "      <td>2.0</td>\n",
       "      <td>882399156</td>\n",
       "      <td>12</td>\n",
       "      <td>224</td>\n",
       "    </tr>\n",
       "    <tr>\n",
       "      <th>99999</th>\n",
       "      <td>12</td>\n",
       "      <td>203</td>\n",
       "      <td>3.0</td>\n",
       "      <td>879959583</td>\n",
       "      <td>11</td>\n",
       "      <td>202</td>\n",
       "    </tr>\n",
       "  </tbody>\n",
       "</table>\n",
       "<p>100000 rows × 6 columns</p>\n",
       "</div>"
      ],
      "text/plain": [
       "       user_id  item_id  rating  timestamp  le_UserID  le_ItemID\n",
       "0          196      242     3.0  881250949        195        241\n",
       "1          186      302     3.0  891717742        185        301\n",
       "2           22      377     1.0  878887116         21        376\n",
       "3          244       51     2.0  880606923        243         50\n",
       "4          166      346     1.0  886397596        165        345\n",
       "...        ...      ...     ...        ...        ...        ...\n",
       "99995      880      476     3.0  880175444        879        475\n",
       "99996      716      204     5.0  879795543        715        203\n",
       "99997      276     1090     1.0  874795795        275       1089\n",
       "99998       13      225     2.0  882399156         12        224\n",
       "99999       12      203     3.0  879959583         11        202\n",
       "\n",
       "[100000 rows x 6 columns]"
      ]
     },
     "execution_count": 256,
     "metadata": {},
     "output_type": "execute_result"
    }
   ],
   "source": [
    "df['le_UserID'] = le1.fit_transform(df.user_id)\n",
    "df['le_ItemID'] = le1.fit_transform(df.item_id)\n",
    "\n",
    "df"
   ]
  },
  {
   "cell_type": "code",
   "execution_count": 258,
   "id": "agricultural-return",
   "metadata": {},
   "outputs": [],
   "source": [
    "val_tensor = torch.LongTensor(df[['le_UserID', 'le_ItemID']].values).to(device)\n",
    "pred = model(torch.LongTensor(df[['le_UserID', 'le_ItemID']].values).to(device))"
   ]
  },
  {
   "cell_type": "code",
   "execution_count": 259,
   "id": "pacific-bishop",
   "metadata": {},
   "outputs": [],
   "source": [
    "df['pred_rating'] = pred.to('cpu').detach().numpy()"
   ]
  },
  {
   "cell_type": "code",
   "execution_count": 260,
   "id": "perfect-lodging",
   "metadata": {},
   "outputs": [
    {
     "data": {
      "text/html": [
       "<div>\n",
       "<style scoped>\n",
       "    .dataframe tbody tr th:only-of-type {\n",
       "        vertical-align: middle;\n",
       "    }\n",
       "\n",
       "    .dataframe tbody tr th {\n",
       "        vertical-align: top;\n",
       "    }\n",
       "\n",
       "    .dataframe thead th {\n",
       "        text-align: right;\n",
       "    }\n",
       "</style>\n",
       "<table border=\"1\" class=\"dataframe\">\n",
       "  <thead>\n",
       "    <tr style=\"text-align: right;\">\n",
       "      <th></th>\n",
       "      <th>user_id</th>\n",
       "      <th>item_id</th>\n",
       "      <th>rating</th>\n",
       "      <th>timestamp</th>\n",
       "      <th>le_UserID</th>\n",
       "      <th>le_ItemID</th>\n",
       "      <th>pred_rating</th>\n",
       "    </tr>\n",
       "  </thead>\n",
       "  <tbody>\n",
       "    <tr>\n",
       "      <th>0</th>\n",
       "      <td>196</td>\n",
       "      <td>242</td>\n",
       "      <td>3.0</td>\n",
       "      <td>881250949</td>\n",
       "      <td>195</td>\n",
       "      <td>241</td>\n",
       "      <td>3.531374</td>\n",
       "    </tr>\n",
       "    <tr>\n",
       "      <th>1</th>\n",
       "      <td>186</td>\n",
       "      <td>302</td>\n",
       "      <td>3.0</td>\n",
       "      <td>891717742</td>\n",
       "      <td>185</td>\n",
       "      <td>301</td>\n",
       "      <td>2.474723</td>\n",
       "    </tr>\n",
       "    <tr>\n",
       "      <th>2</th>\n",
       "      <td>22</td>\n",
       "      <td>377</td>\n",
       "      <td>1.0</td>\n",
       "      <td>878887116</td>\n",
       "      <td>21</td>\n",
       "      <td>376</td>\n",
       "      <td>0.151213</td>\n",
       "    </tr>\n",
       "    <tr>\n",
       "      <th>3</th>\n",
       "      <td>244</td>\n",
       "      <td>51</td>\n",
       "      <td>2.0</td>\n",
       "      <td>880606923</td>\n",
       "      <td>243</td>\n",
       "      <td>50</td>\n",
       "      <td>1.888791</td>\n",
       "    </tr>\n",
       "    <tr>\n",
       "      <th>4</th>\n",
       "      <td>166</td>\n",
       "      <td>346</td>\n",
       "      <td>1.0</td>\n",
       "      <td>886397596</td>\n",
       "      <td>165</td>\n",
       "      <td>345</td>\n",
       "      <td>0.281685</td>\n",
       "    </tr>\n",
       "    <tr>\n",
       "      <th>...</th>\n",
       "      <td>...</td>\n",
       "      <td>...</td>\n",
       "      <td>...</td>\n",
       "      <td>...</td>\n",
       "      <td>...</td>\n",
       "      <td>...</td>\n",
       "      <td>...</td>\n",
       "    </tr>\n",
       "    <tr>\n",
       "      <th>99995</th>\n",
       "      <td>880</td>\n",
       "      <td>476</td>\n",
       "      <td>3.0</td>\n",
       "      <td>880175444</td>\n",
       "      <td>879</td>\n",
       "      <td>475</td>\n",
       "      <td>3.136700</td>\n",
       "    </tr>\n",
       "    <tr>\n",
       "      <th>99996</th>\n",
       "      <td>716</td>\n",
       "      <td>204</td>\n",
       "      <td>5.0</td>\n",
       "      <td>879795543</td>\n",
       "      <td>715</td>\n",
       "      <td>203</td>\n",
       "      <td>4.744420</td>\n",
       "    </tr>\n",
       "    <tr>\n",
       "      <th>99997</th>\n",
       "      <td>276</td>\n",
       "      <td>1090</td>\n",
       "      <td>1.0</td>\n",
       "      <td>874795795</td>\n",
       "      <td>275</td>\n",
       "      <td>1089</td>\n",
       "      <td>2.139551</td>\n",
       "    </tr>\n",
       "    <tr>\n",
       "      <th>99998</th>\n",
       "      <td>13</td>\n",
       "      <td>225</td>\n",
       "      <td>2.0</td>\n",
       "      <td>882399156</td>\n",
       "      <td>12</td>\n",
       "      <td>224</td>\n",
       "      <td>2.008213</td>\n",
       "    </tr>\n",
       "    <tr>\n",
       "      <th>99999</th>\n",
       "      <td>12</td>\n",
       "      <td>203</td>\n",
       "      <td>3.0</td>\n",
       "      <td>879959583</td>\n",
       "      <td>11</td>\n",
       "      <td>202</td>\n",
       "      <td>3.042087</td>\n",
       "    </tr>\n",
       "  </tbody>\n",
       "</table>\n",
       "<p>100000 rows × 7 columns</p>\n",
       "</div>"
      ],
      "text/plain": [
       "       user_id  item_id  rating  timestamp  le_UserID  le_ItemID  pred_rating\n",
       "0          196      242     3.0  881250949        195        241     3.531374\n",
       "1          186      302     3.0  891717742        185        301     2.474723\n",
       "2           22      377     1.0  878887116         21        376     0.151213\n",
       "3          244       51     2.0  880606923        243         50     1.888791\n",
       "4          166      346     1.0  886397596        165        345     0.281685\n",
       "...        ...      ...     ...        ...        ...        ...          ...\n",
       "99995      880      476     3.0  880175444        879        475     3.136700\n",
       "99996      716      204     5.0  879795543        715        203     4.744420\n",
       "99997      276     1090     1.0  874795795        275       1089     2.139551\n",
       "99998       13      225     2.0  882399156         12        224     2.008213\n",
       "99999       12      203     3.0  879959583         11        202     3.042087\n",
       "\n",
       "[100000 rows x 7 columns]"
      ]
     },
     "execution_count": 260,
     "metadata": {},
     "output_type": "execute_result"
    }
   ],
   "source": [
    "df"
   ]
  },
  {
   "cell_type": "code",
   "execution_count": 266,
   "id": "reflected-formation",
   "metadata": {},
   "outputs": [],
   "source": [
    "from sklearn.metrics import mean_squared_error"
   ]
  },
  {
   "cell_type": "code",
   "execution_count": 267,
   "id": "verified-syracuse",
   "metadata": {},
   "outputs": [
    {
     "data": {
      "text/plain": [
       "0.6289450055305855"
      ]
     },
     "execution_count": 267,
     "metadata": {},
     "output_type": "execute_result"
    }
   ],
   "source": [
    "mean_squared_error(df['rating'], df['pred_rating'])"
   ]
  },
  {
   "cell_type": "code",
   "execution_count": 277,
   "id": "premium-maryland",
   "metadata": {},
   "outputs": [
    {
     "data": {
      "text/plain": [
       "0.628945005530569"
      ]
     },
     "execution_count": 277,
     "metadata": {},
     "output_type": "execute_result"
    }
   ],
   "source": [
    "sum((df['rating'] - df['pred_rating']) ** 2) / len(df)"
   ]
  },
  {
   "cell_type": "code",
   "execution_count": 280,
   "id": "boxed-dating",
   "metadata": {},
   "outputs": [
    {
     "data": {
      "text/plain": [
       "<All keys matched successfully>"
      ]
     },
     "execution_count": 280,
     "metadata": {},
     "output_type": "execute_result"
    }
   ],
   "source": [
    "model2 = MF(943, 1682, emb_size = 128).to(device)\n",
    "\n",
    "model_path = './weights/nmf_10.pt'\n",
    "\n",
    "model2.load_state_dict(torch.load(model_path))"
   ]
  },
  {
   "cell_type": "code",
   "execution_count": 281,
   "id": "productive-melbourne",
   "metadata": {},
   "outputs": [
    {
     "data": {
      "text/plain": [
       "MF(\n",
       "  (user_emb): Embedding(943, 128)\n",
       "  (item_emb): Embedding(1682, 128)\n",
       ")"
      ]
     },
     "execution_count": 281,
     "metadata": {},
     "output_type": "execute_result"
    }
   ],
   "source": [
    "model2"
   ]
  },
  {
   "cell_type": "code",
   "execution_count": 282,
   "id": "funny-terry",
   "metadata": {},
   "outputs": [
    {
     "data": {
      "text/plain": [
       "MF(\n",
       "  (user_emb): Embedding(943, 128)\n",
       "  (item_emb): Embedding(1682, 128)\n",
       ")"
      ]
     },
     "execution_count": 282,
     "metadata": {},
     "output_type": "execute_result"
    }
   ],
   "source": [
    "model2.eval()"
   ]
  },
  {
   "cell_type": "code",
   "execution_count": 289,
   "id": "individual-tampa",
   "metadata": {},
   "outputs": [
    {
     "name": "stdout",
     "output_type": "stream",
     "text": [
      "start : 0 epoch\n",
      "e1:loss : 0.0006637969054281712\n",
      "start : 1 epoch\n",
      "e2:loss : 0.0006637969054281712\n",
      "start : 2 epoch\n",
      "e3:loss : 0.0006637969054281712\n",
      "start : 3 epoch\n",
      "e4:loss : 0.0006637969054281712\n",
      "start : 4 epoch\n",
      "e5:loss : 0.0006637969054281712\n",
      "start : 5 epoch\n",
      "e6:loss : 0.0006637969054281712\n",
      "start : 6 epoch\n",
      "e7:loss : 0.0006637969054281712\n",
      "start : 7 epoch\n",
      "e8:loss : 0.0006637969054281712\n",
      "start : 8 epoch\n",
      "e9:loss : 0.0006637969054281712\n",
      "start : 9 epoch\n",
      "e10:loss : 0.0006637969054281712\n",
      "training complete\n"
     ]
    }
   ],
   "source": [
    "model2.train()\n",
    "\n",
    "EPOCHS = 10\n",
    "\n",
    "for e in range(EPOCHS):\n",
    "    print('start : ' + str(e) + ' epoch')\n",
    "    avg_loss = 0\n",
    "    for batch_idx, (x, y) in enumerate(train_loader):\n",
    "        x, y = x.to(device), y.to(device)\n",
    "        optimizer.zero_grad()\n",
    "        y_hat = model2(x)\n",
    "        loss = loss_fn(y_hat, y)\n",
    "        avg_loss += loss.item()\n",
    "        loss.backward()\n",
    "        optimizer.step()\n",
    "    torch.save(model2.state_dict(), \"./weights2/{}_{}.pt\".format(log_model, e+1))\n",
    "    print(\"e{}:loss : {}\".format(e+1, loss/(batch_idx + 1)))\n",
    "    logger.info(\"e{} : loss : {}\".format(e+1, loss/(batch_idx + 1)))\n",
    "print('training complete')\n"
   ]
  },
  {
   "cell_type": "code",
   "execution_count": 290,
   "id": "atmospheric-consultation",
   "metadata": {},
   "outputs": [],
   "source": [
    "val_tensor2 = torch.LongTensor(df[['le_UserID', 'le_ItemID']].values).to(device)\n",
    "pred2 = model2(torch.LongTensor(df[['le_UserID', 'le_ItemID']].values).to(device))"
   ]
  },
  {
   "cell_type": "code",
   "execution_count": 291,
   "id": "blind-occasions",
   "metadata": {},
   "outputs": [],
   "source": [
    "df['pred_rating2'] = pred2.to('cpu').detach().numpy()"
   ]
  },
  {
   "cell_type": "code",
   "execution_count": 292,
   "id": "technological-chicago",
   "metadata": {},
   "outputs": [
    {
     "data": {
      "text/html": [
       "<div>\n",
       "<style scoped>\n",
       "    .dataframe tbody tr th:only-of-type {\n",
       "        vertical-align: middle;\n",
       "    }\n",
       "\n",
       "    .dataframe tbody tr th {\n",
       "        vertical-align: top;\n",
       "    }\n",
       "\n",
       "    .dataframe thead th {\n",
       "        text-align: right;\n",
       "    }\n",
       "</style>\n",
       "<table border=\"1\" class=\"dataframe\">\n",
       "  <thead>\n",
       "    <tr style=\"text-align: right;\">\n",
       "      <th></th>\n",
       "      <th>user_id</th>\n",
       "      <th>item_id</th>\n",
       "      <th>rating</th>\n",
       "      <th>timestamp</th>\n",
       "      <th>le_UserID</th>\n",
       "      <th>le_ItemID</th>\n",
       "      <th>pred_rating</th>\n",
       "      <th>pred_rating2</th>\n",
       "    </tr>\n",
       "  </thead>\n",
       "  <tbody>\n",
       "    <tr>\n",
       "      <th>0</th>\n",
       "      <td>196</td>\n",
       "      <td>242</td>\n",
       "      <td>3.0</td>\n",
       "      <td>881250949</td>\n",
       "      <td>195</td>\n",
       "      <td>241</td>\n",
       "      <td>3.531374</td>\n",
       "      <td>3.531374</td>\n",
       "    </tr>\n",
       "    <tr>\n",
       "      <th>1</th>\n",
       "      <td>186</td>\n",
       "      <td>302</td>\n",
       "      <td>3.0</td>\n",
       "      <td>891717742</td>\n",
       "      <td>185</td>\n",
       "      <td>301</td>\n",
       "      <td>2.474723</td>\n",
       "      <td>2.474723</td>\n",
       "    </tr>\n",
       "    <tr>\n",
       "      <th>2</th>\n",
       "      <td>22</td>\n",
       "      <td>377</td>\n",
       "      <td>1.0</td>\n",
       "      <td>878887116</td>\n",
       "      <td>21</td>\n",
       "      <td>376</td>\n",
       "      <td>0.151213</td>\n",
       "      <td>0.151213</td>\n",
       "    </tr>\n",
       "    <tr>\n",
       "      <th>3</th>\n",
       "      <td>244</td>\n",
       "      <td>51</td>\n",
       "      <td>2.0</td>\n",
       "      <td>880606923</td>\n",
       "      <td>243</td>\n",
       "      <td>50</td>\n",
       "      <td>1.888791</td>\n",
       "      <td>1.888791</td>\n",
       "    </tr>\n",
       "    <tr>\n",
       "      <th>4</th>\n",
       "      <td>166</td>\n",
       "      <td>346</td>\n",
       "      <td>1.0</td>\n",
       "      <td>886397596</td>\n",
       "      <td>165</td>\n",
       "      <td>345</td>\n",
       "      <td>0.281685</td>\n",
       "      <td>0.281685</td>\n",
       "    </tr>\n",
       "    <tr>\n",
       "      <th>...</th>\n",
       "      <td>...</td>\n",
       "      <td>...</td>\n",
       "      <td>...</td>\n",
       "      <td>...</td>\n",
       "      <td>...</td>\n",
       "      <td>...</td>\n",
       "      <td>...</td>\n",
       "      <td>...</td>\n",
       "    </tr>\n",
       "    <tr>\n",
       "      <th>99995</th>\n",
       "      <td>880</td>\n",
       "      <td>476</td>\n",
       "      <td>3.0</td>\n",
       "      <td>880175444</td>\n",
       "      <td>879</td>\n",
       "      <td>475</td>\n",
       "      <td>3.136700</td>\n",
       "      <td>3.136700</td>\n",
       "    </tr>\n",
       "    <tr>\n",
       "      <th>99996</th>\n",
       "      <td>716</td>\n",
       "      <td>204</td>\n",
       "      <td>5.0</td>\n",
       "      <td>879795543</td>\n",
       "      <td>715</td>\n",
       "      <td>203</td>\n",
       "      <td>4.744420</td>\n",
       "      <td>4.744420</td>\n",
       "    </tr>\n",
       "    <tr>\n",
       "      <th>99997</th>\n",
       "      <td>276</td>\n",
       "      <td>1090</td>\n",
       "      <td>1.0</td>\n",
       "      <td>874795795</td>\n",
       "      <td>275</td>\n",
       "      <td>1089</td>\n",
       "      <td>2.139551</td>\n",
       "      <td>2.139551</td>\n",
       "    </tr>\n",
       "    <tr>\n",
       "      <th>99998</th>\n",
       "      <td>13</td>\n",
       "      <td>225</td>\n",
       "      <td>2.0</td>\n",
       "      <td>882399156</td>\n",
       "      <td>12</td>\n",
       "      <td>224</td>\n",
       "      <td>2.008213</td>\n",
       "      <td>2.008213</td>\n",
       "    </tr>\n",
       "    <tr>\n",
       "      <th>99999</th>\n",
       "      <td>12</td>\n",
       "      <td>203</td>\n",
       "      <td>3.0</td>\n",
       "      <td>879959583</td>\n",
       "      <td>11</td>\n",
       "      <td>202</td>\n",
       "      <td>3.042087</td>\n",
       "      <td>3.042087</td>\n",
       "    </tr>\n",
       "  </tbody>\n",
       "</table>\n",
       "<p>100000 rows × 8 columns</p>\n",
       "</div>"
      ],
      "text/plain": [
       "       user_id  item_id  rating  timestamp  le_UserID  le_ItemID  pred_rating  \\\n",
       "0          196      242     3.0  881250949        195        241     3.531374   \n",
       "1          186      302     3.0  891717742        185        301     2.474723   \n",
       "2           22      377     1.0  878887116         21        376     0.151213   \n",
       "3          244       51     2.0  880606923        243         50     1.888791   \n",
       "4          166      346     1.0  886397596        165        345     0.281685   \n",
       "...        ...      ...     ...        ...        ...        ...          ...   \n",
       "99995      880      476     3.0  880175444        879        475     3.136700   \n",
       "99996      716      204     5.0  879795543        715        203     4.744420   \n",
       "99997      276     1090     1.0  874795795        275       1089     2.139551   \n",
       "99998       13      225     2.0  882399156         12        224     2.008213   \n",
       "99999       12      203     3.0  879959583         11        202     3.042087   \n",
       "\n",
       "       pred_rating2  \n",
       "0          3.531374  \n",
       "1          2.474723  \n",
       "2          0.151213  \n",
       "3          1.888791  \n",
       "4          0.281685  \n",
       "...             ...  \n",
       "99995      3.136700  \n",
       "99996      4.744420  \n",
       "99997      2.139551  \n",
       "99998      2.008213  \n",
       "99999      3.042087  \n",
       "\n",
       "[100000 rows x 8 columns]"
      ]
     },
     "execution_count": 292,
     "metadata": {},
     "output_type": "execute_result"
    }
   ],
   "source": [
    "df"
   ]
  }
 ],
 "metadata": {
  "kernelspec": {
   "display_name": "Python 3",
   "language": "python",
   "name": "python3"
  },
  "language_info": {
   "codemirror_mode": {
    "name": "ipython",
    "version": 3
   },
   "file_extension": ".py",
   "mimetype": "text/x-python",
   "name": "python",
   "nbconvert_exporter": "python",
   "pygments_lexer": "ipython3",
   "version": "3.7.10"
  }
 },
 "nbformat": 4,
 "nbformat_minor": 5
}
